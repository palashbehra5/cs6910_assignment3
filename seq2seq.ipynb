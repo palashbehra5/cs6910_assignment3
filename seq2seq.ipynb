{
 "cells": [
  {
   "cell_type": "code",
   "execution_count": 5,
   "metadata": {},
   "outputs": [
    {
     "name": "stderr",
     "output_type": "stream",
     "text": [
      "100%|██████████| 972/972 [00:40<00:00, 23.94it/s]"
     ]
    },
    {
     "name": "stdout",
     "output_type": "stream",
     "text": [
      "PASSED 972 CONFIGS.\n"
     ]
    },
    {
     "name": "stderr",
     "output_type": "stream",
     "text": [
      "\n"
     ]
    }
   ],
   "source": [
    "import numpy as np\n",
    "import torch\n",
    "import torch.nn as nn\n",
    "import torch.optim as optim\n",
    "import random\n",
    "from model import seq2seq, test_model_instance\n",
    "\n",
    "BATCH_SIZE = 64\n",
    "\n",
    "x_train = np.loadtxt(\"akshar_sequences//x_train.csv\", delimiter=\",\", dtype=int)\n",
    "y_train = np.loadtxt(\"akshar_sequences//y_train.csv\", delimiter=\",\", dtype=int)\n",
    "x_test = np.loadtxt(\"akshar_sequences//x_test.csv\", delimiter=\",\", dtype=int)\n",
    "y_test = np.loadtxt(\"akshar_sequences//y_test.csv\", delimiter=\",\", dtype=int)\n",
    "x_val = np.loadtxt(\"akshar_sequences//x_val.csv\", delimiter=\",\", dtype=int)\n",
    "y_val = np.loadtxt(\"akshar_sequences//y_val.csv\", delimiter=\",\", dtype=int)\n",
    "\n",
    "\n",
    "class SequenceDataset(torch.utils.data.Dataset):\n",
    "    def __init__(self, x, y):\n",
    "        self.x = x\n",
    "        self.y = y\n",
    "    \n",
    "    def __getitem__(self, index):\n",
    "        x = torch.from_numpy(self.x[index]).long() \n",
    "        y = torch.from_numpy(self.y[index]).long() \n",
    "        return x, y\n",
    "    \n",
    "    def __len__(self):\n",
    "        return len(self.x)\n",
    "\n",
    "train_dataset = SequenceDataset(x_train, y_train)\n",
    "val_dataset = SequenceDataset(x_val, y_val)\n",
    "test_dataset = SequenceDataset(x_test, y_test)\n",
    "\n",
    "train_loader = torch.utils.data.DataLoader(train_dataset, batch_size=BATCH_SIZE, shuffle=True)\n",
    "val_loader = torch.utils.data.DataLoader(val_dataset, batch_size=BATCH_SIZE, shuffle=True)\n",
    "test_loader = torch.utils.data.DataLoader(test_dataset, batch_size=BATCH_SIZE, shuffle=False)\n",
    "\n",
    "config = {\n",
    "    'input_embedding_size': [32],\n",
    "    'num_encoder_layers': [1, 2, 3],\n",
    "    'num_decoder_layers': [1, 2, 3],\n",
    "    'hidden_layer_size': [128],\n",
    "    'cell_type_encoder': ['LSTM', 'GRU', 'RNN'],\n",
    "    'cell_type_decoder': ['LSTM', 'GRU', 'RNN'],\n",
    "    'bidirectional': [0, 1],\n",
    "    'dropout': [0, 0.2],\n",
    "    'teacher_forcing': [0, 0.5, 1]\n",
    "}\n",
    "\n",
    "test_model_instance(config)"
   ]
  },
  {
   "cell_type": "code",
   "execution_count": 12,
   "metadata": {},
   "outputs": [
    {
     "name": "stderr",
     "output_type": "stream",
     "text": [
      "Failed to detect the name of this notebook, you can set it manually with the WANDB_NOTEBOOK_NAME environment variable to enable code saving.\n",
      "\u001b[34m\u001b[1mwandb\u001b[0m: Currently logged in as: \u001b[33mcs22m061\u001b[0m (\u001b[33mnihil666\u001b[0m). Use \u001b[1m`wandb login --relogin`\u001b[0m to force relogin\n"
     ]
    },
    {
     "name": "stdout",
     "output_type": "stream",
     "text": [
      "Create sweep with ID: 8amgx3rv\n",
      "Sweep URL: https://wandb.ai/nihil666/dummy_runs/sweeps/8amgx3rv\n"
     ]
    },
    {
     "name": "stderr",
     "output_type": "stream",
     "text": [
      "\u001b[34m\u001b[1mwandb\u001b[0m: Agent Starting Run: hjgg91b8 with config:\n",
      "\u001b[34m\u001b[1mwandb\u001b[0m: \tbidirectional: 1\n",
      "\u001b[34m\u001b[1mwandb\u001b[0m: \tcell_type_decoder: LSTM\n",
      "\u001b[34m\u001b[1mwandb\u001b[0m: \tcell_type_encoder: GRU\n",
      "\u001b[34m\u001b[1mwandb\u001b[0m: \tdropout: 0\n",
      "\u001b[34m\u001b[1mwandb\u001b[0m: \thidden_layer_size: 128\n",
      "\u001b[34m\u001b[1mwandb\u001b[0m: \tinput_embedding_size: 256\n",
      "\u001b[34m\u001b[1mwandb\u001b[0m: \tnum_decoder_layers: 3\n",
      "\u001b[34m\u001b[1mwandb\u001b[0m: \tnum_encoder_layers: 4\n",
      "\u001b[34m\u001b[1mwandb\u001b[0m: \tteacher_forcing: 1\n",
      "Failed to detect the name of this notebook, you can set it manually with the WANDB_NOTEBOOK_NAME environment variable to enable code saving.\n"
     ]
    },
    {
     "data": {
      "text/html": [
       "wandb version 0.15.2 is available!  To upgrade, please run:\n",
       " $ pip install wandb --upgrade"
      ],
      "text/plain": [
       "<IPython.core.display.HTML object>"
      ]
     },
     "metadata": {},
     "output_type": "display_data"
    },
    {
     "data": {
      "text/html": [
       "Tracking run with wandb version 0.13.10"
      ],
      "text/plain": [
       "<IPython.core.display.HTML object>"
      ]
     },
     "metadata": {},
     "output_type": "display_data"
    },
    {
     "data": {
      "text/html": [
       "Run data is saved locally in <code>c:\\Users\\palas\\Desktop\\IOT\\cs6910_assignment3\\wandb\\run-20230511_214941-hjgg91b8</code>"
      ],
      "text/plain": [
       "<IPython.core.display.HTML object>"
      ]
     },
     "metadata": {},
     "output_type": "display_data"
    },
    {
     "data": {
      "text/html": [
       "Syncing run <strong><a href='https://wandb.ai/nihil666/dummy_runs/runs/hjgg91b8' target=\"_blank\">kind-sweep-1</a></strong> to <a href='https://wandb.ai/nihil666/dummy_runs' target=\"_blank\">Weights & Biases</a> (<a href='https://wandb.me/run' target=\"_blank\">docs</a>)<br/>Sweep page: <a href='https://wandb.ai/nihil666/dummy_runs/sweeps/8amgx3rv' target=\"_blank\">https://wandb.ai/nihil666/dummy_runs/sweeps/8amgx3rv</a>"
      ],
      "text/plain": [
       "<IPython.core.display.HTML object>"
      ]
     },
     "metadata": {},
     "output_type": "display_data"
    },
    {
     "data": {
      "text/html": [
       " View project at <a href='https://wandb.ai/nihil666/dummy_runs' target=\"_blank\">https://wandb.ai/nihil666/dummy_runs</a>"
      ],
      "text/plain": [
       "<IPython.core.display.HTML object>"
      ]
     },
     "metadata": {},
     "output_type": "display_data"
    },
    {
     "data": {
      "text/html": [
       " View sweep at <a href='https://wandb.ai/nihil666/dummy_runs/sweeps/8amgx3rv' target=\"_blank\">https://wandb.ai/nihil666/dummy_runs/sweeps/8amgx3rv</a>"
      ],
      "text/plain": [
       "<IPython.core.display.HTML object>"
      ]
     },
     "metadata": {},
     "output_type": "display_data"
    },
    {
     "data": {
      "text/html": [
       " View run at <a href='https://wandb.ai/nihil666/dummy_runs/runs/hjgg91b8' target=\"_blank\">https://wandb.ai/nihil666/dummy_runs/runs/hjgg91b8</a>"
      ],
      "text/plain": [
       "<IPython.core.display.HTML object>"
      ]
     },
     "metadata": {},
     "output_type": "display_data"
    }
   ],
   "source": [
    "import wandb\n",
    "from model import compare_sequences, seq2seq\n",
    "\n",
    "wandb.login()\n",
    "\n",
    "sweep_config = {\n",
    "    \"method\": \"random\",\n",
    "    'parameters': {\n",
    "        'input_embedding_size': {'values': [64, 128, 256]},\n",
    "        'num_encoder_layers': {'values': [2, 3, 4]},\n",
    "        'num_decoder_layers': {'values': [2, 3, 4]},\n",
    "        'hidden_layer_size' : {'values' : [128,256,512,1024]},\n",
    "        'cell_type_encoder' : {'values' : ['LSTM','GRU','RNN']},\n",
    "        'cell_type_decoder' : {'values' : ['LSTM','GRU','RNN']},\n",
    "        'bidirectional' : {'values' : [0, 1]},\n",
    "        'dropout' : {'values' : [0,0.2,0.3]},\n",
    "        'teacher_forcing' : {'values' : [0, 0.5, 0.75, 1]}\n",
    "    }\n",
    "}\n",
    "\n",
    "sweep_id = wandb.sweep(sweep_config, project=\"dummy_runs\")\n",
    "\n",
    "def train(config=None):\n",
    "   \n",
    "    wandb.init(config=config)\n",
    "    run_name = \"ies_\"+str(wandb.config.input_embedding_size)+\"_nel_\"+str(wandb.config.num_encoder_layers)+\"_ndl_\"+str(wandb.config.num_decoder_layers)+\"_hls_\"+str(wandb.config.hidden_layer_size)+\"_cte_\"+str(wandb.config.cell_type_encoder)+\"_ctd_\"+str(wandb.config.cell_type_decoder)+\"_tf_\"+str(wandb.config.teacher_forcing)\n",
    "    wandb.run.name = run_name\n",
    "    config = wandb.config\n",
    "\n",
    "    VOCAB_SIZE = 131\n",
    "    EMBEDDING_DIM = config.input_embedding_size\n",
    "    HIDDEN_DIM = config.hidden_layer_size\n",
    "    EPOCHS = 20\n",
    "    NUM_LAYERS_ENCODER = config.num_encoder_layers\n",
    "    NUM_LAYERS_DECODER =config.num_decoder_layers\n",
    "    DROPOUT = config.dropout\n",
    "    BIDIRECTIONAL = config.bidirectional\n",
    "    CELL_TYPE_ENCODER = config.cell_type_encoder\n",
    "    CELL_TYPE_DECODER = config.cell_type_decoder\n",
    "    TEACHER_FORCING = config.teacher_forcing\n",
    "    MAX_SEQ_SIZE = 28\n",
    "\n",
    "    device = torch.device('cuda' if torch.cuda.is_available() else 'cpu')\n",
    "\n",
    "    model = seq2seq(VOCAB_SIZE, EMBEDDING_DIM, HIDDEN_DIM, NUM_LAYERS_ENCODER, NUM_LAYERS_DECODER, \n",
    "                    DROPOUT, BIDIRECTIONAL, CELL_TYPE_ENCODER, CELL_TYPE_DECODER, TEACHER_FORCING, \n",
    "                    BATCH_SIZE, MAX_SEQ_SIZE, debugging = False)\n",
    "\n",
    "    model = model.to(device)\n",
    "\n",
    "    criterion = nn.CrossEntropyLoss()\n",
    "    optimizer = optim.Adam(model.parameters())\n",
    "\n",
    "    for epoch in range(EPOCHS):\n",
    "        \n",
    "        model.train()\n",
    "        running_loss = 0.0\n",
    "        train_accuracy = 0\n",
    "        val_accuracy = 0\n",
    "        \n",
    "        for batch_idx, (inputs, targets) in (enumerate(train_loader)):\n",
    "            \n",
    "            inputs = inputs.to(device)\n",
    "            targets = targets.to(device)\n",
    "            \n",
    "            optimizer.zero_grad()\n",
    "            outputs = model(inputs, targets)\n",
    "            \n",
    "            train_accuracy += compare_sequences(targets, outputs)\n",
    "\n",
    "            loss = criterion(outputs.reshape(-1, model.output_size), targets.reshape(-1))\n",
    "            loss.backward()\n",
    "            optimizer.step()\n",
    "            \n",
    "            running_loss += loss.item()\n",
    "        \n",
    "\n",
    "        model.eval()\n",
    "        val_loss = 0.0\n",
    "        \n",
    "        with torch.no_grad():\n",
    "            for inputs, targets in (val_loader):\n",
    "            \n",
    "                inputs = inputs.to(device)\n",
    "                targets = targets.to(device)\n",
    "                outputs = model(inputs, targets)\n",
    "\n",
    "                loss = criterion(outputs.reshape(-1, model.output_size), targets.reshape(-1))\n",
    "                val_accuracy += compare_sequences(targets, outputs)\n",
    "                \n",
    "                val_loss += loss.item()\n",
    "        \n",
    "        wandb.log({\"train_loss\": running_loss/len(train_loader), \"val_loss\": val_loss/len(val_loader), \"epochs\" : epoch, \n",
    "                   \"training_accuracy\" : train_accuracy/len(train_dataset), \"val_accuracy\" : val_accuracy/len(val_dataset)})       \n",
    "        \n",
    "        torch.cuda.empty_cache()\n",
    "\n",
    "wandb.agent(sweep_id, train, count = 20) "
   ]
  },
  {
   "cell_type": "code",
   "execution_count": 11,
   "metadata": {},
   "outputs": [
    {
     "name": "stderr",
     "output_type": "stream",
     "text": [
      "188it [02:03,  1.52it/s]\n"
     ]
    },
    {
     "ename": "KeyboardInterrupt",
     "evalue": "",
     "output_type": "error",
     "traceback": [
      "\u001b[1;31m---------------------------------------------------------------------------\u001b[0m",
      "\u001b[1;31mKeyboardInterrupt\u001b[0m                         Traceback (most recent call last)",
      "\u001b[1;32mc:\\Users\\palas\\Desktop\\IOT\\cs6910_assignment3\\training.ipynb Cell 3\u001b[0m in \u001b[0;36m<cell line: 32>\u001b[1;34m()\u001b[0m\n\u001b[0;32m     <a href='vscode-notebook-cell:/c%3A/Users/palas/Desktop/IOT/cs6910_assignment3/training.ipynb#W6sZmlsZQ%3D%3D?line=46'>47</a>\u001b[0m train_accuracy \u001b[39m+\u001b[39m\u001b[39m=\u001b[39m compare_sequences(targets, outputs)\n\u001b[0;32m     <a href='vscode-notebook-cell:/c%3A/Users/palas/Desktop/IOT/cs6910_assignment3/training.ipynb#W6sZmlsZQ%3D%3D?line=48'>49</a>\u001b[0m loss \u001b[39m=\u001b[39m criterion(outputs\u001b[39m.\u001b[39mreshape(\u001b[39m-\u001b[39m\u001b[39m1\u001b[39m, model\u001b[39m.\u001b[39moutput_size), targets\u001b[39m.\u001b[39mreshape(\u001b[39m-\u001b[39m\u001b[39m1\u001b[39m))\n\u001b[1;32m---> <a href='vscode-notebook-cell:/c%3A/Users/palas/Desktop/IOT/cs6910_assignment3/training.ipynb#W6sZmlsZQ%3D%3D?line=49'>50</a>\u001b[0m loss\u001b[39m.\u001b[39;49mbackward()\n\u001b[0;32m     <a href='vscode-notebook-cell:/c%3A/Users/palas/Desktop/IOT/cs6910_assignment3/training.ipynb#W6sZmlsZQ%3D%3D?line=50'>51</a>\u001b[0m optimizer\u001b[39m.\u001b[39mstep()\n\u001b[0;32m     <a href='vscode-notebook-cell:/c%3A/Users/palas/Desktop/IOT/cs6910_assignment3/training.ipynb#W6sZmlsZQ%3D%3D?line=52'>53</a>\u001b[0m running_loss \u001b[39m+\u001b[39m\u001b[39m=\u001b[39m loss\u001b[39m.\u001b[39mitem()\n",
      "File \u001b[1;32mc:\\Users\\palas\\AppData\\Local\\Programs\\Python\\Python39\\lib\\site-packages\\torch\\_tensor.py:487\u001b[0m, in \u001b[0;36mTensor.backward\u001b[1;34m(self, gradient, retain_graph, create_graph, inputs)\u001b[0m\n\u001b[0;32m    477\u001b[0m \u001b[39mif\u001b[39;00m has_torch_function_unary(\u001b[39mself\u001b[39m):\n\u001b[0;32m    478\u001b[0m     \u001b[39mreturn\u001b[39;00m handle_torch_function(\n\u001b[0;32m    479\u001b[0m         Tensor\u001b[39m.\u001b[39mbackward,\n\u001b[0;32m    480\u001b[0m         (\u001b[39mself\u001b[39m,),\n\u001b[1;32m   (...)\u001b[0m\n\u001b[0;32m    485\u001b[0m         inputs\u001b[39m=\u001b[39minputs,\n\u001b[0;32m    486\u001b[0m     )\n\u001b[1;32m--> 487\u001b[0m torch\u001b[39m.\u001b[39;49mautograd\u001b[39m.\u001b[39;49mbackward(\n\u001b[0;32m    488\u001b[0m     \u001b[39mself\u001b[39;49m, gradient, retain_graph, create_graph, inputs\u001b[39m=\u001b[39;49minputs\n\u001b[0;32m    489\u001b[0m )\n",
      "File \u001b[1;32mc:\\Users\\palas\\AppData\\Local\\Programs\\Python\\Python39\\lib\\site-packages\\torch\\autograd\\__init__.py:197\u001b[0m, in \u001b[0;36mbackward\u001b[1;34m(tensors, grad_tensors, retain_graph, create_graph, grad_variables, inputs)\u001b[0m\n\u001b[0;32m    192\u001b[0m     retain_graph \u001b[39m=\u001b[39m create_graph\n\u001b[0;32m    194\u001b[0m \u001b[39m# The reason we repeat same the comment below is that\u001b[39;00m\n\u001b[0;32m    195\u001b[0m \u001b[39m# some Python versions print out the first line of a multi-line function\u001b[39;00m\n\u001b[0;32m    196\u001b[0m \u001b[39m# calls in the traceback and some print out the last line\u001b[39;00m\n\u001b[1;32m--> 197\u001b[0m Variable\u001b[39m.\u001b[39;49m_execution_engine\u001b[39m.\u001b[39;49mrun_backward(  \u001b[39m# Calls into the C++ engine to run the backward pass\u001b[39;49;00m\n\u001b[0;32m    198\u001b[0m     tensors, grad_tensors_, retain_graph, create_graph, inputs,\n\u001b[0;32m    199\u001b[0m     allow_unreachable\u001b[39m=\u001b[39;49m\u001b[39mTrue\u001b[39;49;00m, accumulate_grad\u001b[39m=\u001b[39;49m\u001b[39mTrue\u001b[39;49;00m)\n",
      "\u001b[1;31mKeyboardInterrupt\u001b[0m: "
     ]
    }
   ],
   "source": [
    "from model import compare_sequences\n",
    "from tqdm import tqdm\n",
    "\n",
    "VOCAB_SIZE = 131\n",
    "EMBEDDING_DIM = 128\n",
    "HIDDEN_DIM = 1024\n",
    "EPOCHS = 20\n",
    "NUM_LAYERS_ENCODER = 5\n",
    "NUM_LAYERS_DECODER = 5\n",
    "DROPOUT = 0.2\n",
    "BIDIRECTIONAL = 1\n",
    "CELL_TYPE_ENCODER = \"LSTM\"\n",
    "CELL_TYPE_DECODER = \"LSTM\"\n",
    "TEACHER_FORCING = 0.75\n",
    "MAX_SEQ_SIZE = 28\n",
    "\n",
    "import torch\n",
    "import torch.nn as nn\n",
    "import torch.optim as optim\n",
    "\n",
    "device = torch.device('cuda' if torch.cuda.is_available() else 'cpu')\n",
    "\n",
    "model = seq2seq(VOCAB_SIZE, EMBEDDING_DIM, HIDDEN_DIM, NUM_LAYERS_ENCODER, NUM_LAYERS_DECODER, \n",
    "                 DROPOUT, BIDIRECTIONAL, CELL_TYPE_ENCODER, CELL_TYPE_DECODER, TEACHER_FORCING, \n",
    "                 BATCH_SIZE, MAX_SEQ_SIZE, debugging = False)\n",
    "\n",
    "model = model.to(device)\n",
    "\n",
    "criterion = nn.CrossEntropyLoss()\n",
    "optimizer = optim.Adam(model.parameters())\n",
    "\n",
    "for epoch in range(EPOCHS):\n",
    "    \n",
    "    model.train()\n",
    "    running_loss = 0.0\n",
    "    train_accuracy = 0\n",
    "    val_accuracy = 0\n",
    "    \n",
    "    for batch_idx, (inputs, targets) in tqdm(enumerate(train_loader)):\n",
    "        \n",
    "        inputs = inputs.to(device)\n",
    "        targets = targets.to(device)\n",
    "        \n",
    "        optimizer.zero_grad()\n",
    "        outputs = model(inputs, targets)\n",
    "        \n",
    "        train_accuracy += compare_sequences(targets, outputs)\n",
    "\n",
    "        loss = criterion(outputs.reshape(-1, model.output_size), targets.reshape(-1))\n",
    "        loss.backward()\n",
    "        optimizer.step()\n",
    "        \n",
    "        running_loss += loss.item()\n",
    "    \n",
    "\n",
    "    model.eval()\n",
    "    val_loss = 0.0\n",
    "    \n",
    "    with torch.no_grad():\n",
    "        for inputs, targets in tqdm(val_loader):\n",
    "           \n",
    "            inputs = inputs.to(device)\n",
    "            targets = targets.to(device)\n",
    "            outputs = model(inputs, targets)\n",
    "\n",
    "            loss = criterion(outputs.reshape(-1, model.output_size), targets.reshape(-1))\n",
    "            val_accuracy += compare_sequences(targets, outputs)\n",
    "            \n",
    "            val_loss += loss.item()\n",
    "    \n",
    "    print(f\"Epoch [{epoch+1}/{EPOCHS}], Validation Loss: {val_loss / len(val_loader)}\")\n",
    "    print(\"Training Accuracy {0}, Validation Accuracy {1}\".format(train_accuracy/(len(train_dataset)), val_accuracy/(len(val_dataset))))\n",
    "    torch.cuda.empty_cache()"
   ]
  },
  {
   "cell_type": "code",
   "execution_count": 7,
   "metadata": {},
   "outputs": [
    {
     "data": {
      "text/plain": [
       "51200"
      ]
     },
     "execution_count": 7,
     "metadata": {},
     "output_type": "execute_result"
    }
   ],
   "source": [
    "len(train_dataset)"
   ]
  },
  {
   "cell_type": "code",
   "execution_count": null,
   "metadata": {},
   "outputs": [],
   "source": []
  }
 ],
 "metadata": {
  "kernelspec": {
   "display_name": "Python 3",
   "language": "python",
   "name": "python3"
  },
  "language_info": {
   "codemirror_mode": {
    "name": "ipython",
    "version": 3
   },
   "file_extension": ".py",
   "mimetype": "text/x-python",
   "name": "python",
   "nbconvert_exporter": "python",
   "pygments_lexer": "ipython3",
   "version": "3.9.6"
  },
  "orig_nbformat": 4
 },
 "nbformat": 4,
 "nbformat_minor": 2
}

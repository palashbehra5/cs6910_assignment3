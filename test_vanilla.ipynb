{
 "cells": [
  {
   "cell_type": "code",
   "execution_count": 3,
   "metadata": {},
   "outputs": [],
   "source": [
    "import numpy as np\n",
    "import torch\n",
    "import torch.nn as nn\n",
    "import torch.optim as optim\n",
    "import wandb\n",
    "import numpy as np\n",
    "import torch\n",
    "import random\n",
    "import itertools\n",
    "from tqdm import tqdm\n",
    "from model import seq2seq, seq2seq_attn, compare_sequences \n",
    "\n",
    "x_train = np.loadtxt(\"akshar_sequences//x_train.csv\", delimiter=\",\", dtype=int)\n",
    "y_train = np.loadtxt(\"akshar_sequences//y_train.csv\", delimiter=\",\", dtype=int)\n",
    "x_test = np.loadtxt(\"akshar_sequences//x_test.csv\", delimiter=\",\", dtype=int)\n",
    "y_test = np.loadtxt(\"akshar_sequences//y_test.csv\", delimiter=\",\", dtype=int)\n",
    "x_val = np.loadtxt(\"akshar_sequences//x_val.csv\", delimiter=\",\", dtype=int)\n",
    "y_val = np.loadtxt(\"akshar_sequences//y_val.csv\", delimiter=\",\", dtype=int)\n",
    "\n",
    "\n",
    "class SequenceDataset(torch.utils.data.Dataset):\n",
    "    def __init__(self, x, y):\n",
    "        self.x = x\n",
    "        self.y = y\n",
    "    \n",
    "    def __getitem__(self, index):\n",
    "        x = torch.from_numpy(self.x[index]).long() \n",
    "        y = torch.from_numpy(self.y[index]).long() \n",
    "        return x, y\n",
    "    \n",
    "    def __len__(self):\n",
    "        return len(self.x)\n",
    "\n",
    "train_dataset = SequenceDataset(x_train, y_train)\n",
    "val_dataset = SequenceDataset(x_val, y_val)\n",
    "test_dataset = SequenceDataset(x_test, y_test)"
   ]
  },
  {
   "cell_type": "code",
   "execution_count": 4,
   "metadata": {},
   "outputs": [],
   "source": [
    "from model import compare_sequences, train, test\n",
    "from tqdm import tqdm\n",
    "import torch\n",
    "import torch.nn as nn\n",
    "import torch.optim as optim\n",
    "\n",
    "VOCAB_SIZE = 131\n",
    "MAX_SEQ_SIZE = 28"
   ]
  },
  {
   "cell_type": "code",
   "execution_count": 5,
   "metadata": {},
   "outputs": [
    {
     "name": "stderr",
     "output_type": "stream",
     "text": [
      "800it [01:55,  6.94it/s]\n",
      "100%|██████████| 64/64 [00:02<00:00, 21.99it/s]\n"
     ]
    },
    {
     "name": "stdout",
     "output_type": "stream",
     "text": [
      "Epoch [1/20], Validation Loss: 0.5048091262578964\n",
      "Training Accuracy 5.859375e-05, Validation Accuracy 0.002197265625\n"
     ]
    },
    {
     "name": "stderr",
     "output_type": "stream",
     "text": [
      "800it [02:02,  6.53it/s]\n",
      "100%|██████████| 64/64 [00:02<00:00, 21.54it/s]\n"
     ]
    },
    {
     "name": "stdout",
     "output_type": "stream",
     "text": [
      "Epoch [2/20], Validation Loss: 0.18796886806376278\n",
      "Training Accuracy 0.04462890625, Validation Accuracy 0.19775390625\n"
     ]
    },
    {
     "name": "stderr",
     "output_type": "stream",
     "text": [
      "800it [02:03,  6.49it/s]\n",
      "100%|██████████| 64/64 [00:03<00:00, 19.88it/s]\n"
     ]
    },
    {
     "name": "stdout",
     "output_type": "stream",
     "text": [
      "Epoch [3/20], Validation Loss: 0.1417496136855334\n",
      "Training Accuracy 0.16310546875, Validation Accuracy 0.294677734375\n"
     ]
    },
    {
     "name": "stderr",
     "output_type": "stream",
     "text": [
      "800it [02:16,  5.87it/s]\n",
      "100%|██████████| 64/64 [00:03<00:00, 20.66it/s]\n"
     ]
    },
    {
     "name": "stdout",
     "output_type": "stream",
     "text": [
      "Epoch [4/20], Validation Loss: 0.12296640605200082\n",
      "Training Accuracy 0.24091796875, Validation Accuracy 0.34716796875\n"
     ]
    },
    {
     "name": "stderr",
     "output_type": "stream",
     "text": [
      "800it [02:20,  5.70it/s]\n",
      "100%|██████████| 64/64 [00:03<00:00, 19.87it/s]\n"
     ]
    },
    {
     "name": "stdout",
     "output_type": "stream",
     "text": [
      "Epoch [5/20], Validation Loss: 0.11609038326423615\n",
      "Training Accuracy 0.28962890625, Validation Accuracy 0.36669921875\n"
     ]
    },
    {
     "name": "stderr",
     "output_type": "stream",
     "text": [
      "800it [02:31,  5.29it/s]\n",
      "100%|██████████| 64/64 [00:03<00:00, 18.22it/s]\n"
     ]
    },
    {
     "name": "stdout",
     "output_type": "stream",
     "text": [
      "Epoch [6/20], Validation Loss: 0.11135917098727077\n",
      "Training Accuracy 0.33087890625, Validation Accuracy 0.38720703125\n"
     ]
    },
    {
     "name": "stderr",
     "output_type": "stream",
     "text": [
      "800it [02:26,  5.45it/s]\n",
      "100%|██████████| 64/64 [00:02<00:00, 21.49it/s]\n"
     ]
    },
    {
     "name": "stdout",
     "output_type": "stream",
     "text": [
      "Epoch [7/20], Validation Loss: 0.11022783897351474\n",
      "Training Accuracy 0.36681640625, Validation Accuracy 0.39404296875\n"
     ]
    },
    {
     "name": "stderr",
     "output_type": "stream",
     "text": [
      "800it [02:17,  5.84it/s]\n",
      "100%|██████████| 64/64 [00:03<00:00, 18.69it/s]\n"
     ]
    },
    {
     "name": "stdout",
     "output_type": "stream",
     "text": [
      "Epoch [8/20], Validation Loss: 0.10924680077005178\n",
      "Training Accuracy 0.3978515625, Validation Accuracy 0.406005859375\n"
     ]
    },
    {
     "name": "stderr",
     "output_type": "stream",
     "text": [
      "800it [02:23,  5.58it/s]\n",
      "100%|██████████| 64/64 [00:03<00:00, 17.98it/s]\n"
     ]
    },
    {
     "name": "stdout",
     "output_type": "stream",
     "text": [
      "Epoch [9/20], Validation Loss: 0.11011556116864085\n",
      "Training Accuracy 0.42708984375, Validation Accuracy 0.40283203125\n"
     ]
    },
    {
     "name": "stderr",
     "output_type": "stream",
     "text": [
      "800it [02:21,  5.67it/s]\n",
      "100%|██████████| 64/64 [00:03<00:00, 21.07it/s]\n"
     ]
    },
    {
     "name": "stdout",
     "output_type": "stream",
     "text": [
      "Epoch [10/20], Validation Loss: 0.11151334387250245\n",
      "Training Accuracy 0.461484375, Validation Accuracy 0.404052734375\n"
     ]
    },
    {
     "name": "stderr",
     "output_type": "stream",
     "text": [
      "800it [02:26,  5.45it/s]\n",
      "100%|██████████| 64/64 [00:03<00:00, 18.23it/s]\n"
     ]
    },
    {
     "name": "stdout",
     "output_type": "stream",
     "text": [
      "Epoch [11/20], Validation Loss: 0.11173925525508821\n",
      "Training Accuracy 0.48794921875, Validation Accuracy 0.414306640625\n"
     ]
    },
    {
     "name": "stderr",
     "output_type": "stream",
     "text": [
      "800it [02:18,  5.79it/s]\n",
      "100%|██████████| 64/64 [00:03<00:00, 20.16it/s]\n"
     ]
    },
    {
     "name": "stdout",
     "output_type": "stream",
     "text": [
      "Epoch [12/20], Validation Loss: 0.11315406707581133\n",
      "Training Accuracy 0.515078125, Validation Accuracy 0.426025390625\n"
     ]
    },
    {
     "name": "stderr",
     "output_type": "stream",
     "text": [
      "800it [02:12,  6.02it/s]\n",
      "100%|██████████| 64/64 [00:03<00:00, 19.50it/s]\n"
     ]
    },
    {
     "name": "stdout",
     "output_type": "stream",
     "text": [
      "Epoch [13/20], Validation Loss: 0.11506127053871751\n",
      "Training Accuracy 0.5441015625, Validation Accuracy 0.427490234375\n"
     ]
    },
    {
     "name": "stderr",
     "output_type": "stream",
     "text": [
      "800it [02:10,  6.13it/s]\n",
      "100%|██████████| 64/64 [00:02<00:00, 21.64it/s]\n"
     ]
    },
    {
     "name": "stdout",
     "output_type": "stream",
     "text": [
      "Epoch [14/20], Validation Loss: 0.11897657776717097\n",
      "Training Accuracy 0.5645703125, Validation Accuracy 0.421630859375\n"
     ]
    },
    {
     "name": "stderr",
     "output_type": "stream",
     "text": [
      "800it [02:12,  6.03it/s]\n",
      "100%|██████████| 64/64 [00:02<00:00, 21.97it/s]\n"
     ]
    },
    {
     "name": "stdout",
     "output_type": "stream",
     "text": [
      "Epoch [15/20], Validation Loss: 0.12052837840747088\n",
      "Training Accuracy 0.59107421875, Validation Accuracy 0.420654296875\n"
     ]
    },
    {
     "name": "stderr",
     "output_type": "stream",
     "text": [
      "800it [02:20,  5.68it/s]\n",
      "100%|██████████| 64/64 [00:04<00:00, 15.64it/s]\n"
     ]
    },
    {
     "name": "stdout",
     "output_type": "stream",
     "text": [
      "Epoch [16/20], Validation Loss: 0.12071573524735868\n",
      "Training Accuracy 0.60751953125, Validation Accuracy 0.42529296875\n"
     ]
    },
    {
     "name": "stderr",
     "output_type": "stream",
     "text": [
      "800it [02:22,  5.61it/s]\n",
      "100%|██████████| 64/64 [00:03<00:00, 20.30it/s]\n"
     ]
    },
    {
     "name": "stdout",
     "output_type": "stream",
     "text": [
      "Epoch [17/20], Validation Loss: 0.1250192376319319\n",
      "Training Accuracy 0.6287890625, Validation Accuracy 0.41845703125\n"
     ]
    },
    {
     "name": "stderr",
     "output_type": "stream",
     "text": [
      "800it [02:13,  6.01it/s]\n",
      "100%|██████████| 64/64 [00:02<00:00, 22.10it/s]\n"
     ]
    },
    {
     "name": "stdout",
     "output_type": "stream",
     "text": [
      "Epoch [18/20], Validation Loss: 0.128359041409567\n",
      "Training Accuracy 0.65375, Validation Accuracy 0.430419921875\n"
     ]
    },
    {
     "name": "stderr",
     "output_type": "stream",
     "text": [
      "800it [02:15,  5.89it/s]\n",
      "100%|██████████| 64/64 [00:03<00:00, 20.96it/s]\n"
     ]
    },
    {
     "name": "stdout",
     "output_type": "stream",
     "text": [
      "Epoch [19/20], Validation Loss: 0.1319267734652385\n",
      "Training Accuracy 0.66671875, Validation Accuracy 0.410888671875\n"
     ]
    },
    {
     "name": "stderr",
     "output_type": "stream",
     "text": [
      "800it [02:21,  5.66it/s]\n",
      "100%|██████████| 64/64 [00:03<00:00, 18.82it/s]\n"
     ]
    },
    {
     "name": "stdout",
     "output_type": "stream",
     "text": [
      "Epoch [20/20], Validation Loss: 0.1368175728712231\n",
      "Training Accuracy 0.68462890625, Validation Accuracy 0.4091796875\n"
     ]
    },
    {
     "name": "stderr",
     "output_type": "stream",
     "text": [
      "3200it [05:19, 10.03it/s]\n",
      "100%|██████████| 256/256 [00:05<00:00, 49.02it/s]\n"
     ]
    },
    {
     "name": "stdout",
     "output_type": "stream",
     "text": [
      "Epoch [1/25], Validation Loss: 0.6862805052660406\n",
      "Training Accuracy 0.0, Validation Accuracy 0.0\n"
     ]
    },
    {
     "name": "stderr",
     "output_type": "stream",
     "text": [
      "3200it [04:43, 11.29it/s]\n",
      "100%|██████████| 256/256 [00:03<00:00, 69.60it/s]\n"
     ]
    },
    {
     "name": "stdout",
     "output_type": "stream",
     "text": [
      "Epoch [2/25], Validation Loss: 0.5313601701054722\n",
      "Training Accuracy 0.00021484375, Validation Accuracy 0.00537109375\n"
     ]
    },
    {
     "name": "stderr",
     "output_type": "stream",
     "text": [
      "3200it [04:28, 11.92it/s]\n",
      "100%|██████████| 256/256 [00:04<00:00, 57.43it/s]\n"
     ]
    },
    {
     "name": "stdout",
     "output_type": "stream",
     "text": [
      "Epoch [3/25], Validation Loss: 0.4069026634679176\n",
      "Training Accuracy 0.006796875, Validation Accuracy 0.045166015625\n"
     ]
    },
    {
     "name": "stderr",
     "output_type": "stream",
     "text": [
      "3200it [04:38, 11.51it/s]\n",
      "100%|██████████| 256/256 [00:04<00:00, 56.43it/s]\n"
     ]
    },
    {
     "name": "stdout",
     "output_type": "stream",
     "text": [
      "Epoch [4/25], Validation Loss: 0.32541706057963893\n",
      "Training Accuracy 0.03779296875, Validation Accuracy 0.09716796875\n"
     ]
    },
    {
     "name": "stderr",
     "output_type": "stream",
     "text": [
      "3200it [04:51, 10.98it/s]\n",
      "100%|██████████| 256/256 [00:05<00:00, 50.72it/s]\n"
     ]
    },
    {
     "name": "stdout",
     "output_type": "stream",
     "text": [
      "Epoch [5/25], Validation Loss: 0.2818989483639598\n",
      "Training Accuracy 0.0796875, Validation Accuracy 0.15234375\n"
     ]
    },
    {
     "name": "stderr",
     "output_type": "stream",
     "text": [
      "3200it [04:50, 11.00it/s]\n",
      "100%|██████████| 256/256 [00:05<00:00, 50.95it/s]\n"
     ]
    },
    {
     "name": "stdout",
     "output_type": "stream",
     "text": [
      "Epoch [6/25], Validation Loss: 0.2512589757971\n",
      "Training Accuracy 0.11896484375, Validation Accuracy 0.2001953125\n"
     ]
    },
    {
     "name": "stderr",
     "output_type": "stream",
     "text": [
      "3200it [04:52, 10.92it/s]\n",
      "100%|██████████| 256/256 [00:04<00:00, 53.11it/s]\n"
     ]
    },
    {
     "name": "stdout",
     "output_type": "stream",
     "text": [
      "Epoch [7/25], Validation Loss: 0.2397100544476416\n",
      "Training Accuracy 0.15166015625, Validation Accuracy 0.2216796875\n"
     ]
    },
    {
     "name": "stderr",
     "output_type": "stream",
     "text": [
      "3200it [04:44, 11.26it/s]\n",
      "100%|██████████| 256/256 [00:05<00:00, 50.03it/s]\n"
     ]
    },
    {
     "name": "stdout",
     "output_type": "stream",
     "text": [
      "Epoch [8/25], Validation Loss: 0.22762798765324987\n",
      "Training Accuracy 0.17744140625, Validation Accuracy 0.2333984375\n"
     ]
    },
    {
     "name": "stderr",
     "output_type": "stream",
     "text": [
      "3200it [04:47, 11.13it/s]\n",
      "100%|██████████| 256/256 [00:05<00:00, 49.18it/s]\n"
     ]
    },
    {
     "name": "stdout",
     "output_type": "stream",
     "text": [
      "Epoch [9/25], Validation Loss: 0.21880162271554582\n",
      "Training Accuracy 0.199140625, Validation Accuracy 0.2587890625\n"
     ]
    },
    {
     "name": "stderr",
     "output_type": "stream",
     "text": [
      "3200it [04:48, 11.08it/s]\n",
      "100%|██████████| 256/256 [00:05<00:00, 50.55it/s]\n"
     ]
    },
    {
     "name": "stdout",
     "output_type": "stream",
     "text": [
      "Epoch [10/25], Validation Loss: 0.20577570569003\n",
      "Training Accuracy 0.21818359375, Validation Accuracy 0.26953125\n"
     ]
    },
    {
     "name": "stderr",
     "output_type": "stream",
     "text": [
      "3200it [04:26, 12.00it/s]\n",
      "100%|██████████| 256/256 [00:03<00:00, 74.72it/s]\n"
     ]
    },
    {
     "name": "stdout",
     "output_type": "stream",
     "text": [
      "Epoch [11/25], Validation Loss: 0.19775427947752178\n",
      "Training Accuracy 0.23779296875, Validation Accuracy 0.2900390625\n"
     ]
    },
    {
     "name": "stderr",
     "output_type": "stream",
     "text": [
      "3200it [03:40, 14.53it/s]\n",
      "100%|██████████| 256/256 [00:03<00:00, 67.81it/s]\n"
     ]
    },
    {
     "name": "stdout",
     "output_type": "stream",
     "text": [
      "Epoch [12/25], Validation Loss: 0.19867533101933077\n",
      "Training Accuracy 0.249609375, Validation Accuracy 0.283203125\n"
     ]
    },
    {
     "name": "stderr",
     "output_type": "stream",
     "text": [
      "3200it [03:39, 14.58it/s]\n",
      "100%|██████████| 256/256 [00:03<00:00, 71.81it/s]\n"
     ]
    },
    {
     "name": "stdout",
     "output_type": "stream",
     "text": [
      "Epoch [13/25], Validation Loss: 0.19883454820956104\n",
      "Training Accuracy 0.26744140625, Validation Accuracy 0.284423828125\n"
     ]
    },
    {
     "name": "stderr",
     "output_type": "stream",
     "text": [
      "3200it [03:31, 15.13it/s]\n",
      "100%|██████████| 256/256 [00:03<00:00, 71.00it/s]\n"
     ]
    },
    {
     "name": "stdout",
     "output_type": "stream",
     "text": [
      "Epoch [14/25], Validation Loss: 0.19278824387583882\n",
      "Training Accuracy 0.279375, Validation Accuracy 0.296630859375\n"
     ]
    },
    {
     "name": "stderr",
     "output_type": "stream",
     "text": [
      "3200it [03:25, 15.57it/s]\n",
      "100%|██████████| 256/256 [00:03<00:00, 76.01it/s]\n"
     ]
    },
    {
     "name": "stdout",
     "output_type": "stream",
     "text": [
      "Epoch [15/25], Validation Loss: 0.1876655939850025\n",
      "Training Accuracy 0.293203125, Validation Accuracy 0.301513671875\n"
     ]
    },
    {
     "name": "stderr",
     "output_type": "stream",
     "text": [
      "3200it [03:37, 14.72it/s]\n",
      "100%|██████████| 256/256 [00:04<00:00, 61.91it/s]\n"
     ]
    },
    {
     "name": "stdout",
     "output_type": "stream",
     "text": [
      "Epoch [16/25], Validation Loss: 0.1861409000121057\n",
      "Training Accuracy 0.3037109375, Validation Accuracy 0.309814453125\n"
     ]
    },
    {
     "name": "stderr",
     "output_type": "stream",
     "text": [
      "3200it [03:37, 14.72it/s]\n",
      "100%|██████████| 256/256 [00:03<00:00, 68.13it/s]\n"
     ]
    },
    {
     "name": "stdout",
     "output_type": "stream",
     "text": [
      "Epoch [17/25], Validation Loss: 0.18761927101877518\n",
      "Training Accuracy 0.31724609375, Validation Accuracy 0.306640625\n"
     ]
    },
    {
     "name": "stderr",
     "output_type": "stream",
     "text": [
      "3200it [03:33, 14.97it/s]\n",
      "100%|██████████| 256/256 [00:03<00:00, 71.43it/s]\n"
     ]
    },
    {
     "name": "stdout",
     "output_type": "stream",
     "text": [
      "Epoch [18/25], Validation Loss: 0.18346251767070498\n",
      "Training Accuracy 0.32478515625, Validation Accuracy 0.322021484375\n"
     ]
    },
    {
     "name": "stderr",
     "output_type": "stream",
     "text": [
      "3200it [03:35, 14.87it/s]\n",
      "100%|██████████| 256/256 [00:04<00:00, 58.08it/s]\n"
     ]
    },
    {
     "name": "stdout",
     "output_type": "stream",
     "text": [
      "Epoch [19/25], Validation Loss: 0.18376403581351042\n",
      "Training Accuracy 0.33630859375, Validation Accuracy 0.322265625\n"
     ]
    },
    {
     "name": "stderr",
     "output_type": "stream",
     "text": [
      "3200it [04:11, 12.72it/s]\n",
      "100%|██████████| 256/256 [00:04<00:00, 62.07it/s]\n"
     ]
    },
    {
     "name": "stdout",
     "output_type": "stream",
     "text": [
      "Epoch [20/25], Validation Loss: 0.1832222324446775\n",
      "Training Accuracy 0.34845703125, Validation Accuracy 0.322998046875\n"
     ]
    },
    {
     "name": "stderr",
     "output_type": "stream",
     "text": [
      "3200it [03:44, 14.27it/s]\n",
      "100%|██████████| 256/256 [00:03<00:00, 65.74it/s]\n"
     ]
    },
    {
     "name": "stdout",
     "output_type": "stream",
     "text": [
      "Epoch [21/25], Validation Loss: 0.1827635608788114\n",
      "Training Accuracy 0.35783203125, Validation Accuracy 0.3173828125\n"
     ]
    },
    {
     "name": "stderr",
     "output_type": "stream",
     "text": [
      "3200it [03:40, 14.51it/s]\n",
      "100%|██████████| 256/256 [00:03<00:00, 69.39it/s]\n"
     ]
    },
    {
     "name": "stdout",
     "output_type": "stream",
     "text": [
      "Epoch [22/25], Validation Loss: 0.1817615023610415\n",
      "Training Accuracy 0.36365234375, Validation Accuracy 0.326171875\n"
     ]
    },
    {
     "name": "stderr",
     "output_type": "stream",
     "text": [
      "3200it [03:27, 15.43it/s]\n",
      "100%|██████████| 256/256 [00:03<00:00, 73.14it/s]\n"
     ]
    },
    {
     "name": "stdout",
     "output_type": "stream",
     "text": [
      "Epoch [23/25], Validation Loss: 0.17757091668318026\n",
      "Training Accuracy 0.37400390625, Validation Accuracy 0.323486328125\n"
     ]
    },
    {
     "name": "stderr",
     "output_type": "stream",
     "text": [
      "3200it [03:38, 14.64it/s]\n",
      "100%|██████████| 256/256 [00:03<00:00, 64.46it/s]\n"
     ]
    },
    {
     "name": "stdout",
     "output_type": "stream",
     "text": [
      "Epoch [24/25], Validation Loss: 0.18991936740349047\n",
      "Training Accuracy 0.38275390625, Validation Accuracy 0.326171875\n"
     ]
    },
    {
     "name": "stderr",
     "output_type": "stream",
     "text": [
      "3200it [03:58, 13.42it/s]\n",
      "100%|██████████| 256/256 [00:05<00:00, 48.61it/s]"
     ]
    },
    {
     "name": "stdout",
     "output_type": "stream",
     "text": [
      "Epoch [25/25], Validation Loss: 0.1863341490388848\n",
      "Training Accuracy 0.39291015625, Validation Accuracy 0.32080078125\n"
     ]
    },
    {
     "name": "stderr",
     "output_type": "stream",
     "text": [
      "\n"
     ]
    }
   ],
   "source": [
    "from model import train\n",
    "\n",
    "# bidirectional\n",
    "# 1\n",
    "# cell_type_decoder\n",
    "# \"LSTM\"\n",
    "# cell_type_encoder\n",
    "# \"LSTM\"\n",
    "# dropout\n",
    "# 0.3\n",
    "# hidden_layer_size\n",
    "# 512\n",
    "# input_embedding_size\n",
    "# 64\n",
    "# num_decoder_layers\n",
    "# 4\n",
    "# num_encoder_layers\n",
    "# 3\n",
    "# teacher_forcing\n",
    "# 1\n",
    "\n",
    "model1 = train(VOCAB_SIZE, 64, 512, 3, 4, \n",
    "                 0.3, 1, \"LSTM\", \"LSTM\", 1, \n",
    "                 64, MAX_SEQ_SIZE, 20, 0, train_dataset, val_dataset)\n",
    "\n",
    "# batch_size\n",
    "# 16\n",
    "# bidirectional\n",
    "# 1\n",
    "# cell_type_decoder\n",
    "# \"LSTM\"\n",
    "# cell_type_encoder\n",
    "# \"LSTM\"\n",
    "# dropout\n",
    "# 0\n",
    "# hidden_layer_size\n",
    "# 64\n",
    "# input_embedding_size\n",
    "# 256\n",
    "# num_decoder_layers\n",
    "# 4\n",
    "# num_encoder_layers\n",
    "# 4\n",
    "# teacher_forcing\n",
    "# 0.75\n",
    "\n",
    "model2 = train(VOCAB_SIZE, 256, 64, 4, 4, \n",
    "                 0, 1, \"LSTM\", \"LSTM\", 0.75, \n",
    "                 16, MAX_SEQ_SIZE, 20, 0, train_dataset, val_dataset)"
   ]
  },
  {
   "cell_type": "code",
   "execution_count": 5,
   "metadata": {},
   "outputs": [
    {
     "name": "stdout",
     "output_type": "stream",
     "text": [
      "Testing accuracy for model : 0.3828125\n",
      "Testing accuracy for model : 0.29736328125\n"
     ]
    }
   ],
   "source": [
    "# torch.save(model1.state_dict(), \"models//model_1.pth\")\n",
    "# torch.save(model2.state_dict(), \"models//model_2.pth\")\n",
    "\n",
    "model1 = seq2seq(VOCAB_SIZE, 64, 512, 3, 4, \n",
    "                 0.3, 1, \"LSTM\", \"LSTM\", 1, \n",
    "                 64, MAX_SEQ_SIZE, 20)\n",
    "\n",
    "model1.load_state_dict(torch.load(\"models//model_1.pth\"))\n",
    "\n",
    "model2 = seq2seq(VOCAB_SIZE, 256, 64, 4, 4, \n",
    "                 0, 1, \"LSTM\", \"LSTM\", 0.75, \n",
    "                 16, MAX_SEQ_SIZE, 25)\n",
    "\n",
    "\n",
    "model2.load_state_dict(torch.load(\"models//model_2.pth\"))\n",
    "\n",
    "import pickle\n",
    "\n",
    "# Note : predictions and targets in string format, y_pred and y_true in sequence format\n",
    "predictions1, targets1, y_pred1, y_true1 = test(model1, test_dataset, 0)\n",
    "predictions2, targets2, y_pred2, y_true2 = test(model2, test_dataset, 0)\n"
   ]
  },
  {
   "cell_type": "code",
   "execution_count": 6,
   "metadata": {},
   "outputs": [
    {
     "data": {
      "image/png": "[encoded data removed]",
      "text/plain": [
       "<Figure size 2160x2160 with 1 Axes>"
      ]
     },
     "metadata": {
      "needs_background": "light"
     },
     "output_type": "display_data"
    }
   ],
   "source": [
    "from viz import plot_confusion_matrix, plot_avg_error_vs_length\n",
    "\n",
    "plot_confusion_matrix(y_pred1, y_true1)"
   ]
  },
  {
   "cell_type": "code",
   "execution_count": 7,
   "metadata": {},
   "outputs": [
    {
     "data": {
      "image/png": "[encoded data removed]",
      "text/plain": [
       "<Figure size 2160x2160 with 1 Axes>"
      ]
     },
     "metadata": {
      "needs_background": "light"
     },
     "output_type": "display_data"
    }
   ],
   "source": [
    "plot_confusion_matrix(y_pred2, y_true2)"
   ]
  },
  {
   "cell_type": "code",
   "execution_count": 29,
   "metadata": {},
   "outputs": [
    {
     "name": "stdout",
     "output_type": "stream",
     "text": [
      "{7: 1.5186567164179106, 4: 0.8782608695652174, 8: 1.547945205479452, 11: 2.6267605633802815, 9: 1.7235494880546076, 5: 1.0568475452196382, 3: 1.0479041916167664, 6: 1.1670854271356783, 10: 1.9864864864864864, 12: 2.425, 14: 2.6136363636363638, 17: 4.428571428571429, 13: 2.6825396825396823, 15: 4.233333333333333, 2: 1.263157894736842, 19: 6.8, 16: 5.181818181818182, 1: 1.0, 18: 6.0, 20: 6.0}\n"
     ]
    },
    {
     "data": {
      "image/png": "[encoded data removed]",
      "text/plain": [
       "<Figure size 432x288 with 1 Axes>"
      ]
     },
     "metadata": {
      "needs_background": "light"
     },
     "output_type": "display_data"
    }
   ],
   "source": [
    "plot_avg_error_vs_length(predictions2, targets2)"
   ]
  },
  {
   "cell_type": "code",
   "execution_count": 30,
   "metadata": {},
   "outputs": [],
   "source": [
    "import csv\n",
    "\n",
    "def write_to_csv(strings, filename):\n",
    "\n",
    "    with open(filename, 'w', encoding='utf-8', newline='') as csvfile:\n",
    "        writer = csv.writer(csvfile)\n",
    "        writer.writerows([[string] for string in strings])  \n",
    "\n",
    "write_to_csv(predictions1, 'vanilla_predictions//predictions_1')\n",
    "write_to_csv(predictions2, 'vanilla_predictions//predictions_2')"
   ]
  }
 ],
 "metadata": {
  "kernelspec": {
   "display_name": "Python 3",
   "language": "python",
   "name": "python3"
  },
  "language_info": {
   "codemirror_mode": {
    "name": "ipython",
    "version": 3
   },
   "file_extension": ".py",
   "mimetype": "text/x-python",
   "name": "python",
   "nbconvert_exporter": "python",
   "pygments_lexer": "ipython3",
   "version": "3.9.6"
  },
  "orig_nbformat": 4
 },
 "nbformat": 4,
 "nbformat_minor": 2
}

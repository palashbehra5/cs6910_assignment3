{
 "cells": [
  {
   "cell_type": "code",
   "execution_count": 2,
   "metadata": {},
   "outputs": [],
   "source": [
    "from __future__ import unicode_literals, print_function, division\n",
    "from io import open\n",
    "import unicodedata\n",
    "import string\n",
    "import re\n",
    "import random\n",
    "import torch\n",
    "import torch.nn as nn\n",
    "from torch import optim\n",
    "import torch.nn.functional as F\n",
    "import numpy as np\n",
    "import os\n",
    "\n",
    "BATCH_SIZE = 4\n",
    "\n",
    "device = torch.device(\"cuda\" if torch.cuda.is_available() else \"cpu\")"
   ]
  },
  {
   "cell_type": "code",
   "execution_count": 3,
   "metadata": {},
   "outputs": [
    {
     "name": "stdout",
     "output_type": "stream",
     "text": [
      "4096\n",
      "51200\n",
      "4096\n"
     ]
    }
   ],
   "source": [
    "directories = os.listdir(\"aksharantar_sampled/hin/\")\n",
    "train_data, val_data, test_data = [],[],[]\n",
    "\n",
    "for i in open(\"aksharantar_sampled/hin/\"+directories[0], encoding='utf-8'):\n",
    "    test_data.append([i.split(\",\")[0],i.split(\",\")[1][:-1]])\n",
    "\n",
    "for i in open(\"aksharantar_sampled/hin/\"+directories[1], encoding='utf-8'):\n",
    "    train_data.append([i.split(\",\")[0],i.split(\",\")[1][:-1]])\n",
    "\n",
    "for i in open(\"aksharantar_sampled/hin/\"+directories[2], encoding='utf-8'):\n",
    "    val_data.append([i.split(\",\")[0],i.split(\",\")[1][:-1]])\n",
    "\n",
    "print(len(test_data))\n",
    "print(len(train_data))\n",
    "print(len(val_data))\n",
    "\n",
    "def hindi_chars(hindi_word):\n",
    "\n",
    "    return [c for c in unicodedata.normalize('NFD', hindi_word) if unicodedata.category(c) != 'Mn']\n",
    "\n",
    "def english_chars(english_word):\n",
    "\n",
    "    return [c for c in english_word]\n",
    "\n",
    "def one_hot(x, n):\n",
    "\n",
    "    encoding = np.zeros(n)\n",
    "    encoding[x] = 1\n",
    "    return encoding\n",
    "\n",
    "def generate_char_to_idx():\n",
    "    \n",
    "    en_start, en_end = 0x0061, 0x007A # ASCII characters (lowercase only)\n",
    "    hi_start, hi_end = 0x0900, 0x0965 # Devanagari characters\n",
    "\n",
    "    char_to_idx = {}\n",
    "\n",
    "    for i, char in enumerate(range(en_start, en_end+1)):\n",
    "        char_to_idx[chr(char)] = len(char_to_idx)\n",
    "\n",
    "    for i, char in enumerate(range(hi_start, hi_end+1)):\n",
    "        char_to_idx[chr(char)] = len(char_to_idx)\n",
    "\n",
    "    return char_to_idx\n",
    "\n",
    "char_to_idx = generate_char_to_idx()\n",
    "char_to_idx['/start'] = len(char_to_idx)\n",
    "char_to_idx['/end'] = len(char_to_idx)\n",
    "char_to_idx['/pad']  = len(char_to_idx)\n",
    "\n",
    "def word_to_idx(data):\n",
    "\n",
    "    idx = 0\n",
    "\n",
    "    for eng_word, hin_word in data:\n",
    "\n",
    "        eng_sequence = [char_to_idx[char] for char in eng_word]\n",
    "        hin_sequence = [char_to_idx[char] for char in hin_word]\n",
    "\n",
    "        eng_sequence.insert(0,char_to_idx['/start'])\n",
    "        hin_sequence.insert(0,char_to_idx['/start'])\n",
    "\n",
    "        eng_sequence.append(char_to_idx['/end'])\n",
    "        hin_sequence.append(char_to_idx['/end'])\n",
    "\n",
    "        data[idx][0] = eng_sequence\n",
    "        data[idx][1] = hin_sequence\n",
    "\n",
    "        idx+=1\n",
    "\n",
    "    return data\n",
    "\n",
    "train_data = word_to_idx(train_data)\n",
    "test_data = word_to_idx(test_data)\n",
    "val_data = word_to_idx(val_data)\n",
    "\n"
   ]
  },
  {
   "cell_type": "code",
   "execution_count": 10,
   "metadata": {},
   "outputs": [],
   "source": [
    "max_seq_length = 0\n",
    "\n",
    "def set_max_seq(data):\n",
    "\n",
    "    global max_seq_length\n",
    "\n",
    "    for seq_x, seq_y in data:\n",
    "\n",
    "        if(len(seq_x) > max_seq_length) : max_seq_length = len(seq_x)\n",
    "        if(len(seq_y) > max_seq_length) : max_seq_length = len(seq_y)\n",
    "\n",
    "def pad(data):\n",
    "\n",
    "    global max_seq_legnth\n",
    "\n",
    "    for seq_x, seq_y in data:\n",
    "\n",
    "        while(len(seq_x) < max_seq_length):\n",
    "\n",
    "            seq_x.insert(len(seq_x), char_to_idx['/pad'])\n",
    "\n",
    "        while(len(seq_y) < max_seq_length):\n",
    "\n",
    "            seq_y.insert(len(seq_y), char_to_idx['/pad'])\n",
    "\n",
    "set_max_seq(train_data)\n",
    "set_max_seq(test_data)\n",
    "set_max_seq(val_data)\n",
    "pad(train_data)\n",
    "pad(test_data)\n",
    "pad(val_data)\n"
   ]
  },
  {
   "cell_type": "code",
   "execution_count": 11,
   "metadata": {},
   "outputs": [
    {
     "data": {
      "text/plain": [
       "[128,\n",
       " 18,\n",
       " 7,\n",
       " 0,\n",
       " 18,\n",
       " 19,\n",
       " 17,\n",
       " 0,\n",
       " 6,\n",
       " 0,\n",
       " 0,\n",
       " 130,\n",
       " 130,\n",
       " 130,\n",
       " 130,\n",
       " 130,\n",
       " 130,\n",
       " 130,\n",
       " 130,\n",
       " 130,\n",
       " 130,\n",
       " 130,\n",
       " 130,\n",
       " 130,\n",
       " 130,\n",
       " 130,\n",
       " 17,\n",
       " 129]"
      ]
     },
     "execution_count": 11,
     "metadata": {},
     "output_type": "execute_result"
    }
   ],
   "source": [
    "train_data[0][0]"
   ]
  },
  {
   "cell_type": "code",
   "execution_count": 9,
   "metadata": {},
   "outputs": [
    {
     "name": "stdout",
     "output_type": "stream",
     "text": [
      "{'a': 0, 'b': 1, 'c': 2, 'd': 3, 'e': 4, 'f': 5, 'g': 6, 'h': 7, 'i': 8, 'j': 9, 'k': 10, 'l': 11, 'm': 12, 'n': 13, 'o': 14, 'p': 15, 'q': 16, 'r': 17, 's': 18, 't': 19, 'u': 20, 'v': 21, 'w': 22, 'x': 23, 'y': 24, 'z': 25, 'ऀ': 26, 'ँ': 27, 'ं': 28, 'ः': 29, 'ऄ': 30, 'अ': 31, 'आ': 32, 'इ': 33, 'ई': 34, 'उ': 35, 'ऊ': 36, 'ऋ': 37, 'ऌ': 38, 'ऍ': 39, 'ऎ': 40, 'ए': 41, 'ऐ': 42, 'ऑ': 43, 'ऒ': 44, 'ओ': 45, 'औ': 46, 'क': 47, 'ख': 48, 'ग': 49, 'घ': 50, 'ङ': 51, 'च': 52, 'छ': 53, 'ज': 54, 'झ': 55, 'ञ': 56, 'ट': 57, 'ठ': 58, 'ड': 59, 'ढ': 60, 'ण': 61, 'त': 62, 'थ': 63, 'द': 64, 'ध': 65, 'न': 66, 'ऩ': 67, 'प': 68, 'फ': 69, 'ब': 70, 'भ': 71, 'म': 72, 'य': 73, 'र': 74, 'ऱ': 75, 'ल': 76, 'ळ': 77, 'ऴ': 78, 'व': 79, 'श': 80, 'ष': 81, 'स': 82, 'ह': 83, 'ऺ': 84, 'ऻ': 85, '़': 86, 'ऽ': 87, 'ा': 88, 'ि': 89, 'ी': 90, 'ु': 91, 'ू': 92, 'ृ': 93, 'ॄ': 94, 'ॅ': 95, 'ॆ': 96, 'े': 97, 'ै': 98, 'ॉ': 99, 'ॊ': 100, 'ो': 101, 'ौ': 102, '्': 103, 'ॎ': 104, 'ॏ': 105, 'ॐ': 106, '॑': 107, '॒': 108, '॓': 109, '॔': 110, 'ॕ': 111, 'ॖ': 112, 'ॗ': 113, 'क़': 114, 'ख़': 115, 'ग़': 116, 'ज़': 117, 'ड़': 118, 'ढ़': 119, 'फ़': 120, 'य़': 121, 'ॠ': 122, 'ॡ': 123, 'ॢ': 124, 'ॣ': 125, '।': 126, '॥': 127, '/start': 128, '/end': 129, '/pad': 130}\n"
     ]
    }
   ],
   "source": [
    "print(char_to_idx)"
   ]
  },
  {
   "cell_type": "code",
   "execution_count": null,
   "metadata": {},
   "outputs": [],
   "source": []
  }
 ],
 "metadata": {
  "kernelspec": {
   "display_name": "Python 3",
   "language": "python",
   "name": "python3"
  },
  "language_info": {
   "codemirror_mode": {
    "name": "ipython",
    "version": 3
   },
   "file_extension": ".py",
   "mimetype": "text/x-python",
   "name": "python",
   "nbconvert_exporter": "python",
   "pygments_lexer": "ipython3",
   "version": "3.9.6"
  },
  "orig_nbformat": 4
 },
 "nbformat": 4,
 "nbformat_minor": 2
}

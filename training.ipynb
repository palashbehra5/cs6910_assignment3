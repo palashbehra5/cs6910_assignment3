{
 "cells": [
  {
   "cell_type": "code",
   "execution_count": 45,
   "metadata": {},
   "outputs": [],
   "source": [
    "import numpy as np\n",
    "import torch\n",
    "import torch.nn as nn\n",
    "import torch.optim as optim\n",
    "\n",
    "BATCH_SIZE = 4\n",
    "\n",
    "x_train = np.loadtxt(\"akshar_sequences//x_train.csv\", delimiter=\",\", dtype=int)\n",
    "y_train = np.loadtxt(\"akshar_sequences//y_train.csv\", delimiter=\",\", dtype=int)\n",
    "x_test = np.loadtxt(\"akshar_sequences//x_test.csv\", delimiter=\",\", dtype=int)\n",
    "y_test = np.loadtxt(\"akshar_sequences//y_test.csv\", delimiter=\",\", dtype=int)\n",
    "x_val = np.loadtxt(\"akshar_sequences//x_val.csv\", delimiter=\",\", dtype=int)\n",
    "y_val = np.loadtxt(\"akshar_sequences//y_val.csv\", delimiter=\",\", dtype=int)\n",
    "\n",
    "\n",
    "class SequenceDataset(torch.utils.data.Dataset):\n",
    "    def __init__(self, x, y):\n",
    "        self.x = x\n",
    "        self.y = y\n",
    "    \n",
    "    def __getitem__(self, index):\n",
    "        x = torch.from_numpy(self.x[index]).long() \n",
    "        y = torch.from_numpy(self.y[index]).long() \n",
    "        return x, y\n",
    "    \n",
    "    def __len__(self):\n",
    "        return len(self.x)\n",
    "\n",
    "train_dataset = SequenceDataset(x_train, y_train)\n",
    "val_dataset = SequenceDataset(x_val, y_val)\n",
    "test_dataset = SequenceDataset(x_test, y_test)\n",
    "\n",
    "train_loader = torch.utils.data.DataLoader(train_dataset, batch_size=BATCH_SIZE, shuffle=True)\n",
    "val_loader = torch.utils.data.DataLoader(val_dataset, batch_size=BATCH_SIZE, shuffle=True)\n",
    "test_loader = torch.utils.data.DataLoader(test_dataset, batch_size=BATCH_SIZE, shuffle=False)"
   ]
  },
  {
   "cell_type": "code",
   "execution_count": 46,
   "metadata": {},
   "outputs": [
    {
     "name": "stdout",
     "output_type": "stream",
     "text": [
      "torch.Size([4, 28])\n",
      "torch.Size([4, 28])\n",
      "tensor([128,  19,   0,  17,  20,  13,   0,  18,  14,   1,   0,  19, 129, 130,\n",
      "        130, 130, 130, 130, 130, 130, 130, 130, 130, 130, 130, 130, 130, 130])\n",
      "tensor([128,  18,   0,  12,   4,   6,   0,  13,  19, 129, 130, 130, 130, 130,\n",
      "        130, 130, 130, 130, 130, 130, 130, 130, 130, 130, 130, 130, 130, 130])\n",
      "tensor([128,  13,   0,  12,   0,  10,   0, 129, 130, 130, 130, 130, 130, 130,\n",
      "        130, 130, 130, 130, 130, 130, 130, 130, 130, 130, 130, 130, 130, 130])\n",
      "tensor([128,   1,   8,  13,   3,  17,   0,  10,   7,   8,   0, 129, 130, 130,\n",
      "        130, 130, 130, 130, 130, 130, 130, 130, 130, 130, 130, 130, 130, 130])\n",
      "tensor([128,  62,  74,  91,  61,  88,  82, 101,  70,  62, 129, 130, 130, 130,\n",
      "        130, 130, 130, 130, 130, 130, 130, 130, 130, 130, 130, 130, 130, 130])\n",
      "tensor([128,  82,  97,  72,  49,  97,  28,  57, 129, 130, 130, 130, 130, 130,\n",
      "        130, 130, 130, 130, 130, 130, 130, 130, 130, 130, 130, 130, 130, 130])\n",
      "tensor([128,  66,  88,  72,  88,  47,  88, 129, 130, 130, 130, 130, 130, 130,\n",
      "        130, 130, 130, 130, 130, 130, 130, 130, 130, 130, 130, 130, 130, 130])\n",
      "tensor([128,  70,  89,  28,  64, 103,  74,  88,  48,  89,  73,  88, 129, 130,\n",
      "        130, 130, 130, 130, 130, 130, 130, 130, 130, 130, 130, 130, 130, 130])\n"
     ]
    }
   ],
   "source": [
    "for x,y in train_loader:\n",
    "    print(x.shape)\n",
    "    print(y.shape)\n",
    "    for seq in x:\n",
    "        print(seq)\n",
    "    for seq in y:\n",
    "        print(seq)\n",
    "    break"
   ]
  },
  {
   "cell_type": "code",
   "execution_count": 50,
   "metadata": {},
   "outputs": [
    {
     "ename": "AttributeError",
     "evalue": "'tuple' object has no attribute 'shape'",
     "output_type": "error",
     "traceback": [
      "\u001b[1;31m---------------------------------------------------------------------------\u001b[0m",
      "\u001b[1;31mAttributeError\u001b[0m                            Traceback (most recent call last)",
      "\u001b[1;32mc:\\Users\\palas\\Desktop\\IOT\\cs6910_assignment3\\training.ipynb Cell 3\u001b[0m in \u001b[0;36m<cell line: 166>\u001b[1;34m()\u001b[0m\n\u001b[0;32m    <a href='vscode-notebook-cell:/c%3A/Users/palas/Desktop/IOT/cs6910_assignment3/training.ipynb#W2sZmlsZQ%3D%3D?line=162'>163</a>\u001b[0m device \u001b[39m=\u001b[39m torch\u001b[39m.\u001b[39mdevice(\u001b[39m\"\u001b[39m\u001b[39mcuda\u001b[39m\u001b[39m\"\u001b[39m \u001b[39mif\u001b[39;00m torch\u001b[39m.\u001b[39mcuda\u001b[39m.\u001b[39mis_available() \u001b[39melse\u001b[39;00m \u001b[39m\"\u001b[39m\u001b[39mcpu\u001b[39m\u001b[39m\"\u001b[39m)\n\u001b[0;32m    <a href='vscode-notebook-cell:/c%3A/Users/palas/Desktop/IOT/cs6910_assignment3/training.ipynb#W2sZmlsZQ%3D%3D?line=163'>164</a>\u001b[0m model \u001b[39m=\u001b[39m Seq2Seq(encoder, decoder, device)\n\u001b[1;32m--> <a href='vscode-notebook-cell:/c%3A/Users/palas/Desktop/IOT/cs6910_assignment3/training.ipynb#W2sZmlsZQ%3D%3D?line=165'>166</a>\u001b[0m output \u001b[39m=\u001b[39m model\u001b[39m.\u001b[39;49mforward(source,target)\n",
      "\u001b[1;32mc:\\Users\\palas\\Desktop\\IOT\\cs6910_assignment3\\training.ipynb Cell 3\u001b[0m in \u001b[0;36mSeq2Seq.forward\u001b[1;34m(self, source, target)\u001b[0m\n\u001b[0;32m    <a href='vscode-notebook-cell:/c%3A/Users/palas/Desktop/IOT/cs6910_assignment3/training.ipynb#W2sZmlsZQ%3D%3D?line=142'>143</a>\u001b[0m input_token \u001b[39m=\u001b[39m target[:, \u001b[39m0\u001b[39m] \n\u001b[0;32m    <a href='vscode-notebook-cell:/c%3A/Users/palas/Desktop/IOT/cs6910_assignment3/training.ipynb#W2sZmlsZQ%3D%3D?line=143'>144</a>\u001b[0m \u001b[39mfor\u001b[39;00m t \u001b[39min\u001b[39;00m \u001b[39mrange\u001b[39m(\u001b[39m1\u001b[39m, target_len):\n\u001b[1;32m--> <a href='vscode-notebook-cell:/c%3A/Users/palas/Desktop/IOT/cs6910_assignment3/training.ipynb#W2sZmlsZQ%3D%3D?line=145'>146</a>\u001b[0m     \u001b[39mif\u001b[39;00m(\u001b[39mlen\u001b[39m(decoder_hidden\u001b[39m.\u001b[39;49mshape)\u001b[39m==\u001b[39m\u001b[39m2\u001b[39m ) : decoder_hidden \u001b[39m=\u001b[39m decoder_hidden\u001b[39m.\u001b[39munsqueeze(\u001b[39m0\u001b[39m)\n\u001b[0;32m    <a href='vscode-notebook-cell:/c%3A/Users/palas/Desktop/IOT/cs6910_assignment3/training.ipynb#W2sZmlsZQ%3D%3D?line=147'>148</a>\u001b[0m     output, decoder_hidden \u001b[39m=\u001b[39m \u001b[39mself\u001b[39m\u001b[39m.\u001b[39mdecoder(input_token\u001b[39m.\u001b[39munsqueeze(\u001b[39m1\u001b[39m), decoder_hidden)\n\u001b[0;32m    <a href='vscode-notebook-cell:/c%3A/Users/palas/Desktop/IOT/cs6910_assignment3/training.ipynb#W2sZmlsZQ%3D%3D?line=148'>149</a>\u001b[0m     outputs[:, t] \u001b[39m=\u001b[39m output\u001b[39m.\u001b[39msqueeze(\u001b[39m1\u001b[39m)\n",
      "\u001b[1;31mAttributeError\u001b[0m: 'tuple' object has no attribute 'shape'"
     ]
    }
   ],
   "source": [
    "import torch.nn as nn\n",
    "import torch\n",
    "import random\n",
    "\n",
    "START_IDX = 128\n",
    "END_IDX = 129\n",
    "VOCAB_SIZE = 131\n",
    "EMBEDDING_DIM = 128\n",
    "HIDDEN_DIM = 256\n",
    "EPOCHS = 10\n",
    "NUM_LAYERS = 3\n",
    "DROPOUT = 0\n",
    "BIDIRECTIONAL = 0\n",
    "CELL_TYPE = \"LSTM\"\n",
    "BEAM_SIZE = 5\n",
    "\n",
    "class Encoder(nn.Module):\n",
    "\n",
    "    def __init__(self, vocab_size, embedding_dim, hidden_dim, num_layers, dropout, cell_type, bidirectional):\n",
    "        super(Encoder, self).__init__()\n",
    "\n",
    "        self.vocab_size = vocab_size\n",
    "        self.embedding_dim = embedding_dim\n",
    "        self.hidden_dim = hidden_dim\n",
    "        self.num_layers = num_layers\n",
    "        self.dropout_prob = dropout\n",
    "        self.cell_type = cell_type.upper()\n",
    "        self.bidirectional = bidirectional\n",
    "\n",
    "        self.dropout = nn.Dropout(self.dropout_prob)\n",
    "        self.embedding = nn.Embedding(num_embeddings = self.vocab_size, embedding_dim = self.embedding_dim)\n",
    "\n",
    "        if self.cell_type == 'RNN':\n",
    "            self.rnn = nn.RNN(input_size=self.embedding_dim, hidden_size=self.hidden_dim, num_layers=self.num_layers, batch_first=True, dropout=self.dropout_prob, bidirectional=bool(self.bidirectional))\n",
    "        elif self.cell_type == 'LSTM':\n",
    "            self.rnn = nn.LSTM(input_size=self.embedding_dim, hidden_size=self.hidden_dim, num_layers=self.num_layers, batch_first=True, dropout=self.dropout_prob, bidirectional=bool(self.bidirectional))\n",
    "        elif self.cell_type == 'GRU':\n",
    "            self.rnn = nn.GRU(input_size=self.embedding_dim, hidden_size=self.hidden_dim, num_layers=self.num_layers, batch_first=True, dropout=self.dropout_prob, bidirectional=bool(self.bidirectional))\n",
    "        else:\n",
    "            raise ValueError(f\"Unsupported cell_type '{self.cell_type}'. Supported types: 'RNN', 'LSTM', 'GRU'.\")\n",
    "\n",
    "    def forward(self, x):\n",
    "        # x has shape (batch_size, seq_len)\n",
    "\n",
    "        # Calculate embedding\n",
    "        embedding = self.embedding(x)\n",
    "        if(self.dropout_prob != 0) : embedding = self.dropout(embedding)\n",
    "\n",
    "        # Pass embedding through RNN\n",
    "        output, hidden = self.rnn(embedding)\n",
    "\n",
    "        # Apply dropout to hidden state\n",
    "\n",
    "        if(self.dropout_prob != 0):\n",
    "\n",
    "            if self.cell_type == 'LSTM':\n",
    "                hidden = tuple([self.dropout(h) for h in hidden])\n",
    "            else:\n",
    "                hidden = self.dropout(hidden)\n",
    "\n",
    "        return hidden\n",
    "\n",
    "\n",
    "class Decoder(nn.Module):\n",
    "\n",
    "    def __init__(self, vocab_size, embedding_dim, hidden_dim, num_layers, dropout, cell_type, bidirectional):\n",
    "        super(Decoder, self).__init__()\n",
    "\n",
    "        self.vocab_size = vocab_size\n",
    "        self.embedding_dim = embedding_dim\n",
    "        self.hidden_dim = hidden_dim\n",
    "        self.num_layers = num_layers\n",
    "        self.dropout_prob = dropout\n",
    "        self.cell_type = cell_type.upper()\n",
    "        self.bidirectional = bidirectional\n",
    "\n",
    "        self.dropout = nn.Dropout(self.dropout_prob)\n",
    "        self.embedding = nn.Embedding(num_embeddings = self.vocab_size, embedding_dim = self.embedding_dim)\n",
    "\n",
    "        if self.cell_type == 'RNN':\n",
    "            self.rnn = nn.RNN(input_size=self.embedding_dim, hidden_size=self.hidden_dim, num_layers=self.num_layers, batch_first=True, dropout=self.dropout_prob, bidirectional=bool(self.bidirectional))\n",
    "        elif self.cell_type == 'LSTM':\n",
    "            self.rnn = nn.LSTM(input_size=self.embedding_dim, hidden_size=self.hidden_dim, num_layers=self.num_layers, batch_first=True, dropout=self.dropout_prob, bidirectional=bool(self.bidirectional))\n",
    "        elif self.cell_type == 'GRU':\n",
    "            self.rnn = nn.GRU(input_size=self.embedding_dim, hidden_size=self.hidden_dim, num_layers=self.num_layers, batch_first=True, dropout=self.dropout_prob, bidirectional=bool(self.bidirectional))\n",
    "        else:\n",
    "            raise ValueError(f\"Unsupported cell_type '{self.cell_type}'. Supported types: 'RNN', 'LSTM', 'GRU'.\")\n",
    "\n",
    "        self.fc = nn.Linear(self.hidden_dim, self.vocab_size)\n",
    "\n",
    "    def forward(self, x, hidden):\n",
    "        # x has shape (batch_size, seq_len)\n",
    "\n",
    "        # Calculate embedding\n",
    "        embedding = self.embedding(x)\n",
    "\n",
    "        if(self.dropout_prob != 0) : embedding = self.dropout(embedding)\n",
    "\n",
    "        # Pass embedding and hidden state through RNN\n",
    "        output, hidden = self.rnn(embedding, hidden)\n",
    "\n",
    "        # Apply dropout to output\n",
    "        if(self.dropout_prob != 0) : output = self.dropout(output)\n",
    "\n",
    "        # Convert hidden state tuple to tensor for linear layer\n",
    "        if self.cell_type == 'LSTM':\n",
    "            hidden = torch.cat([h for h in hidden], dim=1)\n",
    "        else:\n",
    "            hidden = hidden.squeeze()\n",
    "\n",
    "        # Pass output through linear layer\n",
    "        output = self.fc(output)\n",
    "\n",
    "        return output, hidden\n",
    "\n",
    "\n",
    "class Seq2Seq(nn.Module):\n",
    "    def __init__(self, encoder, decoder, device):\n",
    "        super(Seq2Seq, self).__init__()\n",
    "\n",
    "        self.encoder = encoder\n",
    "        self.decoder = decoder\n",
    "        self.device = device\n",
    "\n",
    "    def forward(self, source, target):\n",
    "        # Encode source sequence\n",
    "        encoder_hidden = self.encoder(source)\n",
    "\n",
    "        # Initialize decoder hidden state with encoder final hidden state\n",
    "        if self.decoder.cell_type == 'LSTM':\n",
    "            decoder_hidden = (encoder_hidden[0][-self.decoder.num_layers:], encoder_hidden[1][-self.decoder.num_layers:])\n",
    "        else:\n",
    "            decoder_hidden = encoder_hidden[-self.decoder.num_layers:]\n",
    "\n",
    "        # Initialize output tensor\n",
    "        target_len = target.shape[1]\n",
    "        batch_size = target.shape[0]\n",
    "\n",
    "        vocab_size = self.decoder.vocab_size\n",
    "        outputs = torch.zeros(batch_size, target_len, vocab_size).to(target.device)\n",
    "\n",
    "        # Use teacher forcing\n",
    "        input_token = target[:, 0] \n",
    "        for t in range(1, target_len):\n",
    "\n",
    "            if(len(decoder_hidden.shape)==2 ) : decoder_hidden = decoder_hidden.unsqueeze(0)\n",
    "\n",
    "            output, decoder_hidden = self.decoder(input_token.unsqueeze(1), decoder_hidden)\n",
    "            outputs[:, t] = output.squeeze(1)\n",
    "\n",
    "            # Determine next input token using teacher forcing\n",
    "            input_token = target[:, t]\n",
    "\n",
    "        return outputs\n",
    "\n",
    "\n",
    "encoder = Encoder(VOCAB_SIZE, EMBEDDING_DIM, HIDDEN_DIM, NUM_LAYERS, DROPOUT, CELL_TYPE, BIDIRECTIONAL)\n",
    "decoder = Decoder(VOCAB_SIZE, EMBEDDING_DIM, HIDDEN_DIM, NUM_LAYERS, DROPOUT, CELL_TYPE, BIDIRECTIONAL)\n",
    "\n",
    "source = torch.randint(low=0, high=VOCAB_SIZE, size=(BATCH_SIZE, 10))\n",
    "target = torch.randint(low=0, high=VOCAB_SIZE, size=(BATCH_SIZE, 10))\n",
    "\n",
    "device = torch.device(\"cuda\" if torch.cuda.is_available() else \"cpu\")\n",
    "model = Seq2Seq(encoder, decoder, device)\n",
    "\n",
    "output = model.forward(source,target)"
   ]
  },
  {
   "cell_type": "code",
   "execution_count": 25,
   "metadata": {},
   "outputs": [
    {
     "ename": "KeyboardInterrupt",
     "evalue": "",
     "output_type": "error",
     "traceback": [
      "\u001b[1;31m---------------------------------------------------------------------------\u001b[0m",
      "\u001b[1;31mKeyboardInterrupt\u001b[0m                         Traceback (most recent call last)",
      "\u001b[1;32mc:\\Users\\palas\\Desktop\\IOT\\cs6910_assignment3\\training.ipynb Cell 4\u001b[0m in \u001b[0;36m<cell line: 7>\u001b[1;34m()\u001b[0m\n\u001b[0;32m     <a href='vscode-notebook-cell:/c%3A/Users/palas/Desktop/IOT/cs6910_assignment3/training.ipynb#W3sZmlsZQ%3D%3D?line=20'>21</a>\u001b[0m loss \u001b[39m=\u001b[39m criterion(output\u001b[39m.\u001b[39mview(\u001b[39m-\u001b[39m\u001b[39m1\u001b[39m, output_dim), tgt\u001b[39m.\u001b[39mview(\u001b[39m-\u001b[39m\u001b[39m1\u001b[39m))\n\u001b[0;32m     <a href='vscode-notebook-cell:/c%3A/Users/palas/Desktop/IOT/cs6910_assignment3/training.ipynb#W3sZmlsZQ%3D%3D?line=22'>23</a>\u001b[0m loss\u001b[39m.\u001b[39mbackward()\n\u001b[1;32m---> <a href='vscode-notebook-cell:/c%3A/Users/palas/Desktop/IOT/cs6910_assignment3/training.ipynb#W3sZmlsZQ%3D%3D?line=23'>24</a>\u001b[0m torch\u001b[39m.\u001b[39;49mnn\u001b[39m.\u001b[39;49mutils\u001b[39m.\u001b[39;49mclip_grad_norm_(model\u001b[39m.\u001b[39;49mparameters(), max_norm\u001b[39m=\u001b[39;49m\u001b[39m1\u001b[39;49m)\n\u001b[0;32m     <a href='vscode-notebook-cell:/c%3A/Users/palas/Desktop/IOT/cs6910_assignment3/training.ipynb#W3sZmlsZQ%3D%3D?line=25'>26</a>\u001b[0m optimizer\u001b[39m.\u001b[39mstep()\n\u001b[0;32m     <a href='vscode-notebook-cell:/c%3A/Users/palas/Desktop/IOT/cs6910_assignment3/training.ipynb#W3sZmlsZQ%3D%3D?line=26'>27</a>\u001b[0m train_loss \u001b[39m+\u001b[39m\u001b[39m=\u001b[39m loss\u001b[39m.\u001b[39mitem()\n",
      "File \u001b[1;32mc:\\Users\\palas\\AppData\\Local\\Programs\\Python\\Python39\\lib\\site-packages\\torch\\nn\\utils\\clip_grad.py:56\u001b[0m, in \u001b[0;36mclip_grad_norm_\u001b[1;34m(parameters, max_norm, norm_type, error_if_nonfinite)\u001b[0m\n\u001b[0;32m     54\u001b[0m clip_coef_clamped \u001b[39m=\u001b[39m torch\u001b[39m.\u001b[39mclamp(clip_coef, \u001b[39mmax\u001b[39m\u001b[39m=\u001b[39m\u001b[39m1.0\u001b[39m)\n\u001b[0;32m     55\u001b[0m \u001b[39mfor\u001b[39;00m g \u001b[39min\u001b[39;00m grads:\n\u001b[1;32m---> 56\u001b[0m     g\u001b[39m.\u001b[39;49mdetach()\u001b[39m.\u001b[39;49mmul_(clip_coef_clamped\u001b[39m.\u001b[39;49mto(g\u001b[39m.\u001b[39;49mdevice))\n\u001b[0;32m     57\u001b[0m \u001b[39mreturn\u001b[39;00m total_norm\n",
      "\u001b[1;31mKeyboardInterrupt\u001b[0m: "
     ]
    }
   ],
   "source": [
    "device = torch.device(\"cuda\" if torch.cuda.is_available() else \"cpu\")\n",
    "\n",
    "model = Seq2Seq(encoder, decoder, device=device).to(device)\n",
    "optimizer = torch.optim.Adam(model.parameters(), lr=1e-3)\n",
    "criterion = nn.CrossEntropyLoss()\n",
    "\n",
    "for epoch in range(EPOCHS):\n",
    "    # Train\n",
    "    model.train()\n",
    "    train_loss = 0\n",
    "    for src, tgt in train_loader:\n",
    "        src = src.to(device)\n",
    "        tgt = tgt.to(device)\n",
    "\n",
    "        optimizer.zero_grad()\n",
    "\n",
    "        output = model.forward(src, tgt)\n",
    "        output_dim = output.shape[-1]\n",
    "\n",
    "        # Flatten output and target tensors to calculate loss\n",
    "        loss = criterion(output.view(-1, output_dim), tgt.view(-1))\n",
    "\n",
    "        loss.backward()\n",
    "        torch.nn.utils.clip_grad_norm_(model.parameters(), max_norm=1)\n",
    "\n",
    "        optimizer.step()\n",
    "        train_loss += loss.item()\n",
    "\n",
    "    # Evaluate on validation set\n",
    "    model.eval()\n",
    "    val_loss = 0\n",
    "    with torch.no_grad():\n",
    "        for src, tgt in val_loader:\n",
    "            src = src.to(device)\n",
    "            tgt = tgt.to(device)\n",
    "\n",
    "            output= model.forward(src, tgt)\n",
    "            output_dim = output.shape[-1]\n",
    "\n",
    "            # Flatten output and target tensors to calculate loss\n",
    "            loss = criterion(output.view(-1, output_dim), tgt.view(-1))\n",
    "\n",
    "            val_loss += loss.item()\n",
    "\n",
    "    # Print statistics for the epoch\n",
    "    print(\"Epoch [{}/{}], Train Loss: {:.4f}, Val Loss: {:.4f}\"\n",
    "          .format(epoch+1, EPOCHS, train_loss/len(train_loader), val_loss/len(val_loader)))\n"
   ]
  },
  {
   "cell_type": "code",
   "execution_count": 44,
   "metadata": {},
   "outputs": [
    {
     "name": "stdout",
     "output_type": "stream",
     "text": [
      "Create sweep with ID: u1n7ugt4\n",
      "Sweep URL: https://wandb.ai/nihil666/rnn_runs/sweeps/u1n7ugt4\n"
     ]
    },
    {
     "name": "stderr",
     "output_type": "stream",
     "text": [
      "\u001b[34m\u001b[1mwandb\u001b[0m: Agent Starting Run: rhy8pgk2 with config:\n",
      "\u001b[34m\u001b[1mwandb\u001b[0m: \tbidirectional: 0\n",
      "\u001b[34m\u001b[1mwandb\u001b[0m: \tcell_type: RNN\n",
      "\u001b[34m\u001b[1mwandb\u001b[0m: \tdropout: 0\n",
      "\u001b[34m\u001b[1mwandb\u001b[0m: \thidden_layer_size: 64\n",
      "\u001b[34m\u001b[1mwandb\u001b[0m: \tinput_embedding_size: 64\n",
      "\u001b[34m\u001b[1mwandb\u001b[0m: \tnum_decoder_layers: 2\n",
      "\u001b[34m\u001b[1mwandb\u001b[0m: \tnum_encoder_layers: 3\n",
      "\u001b[34m\u001b[1mwandb\u001b[0m: \tteacher_forcing: 1\n",
      "Failed to detect the name of this notebook, you can set it manually with the WANDB_NOTEBOOK_NAME environment variable to enable code saving.\n"
     ]
    },
    {
     "data": {
      "text/html": [
       "wandb version 0.15.0 is available!  To upgrade, please run:\n",
       " $ pip install wandb --upgrade"
      ],
      "text/plain": [
       "<IPython.core.display.HTML object>"
      ]
     },
     "metadata": {},
     "output_type": "display_data"
    },
    {
     "data": {
      "text/html": [
       "Tracking run with wandb version 0.13.10"
      ],
      "text/plain": [
       "<IPython.core.display.HTML object>"
      ]
     },
     "metadata": {},
     "output_type": "display_data"
    },
    {
     "data": {
      "text/html": [
       "Run data is saved locally in <code>c:\\Users\\palas\\Desktop\\IOT\\cs6910_assignment3\\wandb\\run-20230424_012838-rhy8pgk2</code>"
      ],
      "text/plain": [
       "<IPython.core.display.HTML object>"
      ]
     },
     "metadata": {},
     "output_type": "display_data"
    },
    {
     "data": {
      "text/html": [
       "Syncing run <strong><a href='https://wandb.ai/nihil666/rnn_runs/runs/rhy8pgk2' target=\"_blank\">misty-sweep-1</a></strong> to <a href='https://wandb.ai/nihil666/rnn_runs' target=\"_blank\">Weights & Biases</a> (<a href='https://wandb.me/run' target=\"_blank\">docs</a>)<br/>Sweep page: <a href='https://wandb.ai/nihil666/rnn_runs/sweeps/u1n7ugt4' target=\"_blank\">https://wandb.ai/nihil666/rnn_runs/sweeps/u1n7ugt4</a>"
      ],
      "text/plain": [
       "<IPython.core.display.HTML object>"
      ]
     },
     "metadata": {},
     "output_type": "display_data"
    },
    {
     "data": {
      "text/html": [
       " View project at <a href='https://wandb.ai/nihil666/rnn_runs' target=\"_blank\">https://wandb.ai/nihil666/rnn_runs</a>"
      ],
      "text/plain": [
       "<IPython.core.display.HTML object>"
      ]
     },
     "metadata": {},
     "output_type": "display_data"
    },
    {
     "data": {
      "text/html": [
       " View sweep at <a href='https://wandb.ai/nihil666/rnn_runs/sweeps/u1n7ugt4' target=\"_blank\">https://wandb.ai/nihil666/rnn_runs/sweeps/u1n7ugt4</a>"
      ],
      "text/plain": [
       "<IPython.core.display.HTML object>"
      ]
     },
     "metadata": {},
     "output_type": "display_data"
    },
    {
     "data": {
      "text/html": [
       " View run at <a href='https://wandb.ai/nihil666/rnn_runs/runs/rhy8pgk2' target=\"_blank\">https://wandb.ai/nihil666/rnn_runs/runs/rhy8pgk2</a>"
      ],
      "text/plain": [
       "<IPython.core.display.HTML object>"
      ]
     },
     "metadata": {},
     "output_type": "display_data"
    },
    {
     "data": {
      "text/html": [
       "Waiting for W&B process to finish... <strong style=\"color:green\">(success).</strong>"
      ],
      "text/plain": [
       "<IPython.core.display.HTML object>"
      ]
     },
     "metadata": {},
     "output_type": "display_data"
    },
    {
     "data": {
      "application/vnd.jupyter.widget-view+json": {
       "model_id": "5fd44735f03140ef8b52c543c2a1f69e",
       "version_major": 2,
       "version_minor": 0
      },
      "text/plain": [
       "VBox(children=(Label(value='0.001 MB of 0.007 MB uploaded (0.000 MB deduped)\\r'), FloatProgress(value=0.185334…"
      ]
     },
     "metadata": {},
     "output_type": "display_data"
    },
    {
     "data": {
      "text/html": [
       "<style>\n",
       "    table.wandb td:nth-child(1) { padding: 0 10px; text-align: left ; width: auto;} td:nth-child(2) {text-align: left ; width: 100%}\n",
       "    .wandb-row { display: flex; flex-direction: row; flex-wrap: wrap; justify-content: flex-start; width: 100% }\n",
       "    .wandb-col { display: flex; flex-direction: column; flex-basis: 100%; flex: 1; padding: 10px; }\n",
       "    </style>\n",
       "<div class=\"wandb-row\"><div class=\"wandb-col\"><h3>Run history:</h3><br/><table class=\"wandb\"><tr><td>epochs</td><td>▁▃▅▆█</td></tr><tr><td>train_loss</td><td>█▇▂▅▁</td></tr><tr><td>val_loss</td><td>█▃▂▁▂</td></tr></table><br/></div><div class=\"wandb-col\"><h3>Run summary:</h3><br/><table class=\"wandb\"><tr><td>epochs</td><td>4</td></tr><tr><td>train_loss</td><td>0.83468</td></tr><tr><td>val_loss</td><td>897.68121</td></tr></table><br/></div></div>"
      ],
      "text/plain": [
       "<IPython.core.display.HTML object>"
      ]
     },
     "metadata": {},
     "output_type": "display_data"
    },
    {
     "data": {
      "text/html": [
       " View run <strong style=\"color:#cdcd00\">misty-sweep-1</strong> at: <a href='https://wandb.ai/nihil666/rnn_runs/runs/rhy8pgk2' target=\"_blank\">https://wandb.ai/nihil666/rnn_runs/runs/rhy8pgk2</a><br/>Synced 4 W&B file(s), 0 media file(s), 0 artifact file(s) and 0 other file(s)"
      ],
      "text/plain": [
       "<IPython.core.display.HTML object>"
      ]
     },
     "metadata": {},
     "output_type": "display_data"
    },
    {
     "data": {
      "text/html": [
       "Find logs at: <code>.\\wandb\\run-20230424_012838-rhy8pgk2\\logs</code>"
      ],
      "text/plain": [
       "<IPython.core.display.HTML object>"
      ]
     },
     "metadata": {},
     "output_type": "display_data"
    },
    {
     "name": "stderr",
     "output_type": "stream",
     "text": [
      "\u001b[34m\u001b[1mwandb\u001b[0m: Agent Starting Run: z2n27ulj with config:\n",
      "\u001b[34m\u001b[1mwandb\u001b[0m: \tbidirectional: 0\n",
      "\u001b[34m\u001b[1mwandb\u001b[0m: \tcell_type: LSTM\n",
      "\u001b[34m\u001b[1mwandb\u001b[0m: \tdropout: 0\n",
      "\u001b[34m\u001b[1mwandb\u001b[0m: \thidden_layer_size: 64\n",
      "\u001b[34m\u001b[1mwandb\u001b[0m: \tinput_embedding_size: 64\n",
      "\u001b[34m\u001b[1mwandb\u001b[0m: \tnum_decoder_layers: 3\n",
      "\u001b[34m\u001b[1mwandb\u001b[0m: \tnum_encoder_layers: 3\n",
      "\u001b[34m\u001b[1mwandb\u001b[0m: \tteacher_forcing: 0.75\n",
      "Failed to detect the name of this notebook, you can set it manually with the WANDB_NOTEBOOK_NAME environment variable to enable code saving.\n"
     ]
    },
    {
     "data": {
      "text/html": [
       "wandb version 0.15.0 is available!  To upgrade, please run:\n",
       " $ pip install wandb --upgrade"
      ],
      "text/plain": [
       "<IPython.core.display.HTML object>"
      ]
     },
     "metadata": {},
     "output_type": "display_data"
    },
    {
     "data": {
      "text/html": [
       "Tracking run with wandb version 0.13.10"
      ],
      "text/plain": [
       "<IPython.core.display.HTML object>"
      ]
     },
     "metadata": {},
     "output_type": "display_data"
    },
    {
     "data": {
      "text/html": [
       "Run data is saved locally in <code>c:\\Users\\palas\\Desktop\\IOT\\cs6910_assignment3\\wandb\\run-20230424_022404-z2n27ulj</code>"
      ],
      "text/plain": [
       "<IPython.core.display.HTML object>"
      ]
     },
     "metadata": {},
     "output_type": "display_data"
    },
    {
     "data": {
      "text/html": [
       "Syncing run <strong><a href='https://wandb.ai/nihil666/rnn_runs/runs/z2n27ulj' target=\"_blank\">effortless-sweep-2</a></strong> to <a href='https://wandb.ai/nihil666/rnn_runs' target=\"_blank\">Weights & Biases</a> (<a href='https://wandb.me/run' target=\"_blank\">docs</a>)<br/>Sweep page: <a href='https://wandb.ai/nihil666/rnn_runs/sweeps/u1n7ugt4' target=\"_blank\">https://wandb.ai/nihil666/rnn_runs/sweeps/u1n7ugt4</a>"
      ],
      "text/plain": [
       "<IPython.core.display.HTML object>"
      ]
     },
     "metadata": {},
     "output_type": "display_data"
    },
    {
     "data": {
      "text/html": [
       " View project at <a href='https://wandb.ai/nihil666/rnn_runs' target=\"_blank\">https://wandb.ai/nihil666/rnn_runs</a>"
      ],
      "text/plain": [
       "<IPython.core.display.HTML object>"
      ]
     },
     "metadata": {},
     "output_type": "display_data"
    },
    {
     "data": {
      "text/html": [
       " View sweep at <a href='https://wandb.ai/nihil666/rnn_runs/sweeps/u1n7ugt4' target=\"_blank\">https://wandb.ai/nihil666/rnn_runs/sweeps/u1n7ugt4</a>"
      ],
      "text/plain": [
       "<IPython.core.display.HTML object>"
      ]
     },
     "metadata": {},
     "output_type": "display_data"
    },
    {
     "data": {
      "text/html": [
       " View run at <a href='https://wandb.ai/nihil666/rnn_runs/runs/z2n27ulj' target=\"_blank\">https://wandb.ai/nihil666/rnn_runs/runs/z2n27ulj</a>"
      ],
      "text/plain": [
       "<IPython.core.display.HTML object>"
      ]
     },
     "metadata": {},
     "output_type": "display_data"
    },
    {
     "data": {
      "text/html": [
       "Waiting for W&B process to finish... <strong style=\"color:red\">(failed 1).</strong> Press Ctrl-C to abort syncing."
      ],
      "text/plain": [
       "<IPython.core.display.HTML object>"
      ]
     },
     "metadata": {},
     "output_type": "display_data"
    },
    {
     "data": {
      "application/vnd.jupyter.widget-view+json": {
       "model_id": "60a5f86eb8f34051bd0d18032fd0049f",
       "version_major": 2,
       "version_minor": 0
      },
      "text/plain": [
       "VBox(children=(Label(value='0.001 MB of 0.001 MB uploaded (0.000 MB deduped)\\r'), FloatProgress(value=1.0, max…"
      ]
     },
     "metadata": {},
     "output_type": "display_data"
    },
    {
     "data": {
      "text/html": [
       " View run <strong style=\"color:#cdcd00\">effortless-sweep-2</strong> at: <a href='https://wandb.ai/nihil666/rnn_runs/runs/z2n27ulj' target=\"_blank\">https://wandb.ai/nihil666/rnn_runs/runs/z2n27ulj</a><br/>Synced 4 W&B file(s), 0 media file(s), 0 artifact file(s) and 0 other file(s)"
      ],
      "text/plain": [
       "<IPython.core.display.HTML object>"
      ]
     },
     "metadata": {},
     "output_type": "display_data"
    },
    {
     "data": {
      "text/html": [
       "Find logs at: <code>.\\wandb\\run-20230424_022404-z2n27ulj\\logs</code>"
      ],
      "text/plain": [
       "<IPython.core.display.HTML object>"
      ]
     },
     "metadata": {},
     "output_type": "display_data"
    },
    {
     "name": "stderr",
     "output_type": "stream",
     "text": [
      "Run z2n27ulj errored: AttributeError(\"'tuple' object has no attribute 'shape'\")\n",
      "\u001b[34m\u001b[1mwandb\u001b[0m: \u001b[32m\u001b[41mERROR\u001b[0m Run z2n27ulj errored: AttributeError(\"'tuple' object has no attribute 'shape'\")\n",
      "\u001b[34m\u001b[1mwandb\u001b[0m: Agent Starting Run: 59k7zjk2 with config:\n",
      "\u001b[34m\u001b[1mwandb\u001b[0m: \tbidirectional: 0\n",
      "\u001b[34m\u001b[1mwandb\u001b[0m: \tcell_type: GRU\n",
      "\u001b[34m\u001b[1mwandb\u001b[0m: \tdropout: 0\n",
      "\u001b[34m\u001b[1mwandb\u001b[0m: \thidden_layer_size: 64\n",
      "\u001b[34m\u001b[1mwandb\u001b[0m: \tinput_embedding_size: 128\n",
      "\u001b[34m\u001b[1mwandb\u001b[0m: \tnum_decoder_layers: 3\n",
      "\u001b[34m\u001b[1mwandb\u001b[0m: \tnum_encoder_layers: 1\n",
      "\u001b[34m\u001b[1mwandb\u001b[0m: \tteacher_forcing: 0.75\n",
      "Failed to detect the name of this notebook, you can set it manually with the WANDB_NOTEBOOK_NAME environment variable to enable code saving.\n"
     ]
    },
    {
     "data": {
      "text/html": [
       "wandb version 0.15.0 is available!  To upgrade, please run:\n",
       " $ pip install wandb --upgrade"
      ],
      "text/plain": [
       "<IPython.core.display.HTML object>"
      ]
     },
     "metadata": {},
     "output_type": "display_data"
    },
    {
     "data": {
      "text/html": [
       "Tracking run with wandb version 0.13.10"
      ],
      "text/plain": [
       "<IPython.core.display.HTML object>"
      ]
     },
     "metadata": {},
     "output_type": "display_data"
    },
    {
     "data": {
      "text/html": [
       "Run data is saved locally in <code>c:\\Users\\palas\\Desktop\\IOT\\cs6910_assignment3\\wandb\\run-20230424_022414-59k7zjk2</code>"
      ],
      "text/plain": [
       "<IPython.core.display.HTML object>"
      ]
     },
     "metadata": {},
     "output_type": "display_data"
    },
    {
     "data": {
      "text/html": [
       "Syncing run <strong><a href='https://wandb.ai/nihil666/rnn_runs/runs/59k7zjk2' target=\"_blank\">lucky-sweep-3</a></strong> to <a href='https://wandb.ai/nihil666/rnn_runs' target=\"_blank\">Weights & Biases</a> (<a href='https://wandb.me/run' target=\"_blank\">docs</a>)<br/>Sweep page: <a href='https://wandb.ai/nihil666/rnn_runs/sweeps/u1n7ugt4' target=\"_blank\">https://wandb.ai/nihil666/rnn_runs/sweeps/u1n7ugt4</a>"
      ],
      "text/plain": [
       "<IPython.core.display.HTML object>"
      ]
     },
     "metadata": {},
     "output_type": "display_data"
    },
    {
     "data": {
      "text/html": [
       " View project at <a href='https://wandb.ai/nihil666/rnn_runs' target=\"_blank\">https://wandb.ai/nihil666/rnn_runs</a>"
      ],
      "text/plain": [
       "<IPython.core.display.HTML object>"
      ]
     },
     "metadata": {},
     "output_type": "display_data"
    },
    {
     "data": {
      "text/html": [
       " View sweep at <a href='https://wandb.ai/nihil666/rnn_runs/sweeps/u1n7ugt4' target=\"_blank\">https://wandb.ai/nihil666/rnn_runs/sweeps/u1n7ugt4</a>"
      ],
      "text/plain": [
       "<IPython.core.display.HTML object>"
      ]
     },
     "metadata": {},
     "output_type": "display_data"
    },
    {
     "data": {
      "text/html": [
       " View run at <a href='https://wandb.ai/nihil666/rnn_runs/runs/59k7zjk2' target=\"_blank\">https://wandb.ai/nihil666/rnn_runs/runs/59k7zjk2</a>"
      ],
      "text/plain": [
       "<IPython.core.display.HTML object>"
      ]
     },
     "metadata": {},
     "output_type": "display_data"
    },
    {
     "data": {
      "text/html": [
       "Waiting for W&B process to finish... <strong style=\"color:red\">(failed 1).</strong> Press Ctrl-C to abort syncing."
      ],
      "text/plain": [
       "<IPython.core.display.HTML object>"
      ]
     },
     "metadata": {},
     "output_type": "display_data"
    },
    {
     "data": {
      "application/vnd.jupyter.widget-view+json": {
       "model_id": "2504b4b976e8456189a28777833ab4c2",
       "version_major": 2,
       "version_minor": 0
      },
      "text/plain": [
       "VBox(children=(Label(value='0.001 MB of 0.001 MB uploaded (0.000 MB deduped)\\r'), FloatProgress(value=1.0, max…"
      ]
     },
     "metadata": {},
     "output_type": "display_data"
    },
    {
     "data": {
      "text/html": [
       " View run <strong style=\"color:#cdcd00\">lucky-sweep-3</strong> at: <a href='https://wandb.ai/nihil666/rnn_runs/runs/59k7zjk2' target=\"_blank\">https://wandb.ai/nihil666/rnn_runs/runs/59k7zjk2</a><br/>Synced 4 W&B file(s), 0 media file(s), 0 artifact file(s) and 0 other file(s)"
      ],
      "text/plain": [
       "<IPython.core.display.HTML object>"
      ]
     },
     "metadata": {},
     "output_type": "display_data"
    },
    {
     "data": {
      "text/html": [
       "Find logs at: <code>.\\wandb\\run-20230424_022414-59k7zjk2\\logs</code>"
      ],
      "text/plain": [
       "<IPython.core.display.HTML object>"
      ]
     },
     "metadata": {},
     "output_type": "display_data"
    },
    {
     "name": "stderr",
     "output_type": "stream",
     "text": [
      "Run 59k7zjk2 errored: RuntimeError('Expected hidden size (3, 4, 64), got [1, 4, 64]')\n",
      "\u001b[34m\u001b[1mwandb\u001b[0m: \u001b[32m\u001b[41mERROR\u001b[0m Run 59k7zjk2 errored: RuntimeError('Expected hidden size (3, 4, 64), got [1, 4, 64]')\n",
      "\u001b[34m\u001b[1mwandb\u001b[0m: Agent Starting Run: b8dbo259 with config:\n",
      "\u001b[34m\u001b[1mwandb\u001b[0m: \tbidirectional: 0\n",
      "\u001b[34m\u001b[1mwandb\u001b[0m: \tcell_type: GRU\n",
      "\u001b[34m\u001b[1mwandb\u001b[0m: \tdropout: 0\n",
      "\u001b[34m\u001b[1mwandb\u001b[0m: \thidden_layer_size: 64\n",
      "\u001b[34m\u001b[1mwandb\u001b[0m: \tinput_embedding_size: 64\n",
      "\u001b[34m\u001b[1mwandb\u001b[0m: \tnum_decoder_layers: 1\n",
      "\u001b[34m\u001b[1mwandb\u001b[0m: \tnum_encoder_layers: 3\n",
      "\u001b[34m\u001b[1mwandb\u001b[0m: \tteacher_forcing: 0.5\n",
      "Failed to detect the name of this notebook, you can set it manually with the WANDB_NOTEBOOK_NAME environment variable to enable code saving.\n"
     ]
    },
    {
     "data": {
      "text/html": [
       "wandb version 0.15.0 is available!  To upgrade, please run:\n",
       " $ pip install wandb --upgrade"
      ],
      "text/plain": [
       "<IPython.core.display.HTML object>"
      ]
     },
     "metadata": {},
     "output_type": "display_data"
    },
    {
     "data": {
      "text/html": [
       "Tracking run with wandb version 0.13.10"
      ],
      "text/plain": [
       "<IPython.core.display.HTML object>"
      ]
     },
     "metadata": {},
     "output_type": "display_data"
    },
    {
     "data": {
      "text/html": [
       "Run data is saved locally in <code>c:\\Users\\palas\\Desktop\\IOT\\cs6910_assignment3\\wandb\\run-20230424_022425-b8dbo259</code>"
      ],
      "text/plain": [
       "<IPython.core.display.HTML object>"
      ]
     },
     "metadata": {},
     "output_type": "display_data"
    },
    {
     "data": {
      "text/html": [
       "Syncing run <strong><a href='https://wandb.ai/nihil666/rnn_runs/runs/b8dbo259' target=\"_blank\">pious-sweep-4</a></strong> to <a href='https://wandb.ai/nihil666/rnn_runs' target=\"_blank\">Weights & Biases</a> (<a href='https://wandb.me/run' target=\"_blank\">docs</a>)<br/>Sweep page: <a href='https://wandb.ai/nihil666/rnn_runs/sweeps/u1n7ugt4' target=\"_blank\">https://wandb.ai/nihil666/rnn_runs/sweeps/u1n7ugt4</a>"
      ],
      "text/plain": [
       "<IPython.core.display.HTML object>"
      ]
     },
     "metadata": {},
     "output_type": "display_data"
    },
    {
     "data": {
      "text/html": [
       " View project at <a href='https://wandb.ai/nihil666/rnn_runs' target=\"_blank\">https://wandb.ai/nihil666/rnn_runs</a>"
      ],
      "text/plain": [
       "<IPython.core.display.HTML object>"
      ]
     },
     "metadata": {},
     "output_type": "display_data"
    },
    {
     "data": {
      "text/html": [
       " View sweep at <a href='https://wandb.ai/nihil666/rnn_runs/sweeps/u1n7ugt4' target=\"_blank\">https://wandb.ai/nihil666/rnn_runs/sweeps/u1n7ugt4</a>"
      ],
      "text/plain": [
       "<IPython.core.display.HTML object>"
      ]
     },
     "metadata": {},
     "output_type": "display_data"
    },
    {
     "data": {
      "text/html": [
       " View run at <a href='https://wandb.ai/nihil666/rnn_runs/runs/b8dbo259' target=\"_blank\">https://wandb.ai/nihil666/rnn_runs/runs/b8dbo259</a>"
      ],
      "text/plain": [
       "<IPython.core.display.HTML object>"
      ]
     },
     "metadata": {},
     "output_type": "display_data"
    },
    {
     "data": {
      "text/html": [
       "Waiting for W&B process to finish... <strong style=\"color:green\">(success).</strong>"
      ],
      "text/plain": [
       "<IPython.core.display.HTML object>"
      ]
     },
     "metadata": {},
     "output_type": "display_data"
    },
    {
     "data": {
      "application/vnd.jupyter.widget-view+json": {
       "model_id": "5f38414ef9e543e4a69803432af9ec41",
       "version_major": 2,
       "version_minor": 0
      },
      "text/plain": [
       "VBox(children=(Label(value='0.001 MB of 0.007 MB uploaded (0.000 MB deduped)\\r'), FloatProgress(value=0.185319…"
      ]
     },
     "metadata": {},
     "output_type": "display_data"
    },
    {
     "data": {
      "text/html": [
       "<style>\n",
       "    table.wandb td:nth-child(1) { padding: 0 10px; text-align: left ; width: auto;} td:nth-child(2) {text-align: left ; width: 100%}\n",
       "    .wandb-row { display: flex; flex-direction: row; flex-wrap: wrap; justify-content: flex-start; width: 100% }\n",
       "    .wandb-col { display: flex; flex-direction: column; flex-basis: 100%; flex: 1; padding: 10px; }\n",
       "    </style>\n",
       "<div class=\"wandb-row\"><div class=\"wandb-col\"><h3>Run history:</h3><br/><table class=\"wandb\"><tr><td>epochs</td><td>▁▃▅▆█</td></tr><tr><td>train_loss</td><td>█▁▂▂▄</td></tr><tr><td>val_loss</td><td>█▄▂▂▁</td></tr></table><br/></div><div class=\"wandb-col\"><h3>Run summary:</h3><br/><table class=\"wandb\"><tr><td>epochs</td><td>4</td></tr><tr><td>train_loss</td><td>0.49989</td></tr><tr><td>val_loss</td><td>392.87652</td></tr></table><br/></div></div>"
      ],
      "text/plain": [
       "<IPython.core.display.HTML object>"
      ]
     },
     "metadata": {},
     "output_type": "display_data"
    },
    {
     "data": {
      "text/html": [
       " View run <strong style=\"color:#cdcd00\">pious-sweep-4</strong> at: <a href='https://wandb.ai/nihil666/rnn_runs/runs/b8dbo259' target=\"_blank\">https://wandb.ai/nihil666/rnn_runs/runs/b8dbo259</a><br/>Synced 4 W&B file(s), 0 media file(s), 0 artifact file(s) and 0 other file(s)"
      ],
      "text/plain": [
       "<IPython.core.display.HTML object>"
      ]
     },
     "metadata": {},
     "output_type": "display_data"
    },
    {
     "data": {
      "text/html": [
       "Find logs at: <code>.\\wandb\\run-20230424_022425-b8dbo259\\logs</code>"
      ],
      "text/plain": [
       "<IPython.core.display.HTML object>"
      ]
     },
     "metadata": {},
     "output_type": "display_data"
    },
    {
     "name": "stderr",
     "output_type": "stream",
     "text": [
      "\u001b[34m\u001b[1mwandb\u001b[0m: Sweep Agent: Waiting for job.\n",
      "\u001b[34m\u001b[1mwandb\u001b[0m: Job received.\n",
      "\u001b[34m\u001b[1mwandb\u001b[0m: Agent Starting Run: qo1rxuhc with config:\n",
      "\u001b[34m\u001b[1mwandb\u001b[0m: \tbidirectional: 0\n",
      "\u001b[34m\u001b[1mwandb\u001b[0m: \tcell_type: RNN\n",
      "\u001b[34m\u001b[1mwandb\u001b[0m: \tdropout: 0\n",
      "\u001b[34m\u001b[1mwandb\u001b[0m: \thidden_layer_size: 128\n",
      "\u001b[34m\u001b[1mwandb\u001b[0m: \tinput_embedding_size: 64\n",
      "\u001b[34m\u001b[1mwandb\u001b[0m: \tnum_decoder_layers: 2\n",
      "\u001b[34m\u001b[1mwandb\u001b[0m: \tnum_encoder_layers: 2\n",
      "\u001b[34m\u001b[1mwandb\u001b[0m: \tteacher_forcing: 0.75\n",
      "Failed to detect the name of this notebook, you can set it manually with the WANDB_NOTEBOOK_NAME environment variable to enable code saving.\n"
     ]
    },
    {
     "data": {
      "text/html": [
       "wandb version 0.15.0 is available!  To upgrade, please run:\n",
       " $ pip install wandb --upgrade"
      ],
      "text/plain": [
       "<IPython.core.display.HTML object>"
      ]
     },
     "metadata": {},
     "output_type": "display_data"
    },
    {
     "data": {
      "text/html": [
       "Tracking run with wandb version 0.13.10"
      ],
      "text/plain": [
       "<IPython.core.display.HTML object>"
      ]
     },
     "metadata": {},
     "output_type": "display_data"
    },
    {
     "data": {
      "text/html": [
       "Run data is saved locally in <code>c:\\Users\\palas\\Desktop\\IOT\\cs6910_assignment3\\wandb\\run-20230424_031007-qo1rxuhc</code>"
      ],
      "text/plain": [
       "<IPython.core.display.HTML object>"
      ]
     },
     "metadata": {},
     "output_type": "display_data"
    },
    {
     "data": {
      "text/html": [
       "Syncing run <strong><a href='https://wandb.ai/nihil666/rnn_runs/runs/qo1rxuhc' target=\"_blank\">lively-sweep-5</a></strong> to <a href='https://wandb.ai/nihil666/rnn_runs' target=\"_blank\">Weights & Biases</a> (<a href='https://wandb.me/run' target=\"_blank\">docs</a>)<br/>Sweep page: <a href='https://wandb.ai/nihil666/rnn_runs/sweeps/u1n7ugt4' target=\"_blank\">https://wandb.ai/nihil666/rnn_runs/sweeps/u1n7ugt4</a>"
      ],
      "text/plain": [
       "<IPython.core.display.HTML object>"
      ]
     },
     "metadata": {},
     "output_type": "display_data"
    },
    {
     "data": {
      "text/html": [
       " View project at <a href='https://wandb.ai/nihil666/rnn_runs' target=\"_blank\">https://wandb.ai/nihil666/rnn_runs</a>"
      ],
      "text/plain": [
       "<IPython.core.display.HTML object>"
      ]
     },
     "metadata": {},
     "output_type": "display_data"
    },
    {
     "data": {
      "text/html": [
       " View sweep at <a href='https://wandb.ai/nihil666/rnn_runs/sweeps/u1n7ugt4' target=\"_blank\">https://wandb.ai/nihil666/rnn_runs/sweeps/u1n7ugt4</a>"
      ],
      "text/plain": [
       "<IPython.core.display.HTML object>"
      ]
     },
     "metadata": {},
     "output_type": "display_data"
    },
    {
     "data": {
      "text/html": [
       " View run at <a href='https://wandb.ai/nihil666/rnn_runs/runs/qo1rxuhc' target=\"_blank\">https://wandb.ai/nihil666/rnn_runs/runs/qo1rxuhc</a>"
      ],
      "text/plain": [
       "<IPython.core.display.HTML object>"
      ]
     },
     "metadata": {},
     "output_type": "display_data"
    },
    {
     "data": {
      "text/html": [
       "Waiting for W&B process to finish... <strong style=\"color:green\">(success).</strong>"
      ],
      "text/plain": [
       "<IPython.core.display.HTML object>"
      ]
     },
     "metadata": {},
     "output_type": "display_data"
    },
    {
     "data": {
      "application/vnd.jupyter.widget-view+json": {
       "model_id": "5fa5b09e9524400f8658c859f657a1d5",
       "version_major": 2,
       "version_minor": 0
      },
      "text/plain": [
       "VBox(children=(Label(value='0.001 MB of 0.007 MB uploaded (0.000 MB deduped)\\r'), FloatProgress(value=0.185344…"
      ]
     },
     "metadata": {},
     "output_type": "display_data"
    },
    {
     "data": {
      "text/html": [
       "<style>\n",
       "    table.wandb td:nth-child(1) { padding: 0 10px; text-align: left ; width: auto;} td:nth-child(2) {text-align: left ; width: 100%}\n",
       "    .wandb-row { display: flex; flex-direction: row; flex-wrap: wrap; justify-content: flex-start; width: 100% }\n",
       "    .wandb-col { display: flex; flex-direction: column; flex-basis: 100%; flex: 1; padding: 10px; }\n",
       "    </style>\n",
       "<div class=\"wandb-row\"><div class=\"wandb-col\"><h3>Run history:</h3><br/><table class=\"wandb\"><tr><td>epochs</td><td>▁▃▅▆█</td></tr><tr><td>train_loss</td><td>▁▄▃█▃</td></tr><tr><td>val_loss</td><td>█▄▄▁▁</td></tr></table><br/></div><div class=\"wandb-col\"><h3>Run summary:</h3><br/><table class=\"wandb\"><tr><td>epochs</td><td>4</td></tr><tr><td>train_loss</td><td>0.83704</td></tr><tr><td>val_loss</td><td>885.80134</td></tr></table><br/></div></div>"
      ],
      "text/plain": [
       "<IPython.core.display.HTML object>"
      ]
     },
     "metadata": {},
     "output_type": "display_data"
    },
    {
     "data": {
      "text/html": [
       " View run <strong style=\"color:#cdcd00\">lively-sweep-5</strong> at: <a href='https://wandb.ai/nihil666/rnn_runs/runs/qo1rxuhc' target=\"_blank\">https://wandb.ai/nihil666/rnn_runs/runs/qo1rxuhc</a><br/>Synced 4 W&B file(s), 0 media file(s), 0 artifact file(s) and 0 other file(s)"
      ],
      "text/plain": [
       "<IPython.core.display.HTML object>"
      ]
     },
     "metadata": {},
     "output_type": "display_data"
    },
    {
     "data": {
      "text/html": [
       "Find logs at: <code>.\\wandb\\run-20230424_031007-qo1rxuhc\\logs</code>"
      ],
      "text/plain": [
       "<IPython.core.display.HTML object>"
      ]
     },
     "metadata": {},
     "output_type": "display_data"
    },
    {
     "name": "stderr",
     "output_type": "stream",
     "text": [
      "\u001b[34m\u001b[1mwandb\u001b[0m: Agent Starting Run: ibijjtk1 with config:\n",
      "\u001b[34m\u001b[1mwandb\u001b[0m: \tbidirectional: 0\n",
      "\u001b[34m\u001b[1mwandb\u001b[0m: \tcell_type: GRU\n",
      "\u001b[34m\u001b[1mwandb\u001b[0m: \tdropout: 0.3\n",
      "\u001b[34m\u001b[1mwandb\u001b[0m: \thidden_layer_size: 64\n",
      "\u001b[34m\u001b[1mwandb\u001b[0m: \tinput_embedding_size: 64\n",
      "\u001b[34m\u001b[1mwandb\u001b[0m: \tnum_decoder_layers: 3\n",
      "\u001b[34m\u001b[1mwandb\u001b[0m: \tnum_encoder_layers: 3\n",
      "\u001b[34m\u001b[1mwandb\u001b[0m: \tteacher_forcing: 0.75\n",
      "Failed to detect the name of this notebook, you can set it manually with the WANDB_NOTEBOOK_NAME environment variable to enable code saving.\n"
     ]
    },
    {
     "data": {
      "text/html": [
       "wandb version 0.15.0 is available!  To upgrade, please run:\n",
       " $ pip install wandb --upgrade"
      ],
      "text/plain": [
       "<IPython.core.display.HTML object>"
      ]
     },
     "metadata": {},
     "output_type": "display_data"
    },
    {
     "data": {
      "text/html": [
       "Tracking run with wandb version 0.13.10"
      ],
      "text/plain": [
       "<IPython.core.display.HTML object>"
      ]
     },
     "metadata": {},
     "output_type": "display_data"
    },
    {
     "data": {
      "text/html": [
       "Run data is saved locally in <code>c:\\Users\\palas\\Desktop\\IOT\\cs6910_assignment3\\wandb\\run-20230424_040043-ibijjtk1</code>"
      ],
      "text/plain": [
       "<IPython.core.display.HTML object>"
      ]
     },
     "metadata": {},
     "output_type": "display_data"
    },
    {
     "data": {
      "text/html": [
       "Syncing run <strong><a href='https://wandb.ai/nihil666/rnn_runs/runs/ibijjtk1' target=\"_blank\">iconic-sweep-6</a></strong> to <a href='https://wandb.ai/nihil666/rnn_runs' target=\"_blank\">Weights & Biases</a> (<a href='https://wandb.me/run' target=\"_blank\">docs</a>)<br/>Sweep page: <a href='https://wandb.ai/nihil666/rnn_runs/sweeps/u1n7ugt4' target=\"_blank\">https://wandb.ai/nihil666/rnn_runs/sweeps/u1n7ugt4</a>"
      ],
      "text/plain": [
       "<IPython.core.display.HTML object>"
      ]
     },
     "metadata": {},
     "output_type": "display_data"
    },
    {
     "data": {
      "text/html": [
       " View project at <a href='https://wandb.ai/nihil666/rnn_runs' target=\"_blank\">https://wandb.ai/nihil666/rnn_runs</a>"
      ],
      "text/plain": [
       "<IPython.core.display.HTML object>"
      ]
     },
     "metadata": {},
     "output_type": "display_data"
    },
    {
     "data": {
      "text/html": [
       " View sweep at <a href='https://wandb.ai/nihil666/rnn_runs/sweeps/u1n7ugt4' target=\"_blank\">https://wandb.ai/nihil666/rnn_runs/sweeps/u1n7ugt4</a>"
      ],
      "text/plain": [
       "<IPython.core.display.HTML object>"
      ]
     },
     "metadata": {},
     "output_type": "display_data"
    },
    {
     "data": {
      "text/html": [
       " View run at <a href='https://wandb.ai/nihil666/rnn_runs/runs/ibijjtk1' target=\"_blank\">https://wandb.ai/nihil666/rnn_runs/runs/ibijjtk1</a>"
      ],
      "text/plain": [
       "<IPython.core.display.HTML object>"
      ]
     },
     "metadata": {},
     "output_type": "display_data"
    },
    {
     "data": {
      "text/html": [
       "Waiting for W&B process to finish... <strong style=\"color:green\">(success).</strong>"
      ],
      "text/plain": [
       "<IPython.core.display.HTML object>"
      ]
     },
     "metadata": {},
     "output_type": "display_data"
    },
    {
     "data": {
      "application/vnd.jupyter.widget-view+json": {
       "model_id": "18e9b961dd1b422b8236e5f366301cc6",
       "version_major": 2,
       "version_minor": 0
      },
      "text/plain": [
       "VBox(children=(Label(value='0.001 MB of 0.007 MB uploaded (0.000 MB deduped)\\r'), FloatProgress(value=0.185294…"
      ]
     },
     "metadata": {},
     "output_type": "display_data"
    },
    {
     "data": {
      "text/html": [
       "<style>\n",
       "    table.wandb td:nth-child(1) { padding: 0 10px; text-align: left ; width: auto;} td:nth-child(2) {text-align: left ; width: 100%}\n",
       "    .wandb-row { display: flex; flex-direction: row; flex-wrap: wrap; justify-content: flex-start; width: 100% }\n",
       "    .wandb-col { display: flex; flex-direction: column; flex-basis: 100%; flex: 1; padding: 10px; }\n",
       "    </style>\n",
       "<div class=\"wandb-row\"><div class=\"wandb-col\"><h3>Run history:</h3><br/><table class=\"wandb\"><tr><td>epochs</td><td>▁▃▅▆█</td></tr><tr><td>train_loss</td><td>▇█▃▁▆</td></tr><tr><td>val_loss</td><td>█▄▃▂▁</td></tr></table><br/></div><div class=\"wandb-col\"><h3>Run summary:</h3><br/><table class=\"wandb\"><tr><td>epochs</td><td>4</td></tr><tr><td>train_loss</td><td>0.46087</td></tr><tr><td>val_loss</td><td>404.26231</td></tr></table><br/></div></div>"
      ],
      "text/plain": [
       "<IPython.core.display.HTML object>"
      ]
     },
     "metadata": {},
     "output_type": "display_data"
    },
    {
     "data": {
      "text/html": [
       " View run <strong style=\"color:#cdcd00\">iconic-sweep-6</strong> at: <a href='https://wandb.ai/nihil666/rnn_runs/runs/ibijjtk1' target=\"_blank\">https://wandb.ai/nihil666/rnn_runs/runs/ibijjtk1</a><br/>Synced 4 W&B file(s), 0 media file(s), 0 artifact file(s) and 0 other file(s)"
      ],
      "text/plain": [
       "<IPython.core.display.HTML object>"
      ]
     },
     "metadata": {},
     "output_type": "display_data"
    },
    {
     "data": {
      "text/html": [
       "Find logs at: <code>.\\wandb\\run-20230424_040043-ibijjtk1\\logs</code>"
      ],
      "text/plain": [
       "<IPython.core.display.HTML object>"
      ]
     },
     "metadata": {},
     "output_type": "display_data"
    },
    {
     "name": "stderr",
     "output_type": "stream",
     "text": [
      "\u001b[34m\u001b[1mwandb\u001b[0m: Agent Starting Run: cmw4chzl with config:\n",
      "\u001b[34m\u001b[1mwandb\u001b[0m: \tbidirectional: 0\n",
      "\u001b[34m\u001b[1mwandb\u001b[0m: \tcell_type: LSTM\n",
      "\u001b[34m\u001b[1mwandb\u001b[0m: \tdropout: 0.2\n",
      "\u001b[34m\u001b[1mwandb\u001b[0m: \thidden_layer_size: 128\n",
      "\u001b[34m\u001b[1mwandb\u001b[0m: \tinput_embedding_size: 32\n",
      "\u001b[34m\u001b[1mwandb\u001b[0m: \tnum_decoder_layers: 2\n",
      "\u001b[34m\u001b[1mwandb\u001b[0m: \tnum_encoder_layers: 1\n",
      "\u001b[34m\u001b[1mwandb\u001b[0m: \tteacher_forcing: 0.75\n",
      "Failed to detect the name of this notebook, you can set it manually with the WANDB_NOTEBOOK_NAME environment variable to enable code saving.\n"
     ]
    },
    {
     "data": {
      "text/html": [
       "wandb version 0.15.0 is available!  To upgrade, please run:\n",
       " $ pip install wandb --upgrade"
      ],
      "text/plain": [
       "<IPython.core.display.HTML object>"
      ]
     },
     "metadata": {},
     "output_type": "display_data"
    },
    {
     "data": {
      "text/html": [
       "Tracking run with wandb version 0.13.10"
      ],
      "text/plain": [
       "<IPython.core.display.HTML object>"
      ]
     },
     "metadata": {},
     "output_type": "display_data"
    },
    {
     "data": {
      "text/html": [
       "Run data is saved locally in <code>c:\\Users\\palas\\Desktop\\IOT\\cs6910_assignment3\\wandb\\run-20230424_050923-cmw4chzl</code>"
      ],
      "text/plain": [
       "<IPython.core.display.HTML object>"
      ]
     },
     "metadata": {},
     "output_type": "display_data"
    },
    {
     "data": {
      "text/html": [
       "Syncing run <strong><a href='https://wandb.ai/nihil666/rnn_runs/runs/cmw4chzl' target=\"_blank\">easy-sweep-7</a></strong> to <a href='https://wandb.ai/nihil666/rnn_runs' target=\"_blank\">Weights & Biases</a> (<a href='https://wandb.me/run' target=\"_blank\">docs</a>)<br/>Sweep page: <a href='https://wandb.ai/nihil666/rnn_runs/sweeps/u1n7ugt4' target=\"_blank\">https://wandb.ai/nihil666/rnn_runs/sweeps/u1n7ugt4</a>"
      ],
      "text/plain": [
       "<IPython.core.display.HTML object>"
      ]
     },
     "metadata": {},
     "output_type": "display_data"
    },
    {
     "data": {
      "text/html": [
       " View project at <a href='https://wandb.ai/nihil666/rnn_runs' target=\"_blank\">https://wandb.ai/nihil666/rnn_runs</a>"
      ],
      "text/plain": [
       "<IPython.core.display.HTML object>"
      ]
     },
     "metadata": {},
     "output_type": "display_data"
    },
    {
     "data": {
      "text/html": [
       " View sweep at <a href='https://wandb.ai/nihil666/rnn_runs/sweeps/u1n7ugt4' target=\"_blank\">https://wandb.ai/nihil666/rnn_runs/sweeps/u1n7ugt4</a>"
      ],
      "text/plain": [
       "<IPython.core.display.HTML object>"
      ]
     },
     "metadata": {},
     "output_type": "display_data"
    },
    {
     "data": {
      "text/html": [
       " View run at <a href='https://wandb.ai/nihil666/rnn_runs/runs/cmw4chzl' target=\"_blank\">https://wandb.ai/nihil666/rnn_runs/runs/cmw4chzl</a>"
      ],
      "text/plain": [
       "<IPython.core.display.HTML object>"
      ]
     },
     "metadata": {},
     "output_type": "display_data"
    },
    {
     "data": {
      "text/html": [
       "Waiting for W&B process to finish... <strong style=\"color:red\">(failed 1).</strong> Press Ctrl-C to abort syncing."
      ],
      "text/plain": [
       "<IPython.core.display.HTML object>"
      ]
     },
     "metadata": {},
     "output_type": "display_data"
    },
    {
     "data": {
      "application/vnd.jupyter.widget-view+json": {
       "model_id": "516dfe957cd84648a032ec2efbff608b",
       "version_major": 2,
       "version_minor": 0
      },
      "text/plain": [
       "VBox(children=(Label(value='0.001 MB of 0.007 MB uploaded (0.000 MB deduped)\\r'), FloatProgress(value=0.189864…"
      ]
     },
     "metadata": {},
     "output_type": "display_data"
    },
    {
     "data": {
      "text/html": [
       " View run <strong style=\"color:#cdcd00\">easy-sweep-7</strong> at: <a href='https://wandb.ai/nihil666/rnn_runs/runs/cmw4chzl' target=\"_blank\">https://wandb.ai/nihil666/rnn_runs/runs/cmw4chzl</a><br/>Synced 4 W&B file(s), 0 media file(s), 0 artifact file(s) and 0 other file(s)"
      ],
      "text/plain": [
       "<IPython.core.display.HTML object>"
      ]
     },
     "metadata": {},
     "output_type": "display_data"
    },
    {
     "data": {
      "text/html": [
       "Find logs at: <code>.\\wandb\\run-20230424_050923-cmw4chzl\\logs</code>"
      ],
      "text/plain": [
       "<IPython.core.display.HTML object>"
      ]
     },
     "metadata": {},
     "output_type": "display_data"
    },
    {
     "name": "stderr",
     "output_type": "stream",
     "text": [
      "Run cmw4chzl errored: AttributeError(\"'tuple' object has no attribute 'shape'\")\n",
      "\u001b[34m\u001b[1mwandb\u001b[0m: \u001b[32m\u001b[41mERROR\u001b[0m Run cmw4chzl errored: AttributeError(\"'tuple' object has no attribute 'shape'\")\n",
      "\u001b[34m\u001b[1mwandb\u001b[0m: Agent Starting Run: qvju4oqq with config:\n",
      "\u001b[34m\u001b[1mwandb\u001b[0m: \tbidirectional: 0\n",
      "\u001b[34m\u001b[1mwandb\u001b[0m: \tcell_type: GRU\n",
      "\u001b[34m\u001b[1mwandb\u001b[0m: \tdropout: 0.3\n",
      "\u001b[34m\u001b[1mwandb\u001b[0m: \thidden_layer_size: 256\n",
      "\u001b[34m\u001b[1mwandb\u001b[0m: \tinput_embedding_size: 128\n",
      "\u001b[34m\u001b[1mwandb\u001b[0m: \tnum_decoder_layers: 3\n",
      "\u001b[34m\u001b[1mwandb\u001b[0m: \tnum_encoder_layers: 3\n",
      "\u001b[34m\u001b[1mwandb\u001b[0m: \tteacher_forcing: 0.75\n",
      "Failed to detect the name of this notebook, you can set it manually with the WANDB_NOTEBOOK_NAME environment variable to enable code saving.\n"
     ]
    },
    {
     "data": {
      "text/html": [
       "wandb version 0.15.0 is available!  To upgrade, please run:\n",
       " $ pip install wandb --upgrade"
      ],
      "text/plain": [
       "<IPython.core.display.HTML object>"
      ]
     },
     "metadata": {},
     "output_type": "display_data"
    },
    {
     "data": {
      "text/html": [
       "Tracking run with wandb version 0.13.10"
      ],
      "text/plain": [
       "<IPython.core.display.HTML object>"
      ]
     },
     "metadata": {},
     "output_type": "display_data"
    },
    {
     "data": {
      "text/html": [
       "Run data is saved locally in <code>c:\\Users\\palas\\Desktop\\IOT\\cs6910_assignment3\\wandb\\run-20230424_050934-qvju4oqq</code>"
      ],
      "text/plain": [
       "<IPython.core.display.HTML object>"
      ]
     },
     "metadata": {},
     "output_type": "display_data"
    },
    {
     "data": {
      "text/html": [
       "Syncing run <strong><a href='https://wandb.ai/nihil666/rnn_runs/runs/qvju4oqq' target=\"_blank\">robust-sweep-8</a></strong> to <a href='https://wandb.ai/nihil666/rnn_runs' target=\"_blank\">Weights & Biases</a> (<a href='https://wandb.me/run' target=\"_blank\">docs</a>)<br/>Sweep page: <a href='https://wandb.ai/nihil666/rnn_runs/sweeps/u1n7ugt4' target=\"_blank\">https://wandb.ai/nihil666/rnn_runs/sweeps/u1n7ugt4</a>"
      ],
      "text/plain": [
       "<IPython.core.display.HTML object>"
      ]
     },
     "metadata": {},
     "output_type": "display_data"
    },
    {
     "data": {
      "text/html": [
       " View project at <a href='https://wandb.ai/nihil666/rnn_runs' target=\"_blank\">https://wandb.ai/nihil666/rnn_runs</a>"
      ],
      "text/plain": [
       "<IPython.core.display.HTML object>"
      ]
     },
     "metadata": {},
     "output_type": "display_data"
    },
    {
     "data": {
      "text/html": [
       " View sweep at <a href='https://wandb.ai/nihil666/rnn_runs/sweeps/u1n7ugt4' target=\"_blank\">https://wandb.ai/nihil666/rnn_runs/sweeps/u1n7ugt4</a>"
      ],
      "text/plain": [
       "<IPython.core.display.HTML object>"
      ]
     },
     "metadata": {},
     "output_type": "display_data"
    },
    {
     "data": {
      "text/html": [
       " View run at <a href='https://wandb.ai/nihil666/rnn_runs/runs/qvju4oqq' target=\"_blank\">https://wandb.ai/nihil666/rnn_runs/runs/qvju4oqq</a>"
      ],
      "text/plain": [
       "<IPython.core.display.HTML object>"
      ]
     },
     "metadata": {},
     "output_type": "display_data"
    },
    {
     "data": {
      "text/html": [
       "Waiting for W&B process to finish... <strong style=\"color:green\">(success).</strong>"
      ],
      "text/plain": [
       "<IPython.core.display.HTML object>"
      ]
     },
     "metadata": {},
     "output_type": "display_data"
    },
    {
     "data": {
      "application/vnd.jupyter.widget-view+json": {
       "model_id": "f489115d576844aaace794c176ffba41",
       "version_major": 2,
       "version_minor": 0
      },
      "text/plain": [
       "VBox(children=(Label(value='0.007 MB of 0.007 MB uploaded (0.000 MB deduped)\\r'), FloatProgress(value=1.0, max…"
      ]
     },
     "metadata": {},
     "output_type": "display_data"
    },
    {
     "data": {
      "text/html": [
       "<style>\n",
       "    table.wandb td:nth-child(1) { padding: 0 10px; text-align: left ; width: auto;} td:nth-child(2) {text-align: left ; width: 100%}\n",
       "    .wandb-row { display: flex; flex-direction: row; flex-wrap: wrap; justify-content: flex-start; width: 100% }\n",
       "    .wandb-col { display: flex; flex-direction: column; flex-basis: 100%; flex: 1; padding: 10px; }\n",
       "    </style>\n",
       "<div class=\"wandb-row\"><div class=\"wandb-col\"><h3>Run history:</h3><br/><table class=\"wandb\"><tr><td>epochs</td><td>▁▃▅▆█</td></tr><tr><td>train_loss</td><td>▆█▅▁▆</td></tr><tr><td>val_loss</td><td>█▂▁▄▄</td></tr></table><br/></div><div class=\"wandb-col\"><h3>Run summary:</h3><br/><table class=\"wandb\"><tr><td>epochs</td><td>4</td></tr><tr><td>train_loss</td><td>0.51878</td></tr><tr><td>val_loss</td><td>394.36446</td></tr></table><br/></div></div>"
      ],
      "text/plain": [
       "<IPython.core.display.HTML object>"
      ]
     },
     "metadata": {},
     "output_type": "display_data"
    },
    {
     "data": {
      "text/html": [
       " View run <strong style=\"color:#cdcd00\">robust-sweep-8</strong> at: <a href='https://wandb.ai/nihil666/rnn_runs/runs/qvju4oqq' target=\"_blank\">https://wandb.ai/nihil666/rnn_runs/runs/qvju4oqq</a><br/>Synced 4 W&B file(s), 0 media file(s), 0 artifact file(s) and 0 other file(s)"
      ],
      "text/plain": [
       "<IPython.core.display.HTML object>"
      ]
     },
     "metadata": {},
     "output_type": "display_data"
    },
    {
     "data": {
      "text/html": [
       "Find logs at: <code>.\\wandb\\run-20230424_050934-qvju4oqq\\logs</code>"
      ],
      "text/plain": [
       "<IPython.core.display.HTML object>"
      ]
     },
     "metadata": {},
     "output_type": "display_data"
    },
    {
     "name": "stderr",
     "output_type": "stream",
     "text": [
      "\u001b[34m\u001b[1mwandb\u001b[0m: Agent Starting Run: 8e1mmzun with config:\n",
      "\u001b[34m\u001b[1mwandb\u001b[0m: \tbidirectional: 0\n",
      "\u001b[34m\u001b[1mwandb\u001b[0m: \tcell_type: GRU\n",
      "\u001b[34m\u001b[1mwandb\u001b[0m: \tdropout: 0.2\n",
      "\u001b[34m\u001b[1mwandb\u001b[0m: \thidden_layer_size: 256\n",
      "\u001b[34m\u001b[1mwandb\u001b[0m: \tinput_embedding_size: 32\n",
      "\u001b[34m\u001b[1mwandb\u001b[0m: \tnum_decoder_layers: 2\n",
      "\u001b[34m\u001b[1mwandb\u001b[0m: \tnum_encoder_layers: 1\n",
      "\u001b[34m\u001b[1mwandb\u001b[0m: \tteacher_forcing: 0.5\n",
      "Failed to detect the name of this notebook, you can set it manually with the WANDB_NOTEBOOK_NAME environment variable to enable code saving.\n"
     ]
    },
    {
     "data": {
      "text/html": [
       "wandb version 0.15.0 is available!  To upgrade, please run:\n",
       " $ pip install wandb --upgrade"
      ],
      "text/plain": [
       "<IPython.core.display.HTML object>"
      ]
     },
     "metadata": {},
     "output_type": "display_data"
    },
    {
     "data": {
      "text/html": [
       "Tracking run with wandb version 0.13.10"
      ],
      "text/plain": [
       "<IPython.core.display.HTML object>"
      ]
     },
     "metadata": {},
     "output_type": "display_data"
    },
    {
     "data": {
      "text/html": [
       "Run data is saved locally in <code>c:\\Users\\palas\\Desktop\\IOT\\cs6910_assignment3\\wandb\\run-20230424_062849-8e1mmzun</code>"
      ],
      "text/plain": [
       "<IPython.core.display.HTML object>"
      ]
     },
     "metadata": {},
     "output_type": "display_data"
    },
    {
     "data": {
      "text/html": [
       "Syncing run <strong><a href='https://wandb.ai/nihil666/rnn_runs/runs/8e1mmzun' target=\"_blank\">firm-sweep-9</a></strong> to <a href='https://wandb.ai/nihil666/rnn_runs' target=\"_blank\">Weights & Biases</a> (<a href='https://wandb.me/run' target=\"_blank\">docs</a>)<br/>Sweep page: <a href='https://wandb.ai/nihil666/rnn_runs/sweeps/u1n7ugt4' target=\"_blank\">https://wandb.ai/nihil666/rnn_runs/sweeps/u1n7ugt4</a>"
      ],
      "text/plain": [
       "<IPython.core.display.HTML object>"
      ]
     },
     "metadata": {},
     "output_type": "display_data"
    },
    {
     "data": {
      "text/html": [
       " View project at <a href='https://wandb.ai/nihil666/rnn_runs' target=\"_blank\">https://wandb.ai/nihil666/rnn_runs</a>"
      ],
      "text/plain": [
       "<IPython.core.display.HTML object>"
      ]
     },
     "metadata": {},
     "output_type": "display_data"
    },
    {
     "data": {
      "text/html": [
       " View sweep at <a href='https://wandb.ai/nihil666/rnn_runs/sweeps/u1n7ugt4' target=\"_blank\">https://wandb.ai/nihil666/rnn_runs/sweeps/u1n7ugt4</a>"
      ],
      "text/plain": [
       "<IPython.core.display.HTML object>"
      ]
     },
     "metadata": {},
     "output_type": "display_data"
    },
    {
     "data": {
      "text/html": [
       " View run at <a href='https://wandb.ai/nihil666/rnn_runs/runs/8e1mmzun' target=\"_blank\">https://wandb.ai/nihil666/rnn_runs/runs/8e1mmzun</a>"
      ],
      "text/plain": [
       "<IPython.core.display.HTML object>"
      ]
     },
     "metadata": {},
     "output_type": "display_data"
    },
    {
     "data": {
      "text/html": [
       "Waiting for W&B process to finish... <strong style=\"color:red\">(failed 1).</strong> Press Ctrl-C to abort syncing."
      ],
      "text/plain": [
       "<IPython.core.display.HTML object>"
      ]
     },
     "metadata": {},
     "output_type": "display_data"
    },
    {
     "data": {
      "application/vnd.jupyter.widget-view+json": {
       "model_id": "5549c7b063924590b4618158f3dd5ec1",
       "version_major": 2,
       "version_minor": 0
      },
      "text/plain": [
       "VBox(children=(Label(value='0.001 MB of 0.001 MB uploaded (0.000 MB deduped)\\r'), FloatProgress(value=1.0, max…"
      ]
     },
     "metadata": {},
     "output_type": "display_data"
    },
    {
     "data": {
      "text/html": [
       " View run <strong style=\"color:#cdcd00\">firm-sweep-9</strong> at: <a href='https://wandb.ai/nihil666/rnn_runs/runs/8e1mmzun' target=\"_blank\">https://wandb.ai/nihil666/rnn_runs/runs/8e1mmzun</a><br/>Synced 4 W&B file(s), 0 media file(s), 0 artifact file(s) and 0 other file(s)"
      ],
      "text/plain": [
       "<IPython.core.display.HTML object>"
      ]
     },
     "metadata": {},
     "output_type": "display_data"
    },
    {
     "data": {
      "text/html": [
       "Find logs at: <code>.\\wandb\\run-20230424_062849-8e1mmzun\\logs</code>"
      ],
      "text/plain": [
       "<IPython.core.display.HTML object>"
      ]
     },
     "metadata": {},
     "output_type": "display_data"
    },
    {
     "name": "stderr",
     "output_type": "stream",
     "text": [
      "Run 8e1mmzun errored: RuntimeError('Expected hidden size (2, 4, 256), got [1, 4, 256]')\n",
      "\u001b[34m\u001b[1mwandb\u001b[0m: \u001b[32m\u001b[41mERROR\u001b[0m Run 8e1mmzun errored: RuntimeError('Expected hidden size (2, 4, 256), got [1, 4, 256]')\n",
      "\u001b[34m\u001b[1mwandb\u001b[0m: Agent Starting Run: f3mfvkc2 with config:\n",
      "\u001b[34m\u001b[1mwandb\u001b[0m: \tbidirectional: 0\n",
      "\u001b[34m\u001b[1mwandb\u001b[0m: \tcell_type: GRU\n",
      "\u001b[34m\u001b[1mwandb\u001b[0m: \tdropout: 0.2\n",
      "\u001b[34m\u001b[1mwandb\u001b[0m: \thidden_layer_size: 64\n",
      "\u001b[34m\u001b[1mwandb\u001b[0m: \tinput_embedding_size: 128\n",
      "\u001b[34m\u001b[1mwandb\u001b[0m: \tnum_decoder_layers: 1\n",
      "\u001b[34m\u001b[1mwandb\u001b[0m: \tnum_encoder_layers: 2\n",
      "\u001b[34m\u001b[1mwandb\u001b[0m: \tteacher_forcing: 0.5\n",
      "Failed to detect the name of this notebook, you can set it manually with the WANDB_NOTEBOOK_NAME environment variable to enable code saving.\n"
     ]
    },
    {
     "data": {
      "text/html": [
       "wandb version 0.15.0 is available!  To upgrade, please run:\n",
       " $ pip install wandb --upgrade"
      ],
      "text/plain": [
       "<IPython.core.display.HTML object>"
      ]
     },
     "metadata": {},
     "output_type": "display_data"
    },
    {
     "data": {
      "text/html": [
       "Tracking run with wandb version 0.13.10"
      ],
      "text/plain": [
       "<IPython.core.display.HTML object>"
      ]
     },
     "metadata": {},
     "output_type": "display_data"
    },
    {
     "data": {
      "text/html": [
       "Run data is saved locally in <code>c:\\Users\\palas\\Desktop\\IOT\\cs6910_assignment3\\wandb\\run-20230424_062901-f3mfvkc2</code>"
      ],
      "text/plain": [
       "<IPython.core.display.HTML object>"
      ]
     },
     "metadata": {},
     "output_type": "display_data"
    },
    {
     "data": {
      "text/html": [
       "Syncing run <strong><a href='https://wandb.ai/nihil666/rnn_runs/runs/f3mfvkc2' target=\"_blank\">morning-sweep-10</a></strong> to <a href='https://wandb.ai/nihil666/rnn_runs' target=\"_blank\">Weights & Biases</a> (<a href='https://wandb.me/run' target=\"_blank\">docs</a>)<br/>Sweep page: <a href='https://wandb.ai/nihil666/rnn_runs/sweeps/u1n7ugt4' target=\"_blank\">https://wandb.ai/nihil666/rnn_runs/sweeps/u1n7ugt4</a>"
      ],
      "text/plain": [
       "<IPython.core.display.HTML object>"
      ]
     },
     "metadata": {},
     "output_type": "display_data"
    },
    {
     "data": {
      "text/html": [
       " View project at <a href='https://wandb.ai/nihil666/rnn_runs' target=\"_blank\">https://wandb.ai/nihil666/rnn_runs</a>"
      ],
      "text/plain": [
       "<IPython.core.display.HTML object>"
      ]
     },
     "metadata": {},
     "output_type": "display_data"
    },
    {
     "data": {
      "text/html": [
       " View sweep at <a href='https://wandb.ai/nihil666/rnn_runs/sweeps/u1n7ugt4' target=\"_blank\">https://wandb.ai/nihil666/rnn_runs/sweeps/u1n7ugt4</a>"
      ],
      "text/plain": [
       "<IPython.core.display.HTML object>"
      ]
     },
     "metadata": {},
     "output_type": "display_data"
    },
    {
     "data": {
      "text/html": [
       " View run at <a href='https://wandb.ai/nihil666/rnn_runs/runs/f3mfvkc2' target=\"_blank\">https://wandb.ai/nihil666/rnn_runs/runs/f3mfvkc2</a>"
      ],
      "text/plain": [
       "<IPython.core.display.HTML object>"
      ]
     },
     "metadata": {},
     "output_type": "display_data"
    },
    {
     "data": {
      "text/html": [
       "Waiting for W&B process to finish... <strong style=\"color:green\">(success).</strong>"
      ],
      "text/plain": [
       "<IPython.core.display.HTML object>"
      ]
     },
     "metadata": {},
     "output_type": "display_data"
    },
    {
     "data": {
      "application/vnd.jupyter.widget-view+json": {
       "model_id": "5d1b69fb7e1543b4ab34be9355973773",
       "version_major": 2,
       "version_minor": 0
      },
      "text/plain": [
       "VBox(children=(Label(value='0.001 MB of 0.007 MB uploaded (0.000 MB deduped)\\r'), FloatProgress(value=0.185245…"
      ]
     },
     "metadata": {},
     "output_type": "display_data"
    },
    {
     "data": {
      "text/html": [
       "<style>\n",
       "    table.wandb td:nth-child(1) { padding: 0 10px; text-align: left ; width: auto;} td:nth-child(2) {text-align: left ; width: 100%}\n",
       "    .wandb-row { display: flex; flex-direction: row; flex-wrap: wrap; justify-content: flex-start; width: 100% }\n",
       "    .wandb-col { display: flex; flex-direction: column; flex-basis: 100%; flex: 1; padding: 10px; }\n",
       "    </style>\n",
       "<div class=\"wandb-row\"><div class=\"wandb-col\"><h3>Run history:</h3><br/><table class=\"wandb\"><tr><td>epochs</td><td>▁▃▅▆█</td></tr><tr><td>train_loss</td><td>▇▆▇█▁</td></tr><tr><td>val_loss</td><td>█▄▂▁▁</td></tr></table><br/></div><div class=\"wandb-col\"><h3>Run summary:</h3><br/><table class=\"wandb\"><tr><td>epochs</td><td>4</td></tr><tr><td>train_loss</td><td>0.23459</td></tr><tr><td>val_loss</td><td>406.71735</td></tr></table><br/></div></div>"
      ],
      "text/plain": [
       "<IPython.core.display.HTML object>"
      ]
     },
     "metadata": {},
     "output_type": "display_data"
    },
    {
     "data": {
      "text/html": [
       " View run <strong style=\"color:#cdcd00\">morning-sweep-10</strong> at: <a href='https://wandb.ai/nihil666/rnn_runs/runs/f3mfvkc2' target=\"_blank\">https://wandb.ai/nihil666/rnn_runs/runs/f3mfvkc2</a><br/>Synced 4 W&B file(s), 0 media file(s), 0 artifact file(s) and 0 other file(s)"
      ],
      "text/plain": [
       "<IPython.core.display.HTML object>"
      ]
     },
     "metadata": {},
     "output_type": "display_data"
    },
    {
     "data": {
      "text/html": [
       "Find logs at: <code>.\\wandb\\run-20230424_062901-f3mfvkc2\\logs</code>"
      ],
      "text/plain": [
       "<IPython.core.display.HTML object>"
      ]
     },
     "metadata": {},
     "output_type": "display_data"
    },
    {
     "name": "stderr",
     "output_type": "stream",
     "text": [
      "\u001b[34m\u001b[1mwandb\u001b[0m: Agent Starting Run: b9u2z4d2 with config:\n",
      "\u001b[34m\u001b[1mwandb\u001b[0m: \tbidirectional: 0\n",
      "\u001b[34m\u001b[1mwandb\u001b[0m: \tcell_type: RNN\n",
      "\u001b[34m\u001b[1mwandb\u001b[0m: \tdropout: 0.2\n",
      "\u001b[34m\u001b[1mwandb\u001b[0m: \thidden_layer_size: 256\n",
      "\u001b[34m\u001b[1mwandb\u001b[0m: \tinput_embedding_size: 32\n",
      "\u001b[34m\u001b[1mwandb\u001b[0m: \tnum_decoder_layers: 3\n",
      "\u001b[34m\u001b[1mwandb\u001b[0m: \tnum_encoder_layers: 3\n",
      "\u001b[34m\u001b[1mwandb\u001b[0m: \tteacher_forcing: 0.75\n",
      "Failed to detect the name of this notebook, you can set it manually with the WANDB_NOTEBOOK_NAME environment variable to enable code saving.\n"
     ]
    },
    {
     "data": {
      "text/html": [
       "wandb version 0.15.0 is available!  To upgrade, please run:\n",
       " $ pip install wandb --upgrade"
      ],
      "text/plain": [
       "<IPython.core.display.HTML object>"
      ]
     },
     "metadata": {},
     "output_type": "display_data"
    },
    {
     "data": {
      "text/html": [
       "Tracking run with wandb version 0.13.10"
      ],
      "text/plain": [
       "<IPython.core.display.HTML object>"
      ]
     },
     "metadata": {},
     "output_type": "display_data"
    },
    {
     "data": {
      "text/html": [
       "Run data is saved locally in <code>c:\\Users\\palas\\Desktop\\IOT\\cs6910_assignment3\\wandb\\run-20230424_071355-b9u2z4d2</code>"
      ],
      "text/plain": [
       "<IPython.core.display.HTML object>"
      ]
     },
     "metadata": {},
     "output_type": "display_data"
    },
    {
     "data": {
      "text/html": [
       "Syncing run <strong><a href='https://wandb.ai/nihil666/rnn_runs/runs/b9u2z4d2' target=\"_blank\">flowing-sweep-11</a></strong> to <a href='https://wandb.ai/nihil666/rnn_runs' target=\"_blank\">Weights & Biases</a> (<a href='https://wandb.me/run' target=\"_blank\">docs</a>)<br/>Sweep page: <a href='https://wandb.ai/nihil666/rnn_runs/sweeps/u1n7ugt4' target=\"_blank\">https://wandb.ai/nihil666/rnn_runs/sweeps/u1n7ugt4</a>"
      ],
      "text/plain": [
       "<IPython.core.display.HTML object>"
      ]
     },
     "metadata": {},
     "output_type": "display_data"
    },
    {
     "data": {
      "text/html": [
       " View project at <a href='https://wandb.ai/nihil666/rnn_runs' target=\"_blank\">https://wandb.ai/nihil666/rnn_runs</a>"
      ],
      "text/plain": [
       "<IPython.core.display.HTML object>"
      ]
     },
     "metadata": {},
     "output_type": "display_data"
    },
    {
     "data": {
      "text/html": [
       " View sweep at <a href='https://wandb.ai/nihil666/rnn_runs/sweeps/u1n7ugt4' target=\"_blank\">https://wandb.ai/nihil666/rnn_runs/sweeps/u1n7ugt4</a>"
      ],
      "text/plain": [
       "<IPython.core.display.HTML object>"
      ]
     },
     "metadata": {},
     "output_type": "display_data"
    },
    {
     "data": {
      "text/html": [
       " View run at <a href='https://wandb.ai/nihil666/rnn_runs/runs/b9u2z4d2' target=\"_blank\">https://wandb.ai/nihil666/rnn_runs/runs/b9u2z4d2</a>"
      ],
      "text/plain": [
       "<IPython.core.display.HTML object>"
      ]
     },
     "metadata": {},
     "output_type": "display_data"
    },
    {
     "data": {
      "text/html": [
       "Waiting for W&B process to finish... <strong style=\"color:green\">(success).</strong>"
      ],
      "text/plain": [
       "<IPython.core.display.HTML object>"
      ]
     },
     "metadata": {},
     "output_type": "display_data"
    },
    {
     "data": {
      "application/vnd.jupyter.widget-view+json": {
       "model_id": "3ebaf69d55164dea88a6803de041f273",
       "version_major": 2,
       "version_minor": 0
      },
      "text/plain": [
       "VBox(children=(Label(value='0.001 MB of 0.007 MB uploaded (0.000 MB deduped)\\r'), FloatProgress(value=0.185245…"
      ]
     },
     "metadata": {},
     "output_type": "display_data"
    },
    {
     "data": {
      "text/html": [
       "<style>\n",
       "    table.wandb td:nth-child(1) { padding: 0 10px; text-align: left ; width: auto;} td:nth-child(2) {text-align: left ; width: 100%}\n",
       "    .wandb-row { display: flex; flex-direction: row; flex-wrap: wrap; justify-content: flex-start; width: 100% }\n",
       "    .wandb-col { display: flex; flex-direction: column; flex-basis: 100%; flex: 1; padding: 10px; }\n",
       "    </style>\n",
       "<div class=\"wandb-row\"><div class=\"wandb-col\"><h3>Run history:</h3><br/><table class=\"wandb\"><tr><td>epochs</td><td>▁▃▅▆█</td></tr><tr><td>train_loss</td><td>█▅▁▅▆</td></tr><tr><td>val_loss</td><td>█▅▁▄▂</td></tr></table><br/></div><div class=\"wandb-col\"><h3>Run summary:</h3><br/><table class=\"wandb\"><tr><td>epochs</td><td>4</td></tr><tr><td>train_loss</td><td>1.00803</td></tr><tr><td>val_loss</td><td>930.31149</td></tr></table><br/></div></div>"
      ],
      "text/plain": [
       "<IPython.core.display.HTML object>"
      ]
     },
     "metadata": {},
     "output_type": "display_data"
    },
    {
     "data": {
      "text/html": [
       " View run <strong style=\"color:#cdcd00\">flowing-sweep-11</strong> at: <a href='https://wandb.ai/nihil666/rnn_runs/runs/b9u2z4d2' target=\"_blank\">https://wandb.ai/nihil666/rnn_runs/runs/b9u2z4d2</a><br/>Synced 4 W&B file(s), 0 media file(s), 0 artifact file(s) and 0 other file(s)"
      ],
      "text/plain": [
       "<IPython.core.display.HTML object>"
      ]
     },
     "metadata": {},
     "output_type": "display_data"
    },
    {
     "data": {
      "text/html": [
       "Find logs at: <code>.\\wandb\\run-20230424_071355-b9u2z4d2\\logs</code>"
      ],
      "text/plain": [
       "<IPython.core.display.HTML object>"
      ]
     },
     "metadata": {},
     "output_type": "display_data"
    },
    {
     "name": "stderr",
     "output_type": "stream",
     "text": [
      "\u001b[34m\u001b[1mwandb\u001b[0m: Agent Starting Run: hdzu6g42 with config:\n",
      "\u001b[34m\u001b[1mwandb\u001b[0m: \tbidirectional: 0\n",
      "\u001b[34m\u001b[1mwandb\u001b[0m: \tcell_type: RNN\n",
      "\u001b[34m\u001b[1mwandb\u001b[0m: \tdropout: 0.2\n",
      "\u001b[34m\u001b[1mwandb\u001b[0m: \thidden_layer_size: 256\n",
      "\u001b[34m\u001b[1mwandb\u001b[0m: \tinput_embedding_size: 128\n",
      "\u001b[34m\u001b[1mwandb\u001b[0m: \tnum_decoder_layers: 2\n",
      "\u001b[34m\u001b[1mwandb\u001b[0m: \tnum_encoder_layers: 2\n",
      "\u001b[34m\u001b[1mwandb\u001b[0m: \tteacher_forcing: 1\n",
      "Failed to detect the name of this notebook, you can set it manually with the WANDB_NOTEBOOK_NAME environment variable to enable code saving.\n"
     ]
    },
    {
     "data": {
      "text/html": [
       "wandb version 0.15.0 is available!  To upgrade, please run:\n",
       " $ pip install wandb --upgrade"
      ],
      "text/plain": [
       "<IPython.core.display.HTML object>"
      ]
     },
     "metadata": {},
     "output_type": "display_data"
    },
    {
     "data": {
      "text/html": [
       "Tracking run with wandb version 0.13.10"
      ],
      "text/plain": [
       "<IPython.core.display.HTML object>"
      ]
     },
     "metadata": {},
     "output_type": "display_data"
    },
    {
     "data": {
      "text/html": [
       "Run data is saved locally in <code>c:\\Users\\palas\\Desktop\\IOT\\cs6910_assignment3\\wandb\\run-20230424_082145-hdzu6g42</code>"
      ],
      "text/plain": [
       "<IPython.core.display.HTML object>"
      ]
     },
     "metadata": {},
     "output_type": "display_data"
    },
    {
     "data": {
      "text/html": [
       "Syncing run <strong><a href='https://wandb.ai/nihil666/rnn_runs/runs/hdzu6g42' target=\"_blank\">clear-sweep-12</a></strong> to <a href='https://wandb.ai/nihil666/rnn_runs' target=\"_blank\">Weights & Biases</a> (<a href='https://wandb.me/run' target=\"_blank\">docs</a>)<br/>Sweep page: <a href='https://wandb.ai/nihil666/rnn_runs/sweeps/u1n7ugt4' target=\"_blank\">https://wandb.ai/nihil666/rnn_runs/sweeps/u1n7ugt4</a>"
      ],
      "text/plain": [
       "<IPython.core.display.HTML object>"
      ]
     },
     "metadata": {},
     "output_type": "display_data"
    },
    {
     "data": {
      "text/html": [
       " View project at <a href='https://wandb.ai/nihil666/rnn_runs' target=\"_blank\">https://wandb.ai/nihil666/rnn_runs</a>"
      ],
      "text/plain": [
       "<IPython.core.display.HTML object>"
      ]
     },
     "metadata": {},
     "output_type": "display_data"
    },
    {
     "data": {
      "text/html": [
       " View sweep at <a href='https://wandb.ai/nihil666/rnn_runs/sweeps/u1n7ugt4' target=\"_blank\">https://wandb.ai/nihil666/rnn_runs/sweeps/u1n7ugt4</a>"
      ],
      "text/plain": [
       "<IPython.core.display.HTML object>"
      ]
     },
     "metadata": {},
     "output_type": "display_data"
    },
    {
     "data": {
      "text/html": [
       " View run at <a href='https://wandb.ai/nihil666/rnn_runs/runs/hdzu6g42' target=\"_blank\">https://wandb.ai/nihil666/rnn_runs/runs/hdzu6g42</a>"
      ],
      "text/plain": [
       "<IPython.core.display.HTML object>"
      ]
     },
     "metadata": {},
     "output_type": "display_data"
    },
    {
     "data": {
      "text/html": [
       "Waiting for W&B process to finish... <strong style=\"color:green\">(success).</strong>"
      ],
      "text/plain": [
       "<IPython.core.display.HTML object>"
      ]
     },
     "metadata": {},
     "output_type": "display_data"
    },
    {
     "data": {
      "application/vnd.jupyter.widget-view+json": {
       "model_id": "3372867bbab24f6583e061c4d7f28e44",
       "version_major": 2,
       "version_minor": 0
      },
      "text/plain": [
       "VBox(children=(Label(value='0.001 MB of 0.007 MB uploaded (0.000 MB deduped)\\r'), FloatProgress(value=0.185344…"
      ]
     },
     "metadata": {},
     "output_type": "display_data"
    },
    {
     "data": {
      "text/html": [
       "<style>\n",
       "    table.wandb td:nth-child(1) { padding: 0 10px; text-align: left ; width: auto;} td:nth-child(2) {text-align: left ; width: 100%}\n",
       "    .wandb-row { display: flex; flex-direction: row; flex-wrap: wrap; justify-content: flex-start; width: 100% }\n",
       "    .wandb-col { display: flex; flex-direction: column; flex-basis: 100%; flex: 1; padding: 10px; }\n",
       "    </style>\n",
       "<div class=\"wandb-row\"><div class=\"wandb-col\"><h3>Run history:</h3><br/><table class=\"wandb\"><tr><td>epochs</td><td>▁▃▅▆█</td></tr><tr><td>train_loss</td><td>▂▄▁██</td></tr><tr><td>val_loss</td><td>█▁▃▂▃</td></tr></table><br/></div><div class=\"wandb-col\"><h3>Run summary:</h3><br/><table class=\"wandb\"><tr><td>epochs</td><td>4</td></tr><tr><td>train_loss</td><td>0.92917</td></tr><tr><td>val_loss</td><td>916.11738</td></tr></table><br/></div></div>"
      ],
      "text/plain": [
       "<IPython.core.display.HTML object>"
      ]
     },
     "metadata": {},
     "output_type": "display_data"
    },
    {
     "data": {
      "text/html": [
       " View run <strong style=\"color:#cdcd00\">clear-sweep-12</strong> at: <a href='https://wandb.ai/nihil666/rnn_runs/runs/hdzu6g42' target=\"_blank\">https://wandb.ai/nihil666/rnn_runs/runs/hdzu6g42</a><br/>Synced 4 W&B file(s), 0 media file(s), 0 artifact file(s) and 0 other file(s)"
      ],
      "text/plain": [
       "<IPython.core.display.HTML object>"
      ]
     },
     "metadata": {},
     "output_type": "display_data"
    },
    {
     "data": {
      "text/html": [
       "Find logs at: <code>.\\wandb\\run-20230424_082145-hdzu6g42\\logs</code>"
      ],
      "text/plain": [
       "<IPython.core.display.HTML object>"
      ]
     },
     "metadata": {},
     "output_type": "display_data"
    },
    {
     "name": "stderr",
     "output_type": "stream",
     "text": [
      "\u001b[34m\u001b[1mwandb\u001b[0m: Ctrl + C detected. Stopping sweep.\n"
     ]
    }
   ],
   "source": [
    "import wandb\n",
    "\n",
    "wandb.login()\n",
    "\n",
    "sweep_config = {\n",
    "    \"method\": \"random\",\n",
    "    'parameters': {\n",
    "        'input_embedding_size': {'values': [32, 64, 128]},\n",
    "        'num_encoder_layers': {'values': [1, 2, 3]},\n",
    "        'num_decoder_layers': {'values': [1, 2, 3]},\n",
    "        'hidden_layer_size' : {'values' : [32,64,128,256]},\n",
    "        'cell_type' : {'values' : ['LSTM','GRU','RNN']},\n",
    "        'bidirectional' : {'values' : [0]},\n",
    "        'dropout' : {'values' : [0,0.2,0.3]},\n",
    "        'teacher_forcing' : {'values' : [0.5, 0.75, 1]}\n",
    "    }\n",
    "}\n",
    "\n",
    "sweep_id = wandb.sweep(sweep_config, project=\"rnn_runs\")\n",
    "\n",
    "def train(config=None):\n",
    "   \n",
    "    wandb.init(config=config)\n",
    "    run_name = \"ies_\"+str(wandb.config.input_embedding_size)+\"_nel_\"+str(wandb.config.num_encoder_layers)+\"_ndl_\"+str(wandb.config.num_decoder_layers)+\"_hls_\"+str(wandb.config.hidden_layer_size)+\"_hls_\"+str(wandb.config.hidden_layer_size)+\"_cell_\"+str(wandb.config.cell_type)\n",
    "    wandb.run.name = run_name\n",
    "    config = wandb.config\n",
    "\n",
    "    VOCAB_SIZE = 131\n",
    "    EMBEDDING_DIM = config.input_embedding_size\n",
    "    HIDDEN_DIM = config.hidden_layer_size\n",
    "    EPOCHS = 5\n",
    "    NUM_LAYERS_ENCODER = config.num_encoder_layers\n",
    "    NUM_LAYERS_DECODER =config.num_decoder_layers\n",
    "    DROPOUT = 0 if ((NUM_LAYERS_ENCODER == 1) or (NUM_LAYERS_DECODER == 1)) else config.dropout\n",
    "    BIDIRECTIONAL = config.bidirectional\n",
    "    CELL_TYPE = config.cell_type\n",
    "    TEACHER_FORCING = config.teacher_forcing\n",
    "\n",
    "    encoder = Encoder(VOCAB_SIZE, EMBEDDING_DIM, HIDDEN_DIM, NUM_LAYERS_ENCODER, DROPOUT, CELL_TYPE, BIDIRECTIONAL)\n",
    "    decoder = Decoder(VOCAB_SIZE, EMBEDDING_DIM, HIDDEN_DIM, NUM_LAYERS_DECODER, DROPOUT, CELL_TYPE, BIDIRECTIONAL)\n",
    "\n",
    "    device = torch.device(\"cuda\" if torch.cuda.is_available() else \"cpu\")\n",
    "    model = Seq2Seq(encoder, decoder, device)\n",
    "\n",
    "    model = Seq2Seq(encoder, decoder, device=device).to(device)\n",
    "    optimizer = torch.optim.Adam(model.parameters(), lr=1e-3)\n",
    "    criterion = nn.CrossEntropyLoss()\n",
    "\n",
    "    for epoch in range(EPOCHS):\n",
    "        \n",
    "        model.train()\n",
    "        train_loss = 0\n",
    "        for src, tgt in train_loader:\n",
    "            src = src.to(device)\n",
    "            tgt = tgt.to(device)\n",
    "\n",
    "            optimizer.zero_grad()\n",
    "\n",
    "            output = model.forward(src, tgt)\n",
    "            output_dim = output.shape[-1]\n",
    "\n",
    "    \n",
    "            loss = criterion(output.view(-1, output_dim), tgt.view(-1))\n",
    "\n",
    "            loss.backward()\n",
    "            torch.nn.utils.clip_grad_norm_(model.parameters(), max_norm=1)\n",
    "\n",
    "            optimizer.step()\n",
    "            train_loss += loss.item()\n",
    "\n",
    "        \n",
    "        model.eval()\n",
    "        val_loss = 0\n",
    "        with torch.no_grad():\n",
    "            for src, tgt in val_loader:\n",
    "                src = src.to(device)\n",
    "                tgt = tgt.to(device)\n",
    "\n",
    "                output= model.forward(src, tgt)\n",
    "                output_dim = output.shape[-1]\n",
    "\n",
    "                \n",
    "                loss = criterion(output.view(-1, output_dim), tgt.view(-1))\n",
    "\n",
    "                val_loss += loss.item()\n",
    "\n",
    "        \n",
    "        wandb.log({\"train_loss\": train_loss/len(train_loader), \"val_loss\": val_loss/len(val_loader), \"epochs\" : epoch})       \n",
    "\n",
    "wandb.agent(sweep_id, train, count = 20) "
   ]
  },
  {
   "cell_type": "code",
   "execution_count": null,
   "metadata": {},
   "outputs": [],
   "source": []
  }
 ],
 "metadata": {
  "kernelspec": {
   "display_name": "Python 3",
   "language": "python",
   "name": "python3"
  },
  "language_info": {
   "codemirror_mode": {
    "name": "ipython",
    "version": 3
   },
   "file_extension": ".py",
   "mimetype": "text/x-python",
   "name": "python",
   "nbconvert_exporter": "python",
   "pygments_lexer": "ipython3",
   "version": "3.9.6"
  },
  "orig_nbformat": 4
 },
 "nbformat": 4,
 "nbformat_minor": 2
}

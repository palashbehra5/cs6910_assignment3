{
 "cells": [
  {
   "cell_type": "code",
   "execution_count": 1,
   "metadata": {},
   "outputs": [],
   "source": [
    "import numpy as np\n",
    "import torch\n",
    "import torch.nn as nn\n",
    "import torch.optim as optim\n",
    "import random\n",
    "from model import seq2seq, test_model_instance, seq2seq_attn\n",
    "\n",
    "BATCH_SIZE = 64\n",
    "\n",
    "x_train = np.loadtxt(\"akshar_sequences//x_train.csv\", delimiter=\",\", dtype=int)\n",
    "y_train = np.loadtxt(\"akshar_sequences//y_train.csv\", delimiter=\",\", dtype=int)\n",
    "x_test = np.loadtxt(\"akshar_sequences//x_test.csv\", delimiter=\",\", dtype=int)\n",
    "y_test = np.loadtxt(\"akshar_sequences//y_test.csv\", delimiter=\",\", dtype=int)\n",
    "x_val = np.loadtxt(\"akshar_sequences//x_val.csv\", delimiter=\",\", dtype=int)\n",
    "y_val = np.loadtxt(\"akshar_sequences//y_val.csv\", delimiter=\",\", dtype=int)\n",
    "\n",
    "\n",
    "class SequenceDataset(torch.utils.data.Dataset):\n",
    "    def __init__(self, x, y):\n",
    "        self.x = x\n",
    "        self.y = y\n",
    "    \n",
    "    def __getitem__(self, index):\n",
    "        x = torch.from_numpy(self.x[index]).long() \n",
    "        y = torch.from_numpy(self.y[index]).long() \n",
    "        return x, y\n",
    "    \n",
    "    def __len__(self):\n",
    "        return len(self.x)\n",
    "\n",
    "train_dataset = SequenceDataset(x_train, y_train)\n",
    "val_dataset = SequenceDataset(x_val, y_val)\n",
    "test_dataset = SequenceDataset(x_test, y_test)\n",
    "\n",
    "train_loader = torch.utils.data.DataLoader(train_dataset, batch_size=BATCH_SIZE, shuffle=True)\n",
    "val_loader = torch.utils.data.DataLoader(val_dataset, batch_size=BATCH_SIZE, shuffle=True)\n",
    "test_loader = torch.utils.data.DataLoader(test_dataset, batch_size=BATCH_SIZE, shuffle=False)"
   ]
  },
  {
   "cell_type": "code",
   "execution_count": 1,
   "metadata": {},
   "outputs": [
    {
     "name": "stdout",
     "output_type": "stream",
     "text": [
      "torch.Size([4, 128]) 0\n",
      "torch.Size([4, 128]) 1\n",
      "torch.Size([4, 128]) 2\n",
      "torch.Size([4, 128]) 3\n",
      "torch.Size([4, 128]) 4\n",
      "torch.Size([4, 128]) 5\n",
      "torch.Size([4, 128]) 6\n",
      "torch.Size([4, 128]) 7\n",
      "torch.Size([4, 128]) 8\n",
      "torch.Size([4, 128]) 9\n",
      "torch.Size([4, 128]) 10\n",
      "torch.Size([4, 128]) 11\n",
      "torch.Size([4, 128]) 12\n",
      "torch.Size([4, 128]) 13\n",
      "torch.Size([4, 128]) 14\n",
      "torch.Size([4, 128]) 15\n",
      "torch.Size([4, 128]) 16\n",
      "torch.Size([4, 128]) 17\n",
      "torch.Size([4, 128]) 18\n",
      "torch.Size([4, 128]) 19\n",
      "torch.Size([4, 128]) 20\n",
      "torch.Size([4, 128]) 21\n",
      "torch.Size([4, 128]) 22\n",
      "torch.Size([4, 128]) 23\n",
      "torch.Size([4, 128]) 24\n",
      "torch.Size([4, 128]) 25\n",
      "torch.Size([4, 128]) 26\n",
      "torch.Size([4, 128]) 27\n"
     ]
    },
    {
     "data": {
      "text/plain": [
       "torch.Size([4, 28, 131])"
      ]
     },
     "execution_count": 1,
     "metadata": {},
     "output_type": "execute_result"
    }
   ],
   "source": [
    "import numpy as np\n",
    "import torch\n",
    "import torch.nn as nn\n",
    "import torch.optim as optim\n",
    "import random\n",
    "from model import seq2seq_attn\n",
    "\n",
    "device = torch.device('cuda' if torch.cuda.is_available() else 'cpu')\n",
    "\n",
    "VOCAB_SIZE = 131\n",
    "MAX_SEQ_SIZE = 28\n",
    "BATCH_SIZE = 8\n",
    "\n",
    "config = {\n",
    "    'input_embedding_size': [32],\n",
    "    'num_encoder_layers': [1, 2, 3],\n",
    "    'num_decoder_layers': [1, 2, 3],\n",
    "    'hidden_layer_size': [128],\n",
    "    'cell_type_encoder': ['LSTM', 'GRU', 'RNN'],\n",
    "    'cell_type_decoder': ['LSTM', 'GRU', 'RNN'],\n",
    "    'bidirectional': [0, 1],\n",
    "    'dropout': [0, 0.2],\n",
    "    'teacher_forcing': [0, 0.5, 1]\n",
    "}\n",
    "\n",
    "source = torch.randint(low=0, high=VOCAB_SIZE, size=(BATCH_SIZE, MAX_SEQ_SIZE)).to(device)\n",
    "target = torch.randint(low=0, high=VOCAB_SIZE, size=(BATCH_SIZE, MAX_SEQ_SIZE)).to(device)\n",
    "\n",
    "model = model.to(device)\n",
    "\n",
    "model(source, target).shape"
   ]
  },
  {
   "cell_type": "code",
   "execution_count": null,
   "metadata": {},
   "outputs": [],
   "source": []
  }
 ],
 "metadata": {
  "kernelspec": {
   "display_name": "Python 3",
   "language": "python",
   "name": "python3"
  },
  "language_info": {
   "codemirror_mode": {
    "name": "ipython",
    "version": 3
   },
   "file_extension": ".py",
   "mimetype": "text/x-python",
   "name": "python",
   "nbconvert_exporter": "python",
   "pygments_lexer": "ipython3",
   "version": "3.9.6"
  },
  "orig_nbformat": 4
 },
 "nbformat": 4,
 "nbformat_minor": 2
}

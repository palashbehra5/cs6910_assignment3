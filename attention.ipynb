{
 "cells": [
  {
   "cell_type": "code",
   "execution_count": 1,
   "metadata": {},
   "outputs": [],
   "source": [
    "import numpy as np\n",
    "import torch\n",
    "import torch.nn as nn\n",
    "import torch.optim as optim\n",
    "import random\n",
    "from model import test_model_instance, seq2seq_attn\n",
    "\n",
    "BATCH_SIZE = 64\n",
    "\n",
    "x_train = np.loadtxt(\"akshar_sequences//x_train.csv\", delimiter=\",\", dtype=int)\n",
    "y_train = np.loadtxt(\"akshar_sequences//y_train.csv\", delimiter=\",\", dtype=int)\n",
    "x_test = np.loadtxt(\"akshar_sequences//x_test.csv\", delimiter=\",\", dtype=int)\n",
    "y_test = np.loadtxt(\"akshar_sequences//y_test.csv\", delimiter=\",\", dtype=int)\n",
    "x_val = np.loadtxt(\"akshar_sequences//x_val.csv\", delimiter=\",\", dtype=int)\n",
    "y_val = np.loadtxt(\"akshar_sequences//y_val.csv\", delimiter=\",\", dtype=int)\n",
    "\n",
    "\n",
    "class SequenceDataset(torch.utils.data.Dataset):\n",
    "    def __init__(self, x, y):\n",
    "        self.x = x\n",
    "        self.y = y\n",
    "    \n",
    "    def __getitem__(self, index):\n",
    "        x = torch.from_numpy(self.x[index]).long() \n",
    "        y = torch.from_numpy(self.y[index]).long() \n",
    "        return x, y\n",
    "    \n",
    "    def __len__(self):\n",
    "        return len(self.x)\n",
    "\n",
    "train_dataset = SequenceDataset(x_train, y_train)\n",
    "val_dataset = SequenceDataset(x_val, y_val)\n",
    "test_dataset = SequenceDataset(x_test, y_test)\n",
    "\n",
    "train_loader = torch.utils.data.DataLoader(train_dataset, batch_size=BATCH_SIZE, shuffle=True)\n",
    "val_loader = torch.utils.data.DataLoader(val_dataset, batch_size=BATCH_SIZE, shuffle=True)\n",
    "test_loader = torch.utils.data.DataLoader(test_dataset, batch_size=BATCH_SIZE, shuffle=False)"
   ]
  },
  {
   "cell_type": "code",
   "execution_count": 2,
   "metadata": {},
   "outputs": [
    {
     "name": "stderr",
     "output_type": "stream",
     "text": [
      "100%|██████████| 432/432 [00:37<00:00, 11.45it/s]"
     ]
    },
    {
     "name": "stdout",
     "output_type": "stream",
     "text": [
      "PASSED 432 CONFIGS.\n"
     ]
    },
    {
     "name": "stderr",
     "output_type": "stream",
     "text": [
      "\n"
     ]
    }
   ],
   "source": [
    "import numpy as np\n",
    "import torch\n",
    "import torch.nn as nn\n",
    "import torch.optim as optim\n",
    "import random\n",
    "from model import seq2seq_attn, test_model_instance\n",
    "\n",
    "device = torch.device('cuda' if torch.cuda.is_available() else 'cpu')\n",
    "\n",
    "VOCAB_SIZE = 131\n",
    "MAX_SEQ_SIZE = 28\n",
    "BATCH_SIZE = 8\n",
    "\n",
    "config = {\n",
    "    'input_embedding_size': [512, 1024],\n",
    "    'num_encoder_layers': [6],\n",
    "    'num_decoder_layers': [6],\n",
    "    'hidden_layer_size': [32,64],\n",
    "    'cell_type_encoder': ['LSTM', 'GRU', 'RNN'],\n",
    "    'cell_type_decoder': ['LSTM', 'GRU', 'RNN'],\n",
    "    'bidirectional': [0, 1],\n",
    "    'dropout': [0, 0.2],\n",
    "    'teacher_forcing': [0, 0.5, 1]\n",
    "}\n",
    "\n",
    "test_model_instance(config, 'attn', 128)"
   ]
  },
  {
   "cell_type": "code",
   "execution_count": 3,
   "metadata": {},
   "outputs": [
    {
     "name": "stderr",
     "output_type": "stream",
     "text": [
      "Failed to detect the name of this notebook, you can set it manually with the WANDB_NOTEBOOK_NAME environment variable to enable code saving.\n",
      "\u001b[34m\u001b[1mwandb\u001b[0m: Currently logged in as: \u001b[33mcs22m061\u001b[0m (\u001b[33mnihil666\u001b[0m). Use \u001b[1m`wandb login --relogin`\u001b[0m to force relogin\n"
     ]
    },
    {
     "name": "stdout",
     "output_type": "stream",
     "text": [
      "Create sweep with ID: xfi9jkly\n",
      "Sweep URL: https://wandb.ai/nihil666/attn_runs/sweeps/xfi9jkly\n"
     ]
    },
    {
     "name": "stderr",
     "output_type": "stream",
     "text": [
      "\u001b[34m\u001b[1mwandb\u001b[0m: Agent Starting Run: rxyoqrs9 with config:\n",
      "\u001b[34m\u001b[1mwandb\u001b[0m: \tbatch_size: 64\n",
      "\u001b[34m\u001b[1mwandb\u001b[0m: \tbidirectional: 1\n",
      "\u001b[34m\u001b[1mwandb\u001b[0m: \tcell_type_decoder: RNN\n",
      "\u001b[34m\u001b[1mwandb\u001b[0m: \tcell_type_encoder: GRU\n",
      "\u001b[34m\u001b[1mwandb\u001b[0m: \tdropout: 0.3\n",
      "\u001b[34m\u001b[1mwandb\u001b[0m: \thidden_layer_size: 32\n",
      "\u001b[34m\u001b[1mwandb\u001b[0m: \tinput_embedding_size: 256\n",
      "\u001b[34m\u001b[1mwandb\u001b[0m: \tnum_decoder_layers: 5\n",
      "\u001b[34m\u001b[1mwandb\u001b[0m: \tnum_encoder_layers: 5\n",
      "\u001b[34m\u001b[1mwandb\u001b[0m: \tteacher_forcing: 0.75\n",
      "Failed to detect the name of this notebook, you can set it manually with the WANDB_NOTEBOOK_NAME environment variable to enable code saving.\n"
     ]
    },
    {
     "data": {
      "text/html": [
       "wandb version 0.15.2 is available!  To upgrade, please run:\n",
       " $ pip install wandb --upgrade"
      ],
      "text/plain": [
       "<IPython.core.display.HTML object>"
      ]
     },
     "metadata": {},
     "output_type": "display_data"
    },
    {
     "data": {
      "text/html": [
       "Tracking run with wandb version 0.13.10"
      ],
      "text/plain": [
       "<IPython.core.display.HTML object>"
      ]
     },
     "metadata": {},
     "output_type": "display_data"
    },
    {
     "data": {
      "text/html": [
       "Run data is saved locally in <code>c:\\Users\\palas\\Desktop\\IOT\\cs6910_assignment3\\wandb\\run-20230512_152822-rxyoqrs9</code>"
      ],
      "text/plain": [
       "<IPython.core.display.HTML object>"
      ]
     },
     "metadata": {},
     "output_type": "display_data"
    },
    {
     "data": {
      "text/html": [
       "Syncing run <strong><a href='https://wandb.ai/nihil666/attn_runs/runs/rxyoqrs9' target=\"_blank\">grateful-sweep-1</a></strong> to <a href='https://wandb.ai/nihil666/attn_runs' target=\"_blank\">Weights & Biases</a> (<a href='https://wandb.me/run' target=\"_blank\">docs</a>)<br/>Sweep page: <a href='https://wandb.ai/nihil666/attn_runs/sweeps/xfi9jkly' target=\"_blank\">https://wandb.ai/nihil666/attn_runs/sweeps/xfi9jkly</a>"
      ],
      "text/plain": [
       "<IPython.core.display.HTML object>"
      ]
     },
     "metadata": {},
     "output_type": "display_data"
    },
    {
     "data": {
      "text/html": [
       " View project at <a href='https://wandb.ai/nihil666/attn_runs' target=\"_blank\">https://wandb.ai/nihil666/attn_runs</a>"
      ],
      "text/plain": [
       "<IPython.core.display.HTML object>"
      ]
     },
     "metadata": {},
     "output_type": "display_data"
    },
    {
     "data": {
      "text/html": [
       " View sweep at <a href='https://wandb.ai/nihil666/attn_runs/sweeps/xfi9jkly' target=\"_blank\">https://wandb.ai/nihil666/attn_runs/sweeps/xfi9jkly</a>"
      ],
      "text/plain": [
       "<IPython.core.display.HTML object>"
      ]
     },
     "metadata": {},
     "output_type": "display_data"
    },
    {
     "data": {
      "text/html": [
       " View run at <a href='https://wandb.ai/nihil666/attn_runs/runs/rxyoqrs9' target=\"_blank\">https://wandb.ai/nihil666/attn_runs/runs/rxyoqrs9</a>"
      ],
      "text/plain": [
       "<IPython.core.display.HTML object>"
      ]
     },
     "metadata": {},
     "output_type": "display_data"
    },
    {
     "data": {
      "text/html": [
       "Waiting for W&B process to finish... <strong style=\"color:green\">(success).</strong>"
      ],
      "text/plain": [
       "<IPython.core.display.HTML object>"
      ]
     },
     "metadata": {},
     "output_type": "display_data"
    },
    {
     "data": {
      "text/html": [
       "<style>\n",
       "    table.wandb td:nth-child(1) { padding: 0 10px; text-align: left ; width: auto;} td:nth-child(2) {text-align: left ; width: 100%}\n",
       "    .wandb-row { display: flex; flex-direction: row; flex-wrap: wrap; justify-content: flex-start; width: 100% }\n",
       "    .wandb-col { display: flex; flex-direction: column; flex-basis: 100%; flex: 1; padding: 10px; }\n",
       "    </style>\n",
       "<div class=\"wandb-row\"><div class=\"wandb-col\"><h3>Run history:</h3><br/><table class=\"wandb\"><tr><td>epochs</td><td>▁▁▂▂▂▂▃▃▃▄▄▄▅▅▅▅▆▆▆▇▇▇▇██</td></tr><tr><td>train_loss</td><td>█▅▃▂▂▂▂▂▂▁▁▁▁▁▁▁▁▁▁▁▁▁▁▁▁</td></tr><tr><td>training_accuracy</td><td>▁▁▂▃▄▄▅▅▅▆▆▆▆▇▇▇▇▇▇██████</td></tr><tr><td>val_accuracy</td><td>▁▂▄▄▅▅▆▇▆▆▇▇▇▇▇▇▇▇███████</td></tr><tr><td>val_loss</td><td>█▄▂▂▂▂▂▁▂▁▁▁▁▁▁▁▁▁▁▁▁▁▁▁▁</td></tr></table><br/></div><div class=\"wandb-col\"><h3>Run summary:</h3><br/><table class=\"wandb\"><tr><td>epochs</td><td>24</td></tr><tr><td>train_loss</td><td>0.26821</td></tr><tr><td>training_accuracy</td><td>0.1475</td></tr><tr><td>val_accuracy</td><td>0.2666</td></tr><tr><td>val_loss</td><td>0.19037</td></tr></table><br/></div></div>"
      ],
      "text/plain": [
       "<IPython.core.display.HTML object>"
      ]
     },
     "metadata": {},
     "output_type": "display_data"
    },
    {
     "data": {
      "text/html": [
       " View run <strong style=\"color:#cdcd00\">grateful-sweep-1</strong> at: <a href='https://wandb.ai/nihil666/attn_runs/runs/rxyoqrs9' target=\"_blank\">https://wandb.ai/nihil666/attn_runs/runs/rxyoqrs9</a><br/>Synced 4 W&B file(s), 0 media file(s), 0 artifact file(s) and 0 other file(s)"
      ],
      "text/plain": [
       "<IPython.core.display.HTML object>"
      ]
     },
     "metadata": {},
     "output_type": "display_data"
    },
    {
     "data": {
      "text/html": [
       "Find logs at: <code>.\\wandb\\run-20230512_152822-rxyoqrs9\\logs</code>"
      ],
      "text/plain": [
       "<IPython.core.display.HTML object>"
      ]
     },
     "metadata": {},
     "output_type": "display_data"
    },
    {
     "name": "stderr",
     "output_type": "stream",
     "text": [
      "\u001b[34m\u001b[1mwandb\u001b[0m: Agent Starting Run: 7be0wllb with config:\n",
      "\u001b[34m\u001b[1mwandb\u001b[0m: \tbatch_size: 64\n",
      "\u001b[34m\u001b[1mwandb\u001b[0m: \tbidirectional: 1\n",
      "\u001b[34m\u001b[1mwandb\u001b[0m: \tcell_type_decoder: RNN\n",
      "\u001b[34m\u001b[1mwandb\u001b[0m: \tcell_type_encoder: RNN\n",
      "\u001b[34m\u001b[1mwandb\u001b[0m: \tdropout: 0\n",
      "\u001b[34m\u001b[1mwandb\u001b[0m: \thidden_layer_size: 64\n",
      "\u001b[34m\u001b[1mwandb\u001b[0m: \tinput_embedding_size: 512\n",
      "\u001b[34m\u001b[1mwandb\u001b[0m: \tnum_decoder_layers: 6\n",
      "\u001b[34m\u001b[1mwandb\u001b[0m: \tnum_encoder_layers: 5\n",
      "\u001b[34m\u001b[1mwandb\u001b[0m: \tteacher_forcing: 0\n",
      "Failed to detect the name of this notebook, you can set it manually with the WANDB_NOTEBOOK_NAME environment variable to enable code saving.\n"
     ]
    },
    {
     "data": {
      "text/html": [
       "wandb version 0.15.2 is available!  To upgrade, please run:\n",
       " $ pip install wandb --upgrade"
      ],
      "text/plain": [
       "<IPython.core.display.HTML object>"
      ]
     },
     "metadata": {},
     "output_type": "display_data"
    },
    {
     "data": {
      "text/html": [
       "Tracking run with wandb version 0.13.10"
      ],
      "text/plain": [
       "<IPython.core.display.HTML object>"
      ]
     },
     "metadata": {},
     "output_type": "display_data"
    },
    {
     "data": {
      "text/html": [
       "Run data is saved locally in <code>c:\\Users\\palas\\Desktop\\IOT\\cs6910_assignment3\\wandb\\run-20230512_161308-7be0wllb</code>"
      ],
      "text/plain": [
       "<IPython.core.display.HTML object>"
      ]
     },
     "metadata": {},
     "output_type": "display_data"
    },
    {
     "data": {
      "text/html": [
       "Syncing run <strong><a href='https://wandb.ai/nihil666/attn_runs/runs/7be0wllb' target=\"_blank\">prime-sweep-2</a></strong> to <a href='https://wandb.ai/nihil666/attn_runs' target=\"_blank\">Weights & Biases</a> (<a href='https://wandb.me/run' target=\"_blank\">docs</a>)<br/>Sweep page: <a href='https://wandb.ai/nihil666/attn_runs/sweeps/xfi9jkly' target=\"_blank\">https://wandb.ai/nihil666/attn_runs/sweeps/xfi9jkly</a>"
      ],
      "text/plain": [
       "<IPython.core.display.HTML object>"
      ]
     },
     "metadata": {},
     "output_type": "display_data"
    },
    {
     "data": {
      "text/html": [
       " View project at <a href='https://wandb.ai/nihil666/attn_runs' target=\"_blank\">https://wandb.ai/nihil666/attn_runs</a>"
      ],
      "text/plain": [
       "<IPython.core.display.HTML object>"
      ]
     },
     "metadata": {},
     "output_type": "display_data"
    },
    {
     "data": {
      "text/html": [
       " View sweep at <a href='https://wandb.ai/nihil666/attn_runs/sweeps/xfi9jkly' target=\"_blank\">https://wandb.ai/nihil666/attn_runs/sweeps/xfi9jkly</a>"
      ],
      "text/plain": [
       "<IPython.core.display.HTML object>"
      ]
     },
     "metadata": {},
     "output_type": "display_data"
    },
    {
     "data": {
      "text/html": [
       " View run at <a href='https://wandb.ai/nihil666/attn_runs/runs/7be0wllb' target=\"_blank\">https://wandb.ai/nihil666/attn_runs/runs/7be0wllb</a>"
      ],
      "text/plain": [
       "<IPython.core.display.HTML object>"
      ]
     },
     "metadata": {},
     "output_type": "display_data"
    },
    {
     "data": {
      "text/html": [
       "Waiting for W&B process to finish... <strong style=\"color:green\">(success).</strong>"
      ],
      "text/plain": [
       "<IPython.core.display.HTML object>"
      ]
     },
     "metadata": {},
     "output_type": "display_data"
    },
    {
     "data": {
      "application/vnd.jupyter.widget-view+json": {
       "model_id": "1c51580bc54044b68d07d1a73a28106b",
       "version_major": 2,
       "version_minor": 0
      },
      "text/plain": [
       "VBox(children=(Label(value='0.001 MB of 0.007 MB uploaded (0.000 MB deduped)\\r'), FloatProgress(value=0.181338…"
      ]
     },
     "metadata": {},
     "output_type": "display_data"
    },
    {
     "data": {
      "text/html": [
       "<style>\n",
       "    table.wandb td:nth-child(1) { padding: 0 10px; text-align: left ; width: auto;} td:nth-child(2) {text-align: left ; width: 100%}\n",
       "    .wandb-row { display: flex; flex-direction: row; flex-wrap: wrap; justify-content: flex-start; width: 100% }\n",
       "    .wandb-col { display: flex; flex-direction: column; flex-basis: 100%; flex: 1; padding: 10px; }\n",
       "    </style>\n",
       "<div class=\"wandb-row\"><div class=\"wandb-col\"><h3>Run history:</h3><br/><table class=\"wandb\"><tr><td>epochs</td><td>▁▁▂▂▂▂▃▃▃▄▄▄▅▅▅▅▆▆▆▇▇▇▇██</td></tr><tr><td>train_loss</td><td>█▃▃▃▂▂▂▂▂▂▂▂▂▁▁▁▁▁▁▁▁▁▁▁▁</td></tr><tr><td>training_accuracy</td><td>▁▃▃▄▄▅▅▅▆▆▆▆▆▇▇▇▇▇▇▇▇████</td></tr><tr><td>val_accuracy</td><td>▁▃▅▅▅▆▆▆▆▇▇▇▇▇▇█▇▇▇▇█████</td></tr><tr><td>val_loss</td><td>█▅▃▃▂▂▂▂▁▂▁▁▁▁▁▁▁▁▁▁▁▁▁▁▁</td></tr></table><br/></div><div class=\"wandb-col\"><h3>Run summary:</h3><br/><table class=\"wandb\"><tr><td>epochs</td><td>24</td></tr><tr><td>train_loss</td><td>0.26855</td></tr><tr><td>training_accuracy</td><td>0.1952</td></tr><tr><td>val_accuracy</td><td>0.19189</td></tr><tr><td>val_loss</td><td>0.28697</td></tr></table><br/></div></div>"
      ],
      "text/plain": [
       "<IPython.core.display.HTML object>"
      ]
     },
     "metadata": {},
     "output_type": "display_data"
    },
    {
     "data": {
      "text/html": [
       " View run <strong style=\"color:#cdcd00\">prime-sweep-2</strong> at: <a href='https://wandb.ai/nihil666/attn_runs/runs/7be0wllb' target=\"_blank\">https://wandb.ai/nihil666/attn_runs/runs/7be0wllb</a><br/>Synced 4 W&B file(s), 0 media file(s), 0 artifact file(s) and 0 other file(s)"
      ],
      "text/plain": [
       "<IPython.core.display.HTML object>"
      ]
     },
     "metadata": {},
     "output_type": "display_data"
    },
    {
     "data": {
      "text/html": [
       "Find logs at: <code>.\\wandb\\run-20230512_161308-7be0wllb\\logs</code>"
      ],
      "text/plain": [
       "<IPython.core.display.HTML object>"
      ]
     },
     "metadata": {},
     "output_type": "display_data"
    },
    {
     "name": "stderr",
     "output_type": "stream",
     "text": [
      "\u001b[34m\u001b[1mwandb\u001b[0m: Agent Starting Run: krziw2bg with config:\n",
      "\u001b[34m\u001b[1mwandb\u001b[0m: \tbatch_size: 16\n",
      "\u001b[34m\u001b[1mwandb\u001b[0m: \tbidirectional: 0\n",
      "\u001b[34m\u001b[1mwandb\u001b[0m: \tcell_type_decoder: GRU\n",
      "\u001b[34m\u001b[1mwandb\u001b[0m: \tcell_type_encoder: LSTM\n",
      "\u001b[34m\u001b[1mwandb\u001b[0m: \tdropout: 0.2\n",
      "\u001b[34m\u001b[1mwandb\u001b[0m: \thidden_layer_size: 64\n",
      "\u001b[34m\u001b[1mwandb\u001b[0m: \tinput_embedding_size: 1024\n",
      "\u001b[34m\u001b[1mwandb\u001b[0m: \tnum_decoder_layers: 5\n",
      "\u001b[34m\u001b[1mwandb\u001b[0m: \tnum_encoder_layers: 4\n",
      "\u001b[34m\u001b[1mwandb\u001b[0m: \tteacher_forcing: 1\n",
      "Failed to detect the name of this notebook, you can set it manually with the WANDB_NOTEBOOK_NAME environment variable to enable code saving.\n"
     ]
    },
    {
     "data": {
      "text/html": [
       "wandb version 0.15.2 is available!  To upgrade, please run:\n",
       " $ pip install wandb --upgrade"
      ],
      "text/plain": [
       "<IPython.core.display.HTML object>"
      ]
     },
     "metadata": {},
     "output_type": "display_data"
    },
    {
     "data": {
      "text/html": [
       "Tracking run with wandb version 0.13.10"
      ],
      "text/plain": [
       "<IPython.core.display.HTML object>"
      ]
     },
     "metadata": {},
     "output_type": "display_data"
    },
    {
     "data": {
      "text/html": [
       "Run data is saved locally in <code>c:\\Users\\palas\\Desktop\\IOT\\cs6910_assignment3\\wandb\\run-20230512_165335-krziw2bg</code>"
      ],
      "text/plain": [
       "<IPython.core.display.HTML object>"
      ]
     },
     "metadata": {},
     "output_type": "display_data"
    },
    {
     "data": {
      "text/html": [
       "Syncing run <strong><a href='https://wandb.ai/nihil666/attn_runs/runs/krziw2bg' target=\"_blank\">magic-sweep-3</a></strong> to <a href='https://wandb.ai/nihil666/attn_runs' target=\"_blank\">Weights & Biases</a> (<a href='https://wandb.me/run' target=\"_blank\">docs</a>)<br/>Sweep page: <a href='https://wandb.ai/nihil666/attn_runs/sweeps/xfi9jkly' target=\"_blank\">https://wandb.ai/nihil666/attn_runs/sweeps/xfi9jkly</a>"
      ],
      "text/plain": [
       "<IPython.core.display.HTML object>"
      ]
     },
     "metadata": {},
     "output_type": "display_data"
    },
    {
     "data": {
      "text/html": [
       " View project at <a href='https://wandb.ai/nihil666/attn_runs' target=\"_blank\">https://wandb.ai/nihil666/attn_runs</a>"
      ],
      "text/plain": [
       "<IPython.core.display.HTML object>"
      ]
     },
     "metadata": {},
     "output_type": "display_data"
    },
    {
     "data": {
      "text/html": [
       " View sweep at <a href='https://wandb.ai/nihil666/attn_runs/sweeps/xfi9jkly' target=\"_blank\">https://wandb.ai/nihil666/attn_runs/sweeps/xfi9jkly</a>"
      ],
      "text/plain": [
       "<IPython.core.display.HTML object>"
      ]
     },
     "metadata": {},
     "output_type": "display_data"
    },
    {
     "data": {
      "text/html": [
       " View run at <a href='https://wandb.ai/nihil666/attn_runs/runs/krziw2bg' target=\"_blank\">https://wandb.ai/nihil666/attn_runs/runs/krziw2bg</a>"
      ],
      "text/plain": [
       "<IPython.core.display.HTML object>"
      ]
     },
     "metadata": {},
     "output_type": "display_data"
    },
    {
     "name": "stderr",
     "output_type": "stream",
     "text": [
      "\u001b[34m\u001b[1mwandb\u001b[0m: Network error (ConnectionError), entering retry loop.\n"
     ]
    },
    {
     "data": {
      "text/html": [
       "Waiting for W&B process to finish... <strong style=\"color:green\">(success).</strong>"
      ],
      "text/plain": [
       "<IPython.core.display.HTML object>"
      ]
     },
     "metadata": {},
     "output_type": "display_data"
    },
    {
     "data": {
      "application/vnd.jupyter.widget-view+json": {
       "model_id": "4ce00b8167e445d8ad14ccfac2fddb3b",
       "version_major": 2,
       "version_minor": 0
      },
      "text/plain": [
       "VBox(children=(Label(value='0.001 MB of 0.007 MB uploaded (0.000 MB deduped)\\r'), FloatProgress(value=0.179283…"
      ]
     },
     "metadata": {},
     "output_type": "display_data"
    },
    {
     "data": {
      "text/html": [
       "<style>\n",
       "    table.wandb td:nth-child(1) { padding: 0 10px; text-align: left ; width: auto;} td:nth-child(2) {text-align: left ; width: 100%}\n",
       "    .wandb-row { display: flex; flex-direction: row; flex-wrap: wrap; justify-content: flex-start; width: 100% }\n",
       "    .wandb-col { display: flex; flex-direction: column; flex-basis: 100%; flex: 1; padding: 10px; }\n",
       "    </style>\n",
       "<div class=\"wandb-row\"><div class=\"wandb-col\"><h3>Run history:</h3><br/><table class=\"wandb\"><tr><td>epochs</td><td>▁▁▂▂▂▂▃▃▃▄▄▄▅▅▅▅▆▆▆▇▇▇▇██</td></tr><tr><td>train_loss</td><td>█▆▅▄▂▂▂▁▁▁▁▁▁▁▁▁▁▁▁▁▁▁▁▁▁</td></tr><tr><td>training_accuracy</td><td>▁▁▁▁▃▅▅▆▆▆▇▇▇▇▇▇▇▇███████</td></tr><tr><td>val_accuracy</td><td>▁▁▁▃▅▆▆▇▇▇▇▇▇▇▇██████████</td></tr><tr><td>val_loss</td><td>█▇▅▃▂▂▁▁▁▁▁▁▁▁▁▁▁▁▁▁▁▁▁▁▁</td></tr></table><br/></div><div class=\"wandb-col\"><h3>Run summary:</h3><br/><table class=\"wandb\"><tr><td>epochs</td><td>24</td></tr><tr><td>train_loss</td><td>0.13439</td></tr><tr><td>training_accuracy</td><td>0.28326</td></tr><tr><td>val_accuracy</td><td>0.35767</td></tr><tr><td>val_loss</td><td>0.11396</td></tr></table><br/></div></div>"
      ],
      "text/plain": [
       "<IPython.core.display.HTML object>"
      ]
     },
     "metadata": {},
     "output_type": "display_data"
    },
    {
     "data": {
      "text/html": [
       " View run <strong style=\"color:#cdcd00\">magic-sweep-3</strong> at: <a href='https://wandb.ai/nihil666/attn_runs/runs/krziw2bg' target=\"_blank\">https://wandb.ai/nihil666/attn_runs/runs/krziw2bg</a><br/>Synced 5 W&B file(s), 0 media file(s), 0 artifact file(s) and 0 other file(s)"
      ],
      "text/plain": [
       "<IPython.core.display.HTML object>"
      ]
     },
     "metadata": {},
     "output_type": "display_data"
    },
    {
     "data": {
      "text/html": [
       "Find logs at: <code>.\\wandb\\run-20230512_165335-krziw2bg\\logs</code>"
      ],
      "text/plain": [
       "<IPython.core.display.HTML object>"
      ]
     },
     "metadata": {},
     "output_type": "display_data"
    },
    {
     "name": "stderr",
     "output_type": "stream",
     "text": [
      "\u001b[34m\u001b[1mwandb\u001b[0m: Agent Starting Run: on8h8npt with config:\n",
      "\u001b[34m\u001b[1mwandb\u001b[0m: \tbatch_size: 16\n",
      "\u001b[34m\u001b[1mwandb\u001b[0m: \tbidirectional: 1\n",
      "\u001b[34m\u001b[1mwandb\u001b[0m: \tcell_type_decoder: GRU\n",
      "\u001b[34m\u001b[1mwandb\u001b[0m: \tcell_type_encoder: GRU\n",
      "\u001b[34m\u001b[1mwandb\u001b[0m: \tdropout: 0.3\n",
      "\u001b[34m\u001b[1mwandb\u001b[0m: \thidden_layer_size: 64\n",
      "\u001b[34m\u001b[1mwandb\u001b[0m: \tinput_embedding_size: 256\n",
      "\u001b[34m\u001b[1mwandb\u001b[0m: \tnum_decoder_layers: 5\n",
      "\u001b[34m\u001b[1mwandb\u001b[0m: \tnum_encoder_layers: 6\n",
      "\u001b[34m\u001b[1mwandb\u001b[0m: \tteacher_forcing: 0.5\n",
      "Failed to detect the name of this notebook, you can set it manually with the WANDB_NOTEBOOK_NAME environment variable to enable code saving.\n"
     ]
    },
    {
     "data": {
      "text/html": [
       "wandb version 0.15.2 is available!  To upgrade, please run:\n",
       " $ pip install wandb --upgrade"
      ],
      "text/plain": [
       "<IPython.core.display.HTML object>"
      ]
     },
     "metadata": {},
     "output_type": "display_data"
    },
    {
     "data": {
      "text/html": [
       "Tracking run with wandb version 0.13.10"
      ],
      "text/plain": [
       "<IPython.core.display.HTML object>"
      ]
     },
     "metadata": {},
     "output_type": "display_data"
    },
    {
     "data": {
      "text/html": [
       "Run data is saved locally in <code>c:\\Users\\palas\\Desktop\\IOT\\cs6910_assignment3\\wandb\\run-20230512_193506-on8h8npt</code>"
      ],
      "text/plain": [
       "<IPython.core.display.HTML object>"
      ]
     },
     "metadata": {},
     "output_type": "display_data"
    },
    {
     "data": {
      "text/html": [
       "Syncing run <strong><a href='https://wandb.ai/nihil666/attn_runs/runs/on8h8npt' target=\"_blank\">woven-sweep-4</a></strong> to <a href='https://wandb.ai/nihil666/attn_runs' target=\"_blank\">Weights & Biases</a> (<a href='https://wandb.me/run' target=\"_blank\">docs</a>)<br/>Sweep page: <a href='https://wandb.ai/nihil666/attn_runs/sweeps/xfi9jkly' target=\"_blank\">https://wandb.ai/nihil666/attn_runs/sweeps/xfi9jkly</a>"
      ],
      "text/plain": [
       "<IPython.core.display.HTML object>"
      ]
     },
     "metadata": {},
     "output_type": "display_data"
    },
    {
     "data": {
      "text/html": [
       " View project at <a href='https://wandb.ai/nihil666/attn_runs' target=\"_blank\">https://wandb.ai/nihil666/attn_runs</a>"
      ],
      "text/plain": [
       "<IPython.core.display.HTML object>"
      ]
     },
     "metadata": {},
     "output_type": "display_data"
    },
    {
     "data": {
      "text/html": [
       " View sweep at <a href='https://wandb.ai/nihil666/attn_runs/sweeps/xfi9jkly' target=\"_blank\">https://wandb.ai/nihil666/attn_runs/sweeps/xfi9jkly</a>"
      ],
      "text/plain": [
       "<IPython.core.display.HTML object>"
      ]
     },
     "metadata": {},
     "output_type": "display_data"
    },
    {
     "data": {
      "text/html": [
       " View run at <a href='https://wandb.ai/nihil666/attn_runs/runs/on8h8npt' target=\"_blank\">https://wandb.ai/nihil666/attn_runs/runs/on8h8npt</a>"
      ],
      "text/plain": [
       "<IPython.core.display.HTML object>"
      ]
     },
     "metadata": {},
     "output_type": "display_data"
    },
    {
     "name": "stderr",
     "output_type": "stream",
     "text": [
      "\u001b[34m\u001b[1mwandb\u001b[0m: Network error (ConnectionError), entering retry loop.\n"
     ]
    },
    {
     "data": {
      "text/html": [
       "Waiting for W&B process to finish... <strong style=\"color:green\">(success).</strong>"
      ],
      "text/plain": [
       "<IPython.core.display.HTML object>"
      ]
     },
     "metadata": {},
     "output_type": "display_data"
    },
    {
     "data": {
      "application/vnd.jupyter.widget-view+json": {
       "model_id": "ff58298820e240d2b46d88c80996c5ea",
       "version_major": 2,
       "version_minor": 0
      },
      "text/plain": [
       "VBox(children=(Label(value='0.001 MB of 0.001 MB uploaded (0.000 MB deduped)\\r'), FloatProgress(value=1.0, max…"
      ]
     },
     "metadata": {},
     "output_type": "display_data"
    },
    {
     "data": {
      "text/html": [
       "<style>\n",
       "    table.wandb td:nth-child(1) { padding: 0 10px; text-align: left ; width: auto;} td:nth-child(2) {text-align: left ; width: 100%}\n",
       "    .wandb-row { display: flex; flex-direction: row; flex-wrap: wrap; justify-content: flex-start; width: 100% }\n",
       "    .wandb-col { display: flex; flex-direction: column; flex-basis: 100%; flex: 1; padding: 10px; }\n",
       "    </style>\n",
       "<div class=\"wandb-row\"><div class=\"wandb-col\"><h3>Run history:</h3><br/><table class=\"wandb\"><tr><td>epochs</td><td>▁▁▂▂▂▂▃▃▃▄▄▄▅▅▅▅▆▆▆▇▇▇▇██</td></tr><tr><td>train_loss</td><td>█▃▂▂▂▂▂▁▁▁▁▁▁▁▁▁▁▁▁▁▁▁▁▁▁</td></tr><tr><td>training_accuracy</td><td>▁▃▄▅▅▆▆▆▆▇▇▇▇▇▇▇▇████████</td></tr><tr><td>val_accuracy</td><td>▁▃▄▅▆▅▅▆▆▆▇▆▇▇▇▇▇▇████▇██</td></tr><tr><td>val_loss</td><td>█▅▄▃▂▃▂▂▂▂▂▂▂▁▂▁▁▁▁▁▁▁▁▁▁</td></tr></table><br/></div><div class=\"wandb-col\"><h3>Run summary:</h3><br/><table class=\"wandb\"><tr><td>epochs</td><td>24</td></tr><tr><td>train_loss</td><td>0.24618</td></tr><tr><td>training_accuracy</td><td>0.17482</td></tr><tr><td>val_accuracy</td><td>0.26099</td></tr><tr><td>val_loss</td><td>0.195</td></tr></table><br/></div></div>"
      ],
      "text/plain": [
       "<IPython.core.display.HTML object>"
      ]
     },
     "metadata": {},
     "output_type": "display_data"
    },
    {
     "data": {
      "text/html": [
       " View run <strong style=\"color:#cdcd00\">woven-sweep-4</strong> at: <a href='https://wandb.ai/nihil666/attn_runs/runs/on8h8npt' target=\"_blank\">https://wandb.ai/nihil666/attn_runs/runs/on8h8npt</a><br/>Synced 5 W&B file(s), 0 media file(s), 0 artifact file(s) and 0 other file(s)"
      ],
      "text/plain": [
       "<IPython.core.display.HTML object>"
      ]
     },
     "metadata": {},
     "output_type": "display_data"
    },
    {
     "data": {
      "text/html": [
       "Find logs at: <code>.\\wandb\\run-20230512_193506-on8h8npt\\logs</code>"
      ],
      "text/plain": [
       "<IPython.core.display.HTML object>"
      ]
     },
     "metadata": {},
     "output_type": "display_data"
    },
    {
     "name": "stderr",
     "output_type": "stream",
     "text": [
      "\u001b[34m\u001b[1mwandb\u001b[0m: Sweep Agent: Waiting for job.\n",
      "\u001b[34m\u001b[1mwandb\u001b[0m: Job received.\n",
      "\u001b[34m\u001b[1mwandb\u001b[0m: Agent Starting Run: 87sy5dyh with config:\n",
      "\u001b[34m\u001b[1mwandb\u001b[0m: \tbatch_size: 16\n",
      "\u001b[34m\u001b[1mwandb\u001b[0m: \tbidirectional: 0\n",
      "\u001b[34m\u001b[1mwandb\u001b[0m: \tcell_type_decoder: RNN\n",
      "\u001b[34m\u001b[1mwandb\u001b[0m: \tcell_type_encoder: LSTM\n",
      "\u001b[34m\u001b[1mwandb\u001b[0m: \tdropout: 0.2\n",
      "\u001b[34m\u001b[1mwandb\u001b[0m: \thidden_layer_size: 64\n",
      "\u001b[34m\u001b[1mwandb\u001b[0m: \tinput_embedding_size: 1024\n",
      "\u001b[34m\u001b[1mwandb\u001b[0m: \tnum_decoder_layers: 5\n",
      "\u001b[34m\u001b[1mwandb\u001b[0m: \tnum_encoder_layers: 5\n",
      "\u001b[34m\u001b[1mwandb\u001b[0m: \tteacher_forcing: 0.75\n",
      "Failed to detect the name of this notebook, you can set it manually with the WANDB_NOTEBOOK_NAME environment variable to enable code saving.\n"
     ]
    },
    {
     "data": {
      "text/html": [
       "wandb version 0.15.2 is available!  To upgrade, please run:\n",
       " $ pip install wandb --upgrade"
      ],
      "text/plain": [
       "<IPython.core.display.HTML object>"
      ]
     },
     "metadata": {},
     "output_type": "display_data"
    },
    {
     "data": {
      "text/html": [
       "Tracking run with wandb version 0.13.10"
      ],
      "text/plain": [
       "<IPython.core.display.HTML object>"
      ]
     },
     "metadata": {},
     "output_type": "display_data"
    },
    {
     "data": {
      "text/html": [
       "Run data is saved locally in <code>c:\\Users\\palas\\Desktop\\IOT\\cs6910_assignment3\\wandb\\run-20230512_225121-87sy5dyh</code>"
      ],
      "text/plain": [
       "<IPython.core.display.HTML object>"
      ]
     },
     "metadata": {},
     "output_type": "display_data"
    },
    {
     "data": {
      "text/html": [
       "Syncing run <strong><a href='https://wandb.ai/nihil666/attn_runs/runs/87sy5dyh' target=\"_blank\">earthy-sweep-5</a></strong> to <a href='https://wandb.ai/nihil666/attn_runs' target=\"_blank\">Weights & Biases</a> (<a href='https://wandb.me/run' target=\"_blank\">docs</a>)<br/>Sweep page: <a href='https://wandb.ai/nihil666/attn_runs/sweeps/xfi9jkly' target=\"_blank\">https://wandb.ai/nihil666/attn_runs/sweeps/xfi9jkly</a>"
      ],
      "text/plain": [
       "<IPython.core.display.HTML object>"
      ]
     },
     "metadata": {},
     "output_type": "display_data"
    },
    {
     "data": {
      "text/html": [
       " View project at <a href='https://wandb.ai/nihil666/attn_runs' target=\"_blank\">https://wandb.ai/nihil666/attn_runs</a>"
      ],
      "text/plain": [
       "<IPython.core.display.HTML object>"
      ]
     },
     "metadata": {},
     "output_type": "display_data"
    },
    {
     "data": {
      "text/html": [
       " View sweep at <a href='https://wandb.ai/nihil666/attn_runs/sweeps/xfi9jkly' target=\"_blank\">https://wandb.ai/nihil666/attn_runs/sweeps/xfi9jkly</a>"
      ],
      "text/plain": [
       "<IPython.core.display.HTML object>"
      ]
     },
     "metadata": {},
     "output_type": "display_data"
    },
    {
     "data": {
      "text/html": [
       " View run at <a href='https://wandb.ai/nihil666/attn_runs/runs/87sy5dyh' target=\"_blank\">https://wandb.ai/nihil666/attn_runs/runs/87sy5dyh</a>"
      ],
      "text/plain": [
       "<IPython.core.display.HTML object>"
      ]
     },
     "metadata": {},
     "output_type": "display_data"
    },
    {
     "data": {
      "text/html": [
       "Waiting for W&B process to finish... <strong style=\"color:green\">(success).</strong>"
      ],
      "text/plain": [
       "<IPython.core.display.HTML object>"
      ]
     },
     "metadata": {},
     "output_type": "display_data"
    },
    {
     "data": {
      "application/vnd.jupyter.widget-view+json": {
       "model_id": "f92d24ca7ca34f96a8cb52c5888dab5c",
       "version_major": 2,
       "version_minor": 0
      },
      "text/plain": [
       "VBox(children=(Label(value='0.001 MB of 0.007 MB uploaded (0.000 MB deduped)\\r'), FloatProgress(value=0.180968…"
      ]
     },
     "metadata": {},
     "output_type": "display_data"
    },
    {
     "data": {
      "text/html": [
       "<style>\n",
       "    table.wandb td:nth-child(1) { padding: 0 10px; text-align: left ; width: auto;} td:nth-child(2) {text-align: left ; width: 100%}\n",
       "    .wandb-row { display: flex; flex-direction: row; flex-wrap: wrap; justify-content: flex-start; width: 100% }\n",
       "    .wandb-col { display: flex; flex-direction: column; flex-basis: 100%; flex: 1; padding: 10px; }\n",
       "    </style>\n",
       "<div class=\"wandb-row\"><div class=\"wandb-col\"><h3>Run history:</h3><br/><table class=\"wandb\"><tr><td>epochs</td><td>▁▁▂▂▂▂▃▃▃▄▄▄▅▅▅▅▆▆▆▇▇▇▇██</td></tr><tr><td>train_loss</td><td>█▅▃▂▂▂▂▁▁▁▁▁▁▁▁▁▁▁▁▁▁▁▁▁▁</td></tr><tr><td>training_accuracy</td><td>▁▁▂▄▅▅▆▆▆▆▇▇▇▇▇▇▇▇███████</td></tr><tr><td>val_accuracy</td><td>▁▁▄▆▆▆▆▇▇▇▇▇▇▇▇▇█████████</td></tr><tr><td>val_loss</td><td>█▄▂▂▂▂▁▁▁▁▁▁▁▁▁▁▁▁▁▁▁▁▁▁▁</td></tr></table><br/></div><div class=\"wandb-col\"><h3>Run summary:</h3><br/><table class=\"wandb\"><tr><td>epochs</td><td>24</td></tr><tr><td>train_loss</td><td>0.20157</td></tr><tr><td>training_accuracy</td><td>0.20639</td></tr><tr><td>val_accuracy</td><td>0.29443</td></tr><tr><td>val_loss</td><td>0.157</td></tr></table><br/></div></div>"
      ],
      "text/plain": [
       "<IPython.core.display.HTML object>"
      ]
     },
     "metadata": {},
     "output_type": "display_data"
    },
    {
     "data": {
      "text/html": [
       " View run <strong style=\"color:#cdcd00\">earthy-sweep-5</strong> at: <a href='https://wandb.ai/nihil666/attn_runs/runs/87sy5dyh' target=\"_blank\">https://wandb.ai/nihil666/attn_runs/runs/87sy5dyh</a><br/>Synced 4 W&B file(s), 0 media file(s), 0 artifact file(s) and 0 other file(s)"
      ],
      "text/plain": [
       "<IPython.core.display.HTML object>"
      ]
     },
     "metadata": {},
     "output_type": "display_data"
    },
    {
     "data": {
      "text/html": [
       "Find logs at: <code>.\\wandb\\run-20230512_225121-87sy5dyh\\logs</code>"
      ],
      "text/plain": [
       "<IPython.core.display.HTML object>"
      ]
     },
     "metadata": {},
     "output_type": "display_data"
    },
    {
     "name": "stderr",
     "output_type": "stream",
     "text": [
      "\u001b[34m\u001b[1mwandb\u001b[0m: Sweep Agent: Waiting for job.\n",
      "\u001b[34m\u001b[1mwandb\u001b[0m: Job received.\n",
      "\u001b[34m\u001b[1mwandb\u001b[0m: Agent Starting Run: xukahj6n with config:\n",
      "\u001b[34m\u001b[1mwandb\u001b[0m: \tbatch_size: 64\n",
      "\u001b[34m\u001b[1mwandb\u001b[0m: \tbidirectional: 0\n",
      "\u001b[34m\u001b[1mwandb\u001b[0m: \tcell_type_decoder: GRU\n",
      "\u001b[34m\u001b[1mwandb\u001b[0m: \tcell_type_encoder: LSTM\n",
      "\u001b[34m\u001b[1mwandb\u001b[0m: \tdropout: 0.2\n",
      "\u001b[34m\u001b[1mwandb\u001b[0m: \thidden_layer_size: 64\n",
      "\u001b[34m\u001b[1mwandb\u001b[0m: \tinput_embedding_size: 1024\n",
      "\u001b[34m\u001b[1mwandb\u001b[0m: \tnum_decoder_layers: 6\n",
      "\u001b[34m\u001b[1mwandb\u001b[0m: \tnum_encoder_layers: 4\n",
      "\u001b[34m\u001b[1mwandb\u001b[0m: \tteacher_forcing: 0.75\n",
      "Failed to detect the name of this notebook, you can set it manually with the WANDB_NOTEBOOK_NAME environment variable to enable code saving.\n"
     ]
    },
    {
     "data": {
      "text/html": [
       "wandb version 0.15.2 is available!  To upgrade, please run:\n",
       " $ pip install wandb --upgrade"
      ],
      "text/plain": [
       "<IPython.core.display.HTML object>"
      ]
     },
     "metadata": {},
     "output_type": "display_data"
    },
    {
     "data": {
      "text/html": [
       "Tracking run with wandb version 0.13.10"
      ],
      "text/plain": [
       "<IPython.core.display.HTML object>"
      ]
     },
     "metadata": {},
     "output_type": "display_data"
    },
    {
     "data": {
      "text/html": [
       "Run data is saved locally in <code>c:\\Users\\palas\\Desktop\\IOT\\cs6910_assignment3\\wandb\\run-20230513_015409-xukahj6n</code>"
      ],
      "text/plain": [
       "<IPython.core.display.HTML object>"
      ]
     },
     "metadata": {},
     "output_type": "display_data"
    },
    {
     "data": {
      "text/html": [
       "Syncing run <strong><a href='https://wandb.ai/nihil666/attn_runs/runs/xukahj6n' target=\"_blank\">charmed-sweep-6</a></strong> to <a href='https://wandb.ai/nihil666/attn_runs' target=\"_blank\">Weights & Biases</a> (<a href='https://wandb.me/run' target=\"_blank\">docs</a>)<br/>Sweep page: <a href='https://wandb.ai/nihil666/attn_runs/sweeps/xfi9jkly' target=\"_blank\">https://wandb.ai/nihil666/attn_runs/sweeps/xfi9jkly</a>"
      ],
      "text/plain": [
       "<IPython.core.display.HTML object>"
      ]
     },
     "metadata": {},
     "output_type": "display_data"
    },
    {
     "data": {
      "text/html": [
       " View project at <a href='https://wandb.ai/nihil666/attn_runs' target=\"_blank\">https://wandb.ai/nihil666/attn_runs</a>"
      ],
      "text/plain": [
       "<IPython.core.display.HTML object>"
      ]
     },
     "metadata": {},
     "output_type": "display_data"
    },
    {
     "data": {
      "text/html": [
       " View sweep at <a href='https://wandb.ai/nihil666/attn_runs/sweeps/xfi9jkly' target=\"_blank\">https://wandb.ai/nihil666/attn_runs/sweeps/xfi9jkly</a>"
      ],
      "text/plain": [
       "<IPython.core.display.HTML object>"
      ]
     },
     "metadata": {},
     "output_type": "display_data"
    },
    {
     "data": {
      "text/html": [
       " View run at <a href='https://wandb.ai/nihil666/attn_runs/runs/xukahj6n' target=\"_blank\">https://wandb.ai/nihil666/attn_runs/runs/xukahj6n</a>"
      ],
      "text/plain": [
       "<IPython.core.display.HTML object>"
      ]
     },
     "metadata": {},
     "output_type": "display_data"
    },
    {
     "data": {
      "text/html": [
       "Waiting for W&B process to finish... <strong style=\"color:green\">(success).</strong>"
      ],
      "text/plain": [
       "<IPython.core.display.HTML object>"
      ]
     },
     "metadata": {},
     "output_type": "display_data"
    },
    {
     "data": {
      "application/vnd.jupyter.widget-view+json": {
       "model_id": "281d8408aba54f19b53f94c50733db04",
       "version_major": 2,
       "version_minor": 0
      },
      "text/plain": [
       "VBox(children=(Label(value='0.001 MB of 0.007 MB uploaded (0.000 MB deduped)\\r'), FloatProgress(value=0.187440…"
      ]
     },
     "metadata": {},
     "output_type": "display_data"
    },
    {
     "data": {
      "text/html": [
       "<style>\n",
       "    table.wandb td:nth-child(1) { padding: 0 10px; text-align: left ; width: auto;} td:nth-child(2) {text-align: left ; width: 100%}\n",
       "    .wandb-row { display: flex; flex-direction: row; flex-wrap: wrap; justify-content: flex-start; width: 100% }\n",
       "    .wandb-col { display: flex; flex-direction: column; flex-basis: 100%; flex: 1; padding: 10px; }\n",
       "    </style>\n",
       "<div class=\"wandb-row\"><div class=\"wandb-col\"><h3>Run history:</h3><br/><table class=\"wandb\"><tr><td>epochs</td><td>▁▁▂▂▂▂▃▃▃▄▄▄▅▅▅▅▆▆▆▇▇▇▇██</td></tr><tr><td>train_loss</td><td>█▇▆▅▃▂▂▂▂▂▁▁▁▁▁▁▁▁▁▁▁▁▁▁▁</td></tr><tr><td>training_accuracy</td><td>▁▁▁▁▂▃▄▅▅▅▆▆▆▆▇▇▇▇▇▇▇████</td></tr><tr><td>val_accuracy</td><td>▁▁▁▁▃▄▄▄▄▄▄▄▅▅▅▆▆▇▇▇█████</td></tr><tr><td>val_loss</td><td>█▇▆▄▃▃▂▂▃▃▂▂▂▂▂▂▂▁▁▁▁▁▁▁▁</td></tr></table><br/></div><div class=\"wandb-col\"><h3>Run summary:</h3><br/><table class=\"wandb\"><tr><td>epochs</td><td>24</td></tr><tr><td>train_loss</td><td>0.19612</td></tr><tr><td>training_accuracy</td><td>0.20551</td></tr><tr><td>val_accuracy</td><td>0.25708</td></tr><tr><td>val_loss</td><td>0.17999</td></tr></table><br/></div></div>"
      ],
      "text/plain": [
       "<IPython.core.display.HTML object>"
      ]
     },
     "metadata": {},
     "output_type": "display_data"
    },
    {
     "data": {
      "text/html": [
       " View run <strong style=\"color:#cdcd00\">charmed-sweep-6</strong> at: <a href='https://wandb.ai/nihil666/attn_runs/runs/xukahj6n' target=\"_blank\">https://wandb.ai/nihil666/attn_runs/runs/xukahj6n</a><br/>Synced 4 W&B file(s), 0 media file(s), 0 artifact file(s) and 0 other file(s)"
      ],
      "text/plain": [
       "<IPython.core.display.HTML object>"
      ]
     },
     "metadata": {},
     "output_type": "display_data"
    },
    {
     "data": {
      "text/html": [
       "Find logs at: <code>.\\wandb\\run-20230513_015409-xukahj6n\\logs</code>"
      ],
      "text/plain": [
       "<IPython.core.display.HTML object>"
      ]
     },
     "metadata": {},
     "output_type": "display_data"
    },
    {
     "name": "stderr",
     "output_type": "stream",
     "text": [
      "\u001b[34m\u001b[1mwandb\u001b[0m: Agent Starting Run: u3sv01w6 with config:\n",
      "\u001b[34m\u001b[1mwandb\u001b[0m: \tbatch_size: 16\n",
      "\u001b[34m\u001b[1mwandb\u001b[0m: \tbidirectional: 1\n",
      "\u001b[34m\u001b[1mwandb\u001b[0m: \tcell_type_decoder: LSTM\n",
      "\u001b[34m\u001b[1mwandb\u001b[0m: \tcell_type_encoder: LSTM\n",
      "\u001b[34m\u001b[1mwandb\u001b[0m: \tdropout: 0\n",
      "\u001b[34m\u001b[1mwandb\u001b[0m: \thidden_layer_size: 64\n",
      "\u001b[34m\u001b[1mwandb\u001b[0m: \tinput_embedding_size: 1024\n",
      "\u001b[34m\u001b[1mwandb\u001b[0m: \tnum_decoder_layers: 4\n",
      "\u001b[34m\u001b[1mwandb\u001b[0m: \tnum_encoder_layers: 4\n",
      "\u001b[34m\u001b[1mwandb\u001b[0m: \tteacher_forcing: 0.75\n",
      "Failed to detect the name of this notebook, you can set it manually with the WANDB_NOTEBOOK_NAME environment variable to enable code saving.\n"
     ]
    },
    {
     "data": {
      "text/html": [
       "wandb version 0.15.2 is available!  To upgrade, please run:\n",
       " $ pip install wandb --upgrade"
      ],
      "text/plain": [
       "<IPython.core.display.HTML object>"
      ]
     },
     "metadata": {},
     "output_type": "display_data"
    },
    {
     "data": {
      "text/html": [
       "Tracking run with wandb version 0.13.10"
      ],
      "text/plain": [
       "<IPython.core.display.HTML object>"
      ]
     },
     "metadata": {},
     "output_type": "display_data"
    },
    {
     "data": {
      "text/html": [
       "Run data is saved locally in <code>c:\\Users\\palas\\Desktop\\IOT\\cs6910_assignment3\\wandb\\run-20230513_023051-u3sv01w6</code>"
      ],
      "text/plain": [
       "<IPython.core.display.HTML object>"
      ]
     },
     "metadata": {},
     "output_type": "display_data"
    },
    {
     "data": {
      "text/html": [
       "Syncing run <strong><a href='https://wandb.ai/nihil666/attn_runs/runs/u3sv01w6' target=\"_blank\">glamorous-sweep-7</a></strong> to <a href='https://wandb.ai/nihil666/attn_runs' target=\"_blank\">Weights & Biases</a> (<a href='https://wandb.me/run' target=\"_blank\">docs</a>)<br/>Sweep page: <a href='https://wandb.ai/nihil666/attn_runs/sweeps/xfi9jkly' target=\"_blank\">https://wandb.ai/nihil666/attn_runs/sweeps/xfi9jkly</a>"
      ],
      "text/plain": [
       "<IPython.core.display.HTML object>"
      ]
     },
     "metadata": {},
     "output_type": "display_data"
    },
    {
     "data": {
      "text/html": [
       " View project at <a href='https://wandb.ai/nihil666/attn_runs' target=\"_blank\">https://wandb.ai/nihil666/attn_runs</a>"
      ],
      "text/plain": [
       "<IPython.core.display.HTML object>"
      ]
     },
     "metadata": {},
     "output_type": "display_data"
    },
    {
     "data": {
      "text/html": [
       " View sweep at <a href='https://wandb.ai/nihil666/attn_runs/sweeps/xfi9jkly' target=\"_blank\">https://wandb.ai/nihil666/attn_runs/sweeps/xfi9jkly</a>"
      ],
      "text/plain": [
       "<IPython.core.display.HTML object>"
      ]
     },
     "metadata": {},
     "output_type": "display_data"
    },
    {
     "data": {
      "text/html": [
       " View run at <a href='https://wandb.ai/nihil666/attn_runs/runs/u3sv01w6' target=\"_blank\">https://wandb.ai/nihil666/attn_runs/runs/u3sv01w6</a>"
      ],
      "text/plain": [
       "<IPython.core.display.HTML object>"
      ]
     },
     "metadata": {},
     "output_type": "display_data"
    }
   ],
   "source": [
    "import wandb\n",
    "from model import compare_sequences, seq2seq_attn\n",
    "\n",
    "wandb.login()\n",
    "\n",
    "sweep_config = {\n",
    "    \"method\": \"bayes\",\n",
    "    \"metric\":{\n",
    "    \"name\": \"val_accuracy\",\n",
    "    \"goal\": \"maximize\"\n",
    "    },\n",
    "    'parameters': {\n",
    "        'input_embedding_size': {'values': [256, 512, 1024]},\n",
    "        'num_encoder_layers': {'values': [4, 5, 6]},\n",
    "        'num_decoder_layers': {'values': [4, 5, 6]},\n",
    "        'hidden_layer_size' : {'values' : [32, 64]},\n",
    "        'cell_type_encoder' : {'values' : ['LSTM','GRU','RNN']},\n",
    "        'cell_type_decoder' : {'values' : ['LSTM','GRU','RNN']},\n",
    "        'bidirectional' : {'values' : [0, 1]},\n",
    "        'dropout' : {'values' : [0,0.2,0.3]},\n",
    "        'teacher_forcing' : {'values' : [0, 0.5, 0.75, 1]},\n",
    "        'batch_size' : {'values' : [8,16,64,128,512]}\n",
    "    }\n",
    "}\n",
    "\n",
    "sweep_id = wandb.sweep(sweep_config, project=\"attn_runs\")\n",
    "\n",
    "def train(config=None):\n",
    "   \n",
    "    wandb.init(config=config)\n",
    "    run_name = \"ies_\"+str(wandb.config.input_embedding_size)+\"_nel_\"+str(wandb.config.num_encoder_layers)+\"_ndl_\"+str(wandb.config.num_decoder_layers)+\"_hls_\"+str(wandb.config.hidden_layer_size)+\"_cte_\"+str(wandb.config.cell_type_encoder)+\"_ctd_\"+str(wandb.config.cell_type_decoder)+\"_tf_\"+str(wandb.config.teacher_forcing)+\"_bs_\"+str(wandb.config.batch_size)\n",
    "    wandb.run.name = run_name\n",
    "    config = wandb.config\n",
    "\n",
    "    VOCAB_SIZE = 131\n",
    "    EMBEDDING_DIM = config.input_embedding_size\n",
    "    HIDDEN_DIM = config.hidden_layer_size\n",
    "    EPOCHS = 25\n",
    "    NUM_LAYERS_ENCODER = config.num_encoder_layers\n",
    "    NUM_LAYERS_DECODER =config.num_decoder_layers\n",
    "    DROPOUT = config.dropout\n",
    "    BIDIRECTIONAL = config.bidirectional\n",
    "    CELL_TYPE_ENCODER = config.cell_type_encoder\n",
    "    CELL_TYPE_DECODER = config.cell_type_decoder\n",
    "    TEACHER_FORCING = config.teacher_forcing\n",
    "    MAX_SEQ_SIZE = 28\n",
    "    BATCH_SIZE = config.batch_size\n",
    "\n",
    "    train_loader = torch.utils.data.DataLoader(train_dataset, batch_size=BATCH_SIZE, shuffle=True)\n",
    "    val_loader = torch.utils.data.DataLoader(val_dataset, batch_size=BATCH_SIZE, shuffle=True)\n",
    "\n",
    "    device = torch.device('cuda' if torch.cuda.is_available() else 'cpu')\n",
    "\n",
    "    model = seq2seq_attn(VOCAB_SIZE, EMBEDDING_DIM, HIDDEN_DIM, NUM_LAYERS_ENCODER, NUM_LAYERS_DECODER, \n",
    "                    DROPOUT, BIDIRECTIONAL, CELL_TYPE_ENCODER, CELL_TYPE_DECODER, TEACHER_FORCING, \n",
    "                    BATCH_SIZE, MAX_SEQ_SIZE, debugging = False)\n",
    "\n",
    "    model = model.to(device)\n",
    "\n",
    "    criterion = nn.CrossEntropyLoss()\n",
    "    optimizer = optim.Adam(model.parameters())\n",
    "\n",
    "    for epoch in range(EPOCHS):\n",
    "        \n",
    "        model.train()\n",
    "        running_loss = 0.0\n",
    "        train_accuracy = 0\n",
    "        val_accuracy = 0\n",
    "        \n",
    "        for batch_idx, (inputs, targets) in (enumerate(train_loader)):\n",
    "            \n",
    "            inputs = inputs.to(device)\n",
    "            targets = targets.to(device)\n",
    "            \n",
    "            optimizer.zero_grad()\n",
    "            outputs = model(inputs, targets)\n",
    "            \n",
    "            train_accuracy += compare_sequences(targets, outputs)\n",
    "\n",
    "            loss = criterion(outputs.reshape(-1, model.output_size), targets.reshape(-1))\n",
    "            loss.backward()\n",
    "            optimizer.step()\n",
    "            \n",
    "            running_loss += loss.item()\n",
    "        \n",
    "\n",
    "        model.eval()\n",
    "        val_loss = 0.0\n",
    "        \n",
    "        with torch.no_grad():\n",
    "            for inputs, targets in (val_loader):\n",
    "            \n",
    "                inputs = inputs.to(device)\n",
    "                targets = targets.to(device)\n",
    "                outputs = model(inputs, targets)\n",
    "\n",
    "                loss = criterion(outputs.reshape(-1, model.output_size), targets.reshape(-1))\n",
    "                val_accuracy += compare_sequences(targets, outputs)\n",
    "                \n",
    "                val_loss += loss.item()\n",
    "        \n",
    "        wandb.log({\"train_loss\": running_loss/len(train_loader), \"val_loss\": val_loss/len(val_loader), \"epochs\" : epoch, \n",
    "                   \"training_accuracy\" : train_accuracy/len(train_dataset), \"val_accuracy\" : val_accuracy/len(val_dataset)})       \n",
    "        \n",
    "        torch.cuda.empty_cache()\n",
    "\n",
    "wandb.agent(sweep_id, train, count = 50) "
   ]
  },
  {
   "cell_type": "code",
   "execution_count": null,
   "metadata": {},
   "outputs": [],
   "source": [
    "from model import compare_sequences\n",
    "from tqdm import tqdm\n",
    "\n",
    "VOCAB_SIZE = 131\n",
    "EMBEDDING_DIM = 1024\n",
    "HIDDEN_DIM = 64\n",
    "EPOCHS = 20\n",
    "NUM_LAYERS_ENCODER = 6\n",
    "NUM_LAYERS_DECODER = 6\n",
    "DROPOUT = 0.2\n",
    "BIDIRECTIONAL = 1\n",
    "CELL_TYPE_ENCODER = \"GRU\"\n",
    "CELL_TYPE_DECODER = \"LSTM\"\n",
    "TEACHER_FORCING = 0.75\n",
    "MAX_SEQ_SIZE = 28\n",
    "\n",
    "import torch\n",
    "import torch.nn as nn\n",
    "import torch.optim as optim\n",
    "\n",
    "device = torch.device('cuda' if torch.cuda.is_available() else 'cpu')\n",
    "\n",
    "model = seq2seq_attn(VOCAB_SIZE, EMBEDDING_DIM, HIDDEN_DIM, NUM_LAYERS_ENCODER, NUM_LAYERS_DECODER, \n",
    "                 DROPOUT, BIDIRECTIONAL, CELL_TYPE_ENCODER, CELL_TYPE_DECODER, TEACHER_FORCING, \n",
    "                 BATCH_SIZE, MAX_SEQ_SIZE, debugging = False)\n",
    "\n",
    "model = model.to(device)\n",
    "\n",
    "criterion = nn.CrossEntropyLoss()\n",
    "optimizer = optim.Adam(model.parameters())\n",
    "\n",
    "for epoch in range(EPOCHS):\n",
    "    \n",
    "    model.train()\n",
    "    running_loss = 0.0\n",
    "    train_accuracy = 0\n",
    "    val_accuracy = 0\n",
    "    \n",
    "    for batch_idx, (inputs, targets) in tqdm(enumerate(train_loader)):\n",
    "        \n",
    "        inputs = inputs.to(device)\n",
    "        targets = targets.to(device)\n",
    "        \n",
    "        optimizer.zero_grad()\n",
    "        outputs = model(inputs, targets)\n",
    "        \n",
    "        train_accuracy += compare_sequences(targets, outputs)\n",
    "\n",
    "        loss = criterion(outputs.reshape(-1, model.output_size), targets.reshape(-1))\n",
    "        loss.backward()\n",
    "        optimizer.step()\n",
    "        \n",
    "        running_loss += loss.item()\n",
    "    \n",
    "\n",
    "    model.eval()\n",
    "    val_loss = 0.0\n",
    "    \n",
    "    with torch.no_grad():\n",
    "        for inputs, targets in tqdm(val_loader):\n",
    "           \n",
    "            inputs = inputs.to(device)\n",
    "            targets = targets.to(device)\n",
    "            outputs = model(inputs, targets)\n",
    "\n",
    "            loss = criterion(outputs.reshape(-1, model.output_size), targets.reshape(-1))\n",
    "            val_accuracy += compare_sequences(targets, outputs)\n",
    "            \n",
    "            val_loss += loss.item()\n",
    "    \n",
    "    print(f\"Epoch [{epoch+1}/{EPOCHS}], Validation Loss: {val_loss / len(val_loader)}\")\n",
    "    print(\"Training Accuracy {0}, Validation Accuracy {1}\".format(train_accuracy/(len(train_dataset)), val_accuracy/(len(val_dataset))))\n",
    "    torch.cuda.empty_cache()"
   ]
  },
  {
   "cell_type": "code",
   "execution_count": null,
   "metadata": {},
   "outputs": [],
   "source": []
  }
 ],
 "metadata": {
  "kernelspec": {
   "display_name": "Python 3",
   "language": "python",
   "name": "python3"
  },
  "language_info": {
   "codemirror_mode": {
    "name": "ipython",
    "version": 3
   },
   "file_extension": ".py",
   "mimetype": "text/x-python",
   "name": "python",
   "nbconvert_exporter": "python",
   "pygments_lexer": "ipython3",
   "version": "3.9.6"
  },
  "orig_nbformat": 4
 },
 "nbformat": 4,
 "nbformat_minor": 2
}
